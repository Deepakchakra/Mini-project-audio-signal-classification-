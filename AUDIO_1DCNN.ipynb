{
  "nbformat": 4,
  "nbformat_minor": 0,
  "metadata": {
    "colab": {
      "provenance": [],
      "authorship_tag": "ABX9TyP2Prgj4/7bZvuiSqBp5Sfy",
      "include_colab_link": true
    },
    "kernelspec": {
      "name": "python3",
      "display_name": "Python 3"
    },
    "language_info": {
      "name": "python"
    }
  },
  "cells": [
    {
      "cell_type": "markdown",
      "metadata": {
        "id": "view-in-github",
        "colab_type": "text"
      },
      "source": [
        "<a href=\"https://colab.research.google.com/github/Deepakchakra/Mini-project-audio-signal-classification-/blob/main/AUDIO_1DCNN.ipynb\" target=\"_parent\"><img src=\"https://colab.research.google.com/assets/colab-badge.svg\" alt=\"Open In Colab\"/></a>"
      ]
    },
    {
      "cell_type": "code",
      "execution_count": 1,
      "metadata": {
        "id": "SP6OH5KZiQe2"
      },
      "outputs": [],
      "source": [
        "import numpy as np\n",
        "from tensorflow.keras.models import Sequential\n",
        "from tensorflow.keras.layers import Conv1D, MaxPooling1D, Flatten, Dense\n",
        "import pandas as pd\n",
        "from sklearn.preprocessing import LabelEncoder, MultiLabelBinarizer"
      ]
    },
    {
      "cell_type": "code",
      "source": [
        "from google.colab import drive\n",
        "drive.mount(\"/content/drive/\")"
      ],
      "metadata": {
        "colab": {
          "base_uri": "https://localhost:8080/"
        },
        "id": "RIcrncgGsJB6",
        "outputId": "ea78cd29-b9a8-4db6-a7dc-6a043eb35451"
      },
      "execution_count": 2,
      "outputs": [
        {
          "output_type": "stream",
          "name": "stdout",
          "text": [
            "Drive already mounted at /content/drive/; to attempt to forcibly remount, call drive.mount(\"/content/drive/\", force_remount=True).\n"
          ]
        }
      ]
    },
    {
      "cell_type": "code",
      "source": [
        "df = pd.read_csv('/content/drive/MyDrive/audio_data/dataset/Music Info.csv')\n",
        "print(df.dtypes)\n",
        "df.head(7)"
      ],
      "metadata": {
        "colab": {
          "base_uri": "https://localhost:8080/",
          "height": 995
        },
        "id": "DMzodYXMlvUQ",
        "outputId": "bd52c4d1-fdf3-422b-f10d-5d7c3465439c"
      },
      "execution_count": 3,
      "outputs": [
        {
          "output_type": "stream",
          "name": "stdout",
          "text": [
            "track_id                object\n",
            "name                    object\n",
            "artist                  object\n",
            "spotify_preview_url     object\n",
            "spotify_id              object\n",
            "tags                    object\n",
            "genre                   object\n",
            "year                     int64\n",
            "duration_ms              int64\n",
            "danceability           float64\n",
            "energy                 float64\n",
            "key                      int64\n",
            "loudness               float64\n",
            "mode                     int64\n",
            "speechiness            float64\n",
            "acousticness           float64\n",
            "instrumentalness       float64\n",
            "liveness               float64\n",
            "valence                float64\n",
            "tempo                  float64\n",
            "time_signature           int64\n",
            "dtype: object\n"
          ]
        },
        {
          "output_type": "execute_result",
          "data": {
            "text/plain": [
              "             track_id              name           artist  \\\n",
              "0  TRIOREW128F424EAF0    Mr. Brightside      The Killers   \n",
              "1  TRRIVDJ128F429B0E8        Wonderwall            Oasis   \n",
              "2  TROUVHL128F426C441   Come as You Are          Nirvana   \n",
              "3  TRUEIND128F93038C4       Take Me Out  Franz Ferdinand   \n",
              "4  TRLNZBD128F935E4D8             Creep        Radiohead   \n",
              "5  TRUMISQ128F9340BEE  Somebody Told Me      The Killers   \n",
              "6  TRVCCWR128F9304A30      Viva la Vida         Coldplay   \n",
              "\n",
              "                                 spotify_preview_url              spotify_id  \\\n",
              "0  https://p.scdn.co/mp3-preview/4d26180e6961fd46...  09ZQ5TmUG8TSL56n0knqrj   \n",
              "1  https://p.scdn.co/mp3-preview/d012e536916c927b...  06UfBBDISthj1ZJAtX4xjj   \n",
              "2  https://p.scdn.co/mp3-preview/a1c11bb1cb231031...  0keNu0t0tqsWtExGM3nT1D   \n",
              "3  https://p.scdn.co/mp3-preview/399c401370438be4...  0ancVQ9wEcHVd0RrGICTE4   \n",
              "4  https://p.scdn.co/mp3-preview/e7eb60e9466bc3a2...  01QoK9DA7VTeTSE3MNzp4I   \n",
              "5  https://p.scdn.co/mp3-preview/0d07673cfb46218a...  0FNmIQ7u45Lhdn6RHhSLix   \n",
              "6  https://p.scdn.co/mp3-preview/ab747fed1bfab2ac...  08A1lZeyLMWH58DT6aYjnC   \n",
              "\n",
              "                                                tags genre  year  duration_ms  \\\n",
              "0  rock, alternative, indie, alternative_rock, in...   NaN  2004       222200   \n",
              "1  rock, alternative, indie, pop, alternative_roc...   NaN  2006       258613   \n",
              "2   rock, alternative, alternative_rock, 90s, grunge   RnB  1991       218920   \n",
              "3  rock, alternative, indie, alternative_rock, in...   NaN  2004       237026   \n",
              "4  rock, alternative, indie, alternative_rock, in...   RnB  2008       238640   \n",
              "5  rock, alternative, indie, pop, alternative_roc...   NaN  2005       198480   \n",
              "6  rock, alternative, indie, pop, alternative_roc...   NaN  2013       235384   \n",
              "\n",
              "   danceability  ...  key  loudness  mode  speechiness  acousticness  \\\n",
              "0         0.355  ...    1    -4.360     1       0.0746      0.001190   \n",
              "1         0.409  ...    2    -4.373     1       0.0336      0.000807   \n",
              "2         0.508  ...    4    -5.783     0       0.0400      0.000175   \n",
              "3         0.279  ...    9    -8.851     1       0.0371      0.000389   \n",
              "4         0.515  ...    7    -9.935     1       0.0369      0.010200   \n",
              "5         0.508  ...   10    -4.289     0       0.0847      0.000087   \n",
              "6         0.588  ...    8    -7.903     1       0.1050      0.153000   \n",
              "\n",
              "   instrumentalness  liveness  valence    tempo  time_signature  \n",
              "0          0.000000    0.0971    0.240  148.114               4  \n",
              "1          0.000000    0.2070    0.651  174.426               4  \n",
              "2          0.000459    0.0878    0.543  120.012               4  \n",
              "3          0.000655    0.1330    0.490  104.560               4  \n",
              "4          0.000141    0.1290    0.104   91.841               4  \n",
              "5          0.000643    0.0641    0.704  138.030               4  \n",
              "6          0.000000    0.0634    0.520  137.973               4  \n",
              "\n",
              "[7 rows x 21 columns]"
            ],
            "text/html": [
              "\n",
              "  <div id=\"df-9e47f777-64c6-4b65-841d-e75f5fbb33a0\" class=\"colab-df-container\">\n",
              "    <div>\n",
              "<style scoped>\n",
              "    .dataframe tbody tr th:only-of-type {\n",
              "        vertical-align: middle;\n",
              "    }\n",
              "\n",
              "    .dataframe tbody tr th {\n",
              "        vertical-align: top;\n",
              "    }\n",
              "\n",
              "    .dataframe thead th {\n",
              "        text-align: right;\n",
              "    }\n",
              "</style>\n",
              "<table border=\"1\" class=\"dataframe\">\n",
              "  <thead>\n",
              "    <tr style=\"text-align: right;\">\n",
              "      <th></th>\n",
              "      <th>track_id</th>\n",
              "      <th>name</th>\n",
              "      <th>artist</th>\n",
              "      <th>spotify_preview_url</th>\n",
              "      <th>spotify_id</th>\n",
              "      <th>tags</th>\n",
              "      <th>genre</th>\n",
              "      <th>year</th>\n",
              "      <th>duration_ms</th>\n",
              "      <th>danceability</th>\n",
              "      <th>...</th>\n",
              "      <th>key</th>\n",
              "      <th>loudness</th>\n",
              "      <th>mode</th>\n",
              "      <th>speechiness</th>\n",
              "      <th>acousticness</th>\n",
              "      <th>instrumentalness</th>\n",
              "      <th>liveness</th>\n",
              "      <th>valence</th>\n",
              "      <th>tempo</th>\n",
              "      <th>time_signature</th>\n",
              "    </tr>\n",
              "  </thead>\n",
              "  <tbody>\n",
              "    <tr>\n",
              "      <th>0</th>\n",
              "      <td>TRIOREW128F424EAF0</td>\n",
              "      <td>Mr. Brightside</td>\n",
              "      <td>The Killers</td>\n",
              "      <td>https://p.scdn.co/mp3-preview/4d26180e6961fd46...</td>\n",
              "      <td>09ZQ5TmUG8TSL56n0knqrj</td>\n",
              "      <td>rock, alternative, indie, alternative_rock, in...</td>\n",
              "      <td>NaN</td>\n",
              "      <td>2004</td>\n",
              "      <td>222200</td>\n",
              "      <td>0.355</td>\n",
              "      <td>...</td>\n",
              "      <td>1</td>\n",
              "      <td>-4.360</td>\n",
              "      <td>1</td>\n",
              "      <td>0.0746</td>\n",
              "      <td>0.001190</td>\n",
              "      <td>0.000000</td>\n",
              "      <td>0.0971</td>\n",
              "      <td>0.240</td>\n",
              "      <td>148.114</td>\n",
              "      <td>4</td>\n",
              "    </tr>\n",
              "    <tr>\n",
              "      <th>1</th>\n",
              "      <td>TRRIVDJ128F429B0E8</td>\n",
              "      <td>Wonderwall</td>\n",
              "      <td>Oasis</td>\n",
              "      <td>https://p.scdn.co/mp3-preview/d012e536916c927b...</td>\n",
              "      <td>06UfBBDISthj1ZJAtX4xjj</td>\n",
              "      <td>rock, alternative, indie, pop, alternative_roc...</td>\n",
              "      <td>NaN</td>\n",
              "      <td>2006</td>\n",
              "      <td>258613</td>\n",
              "      <td>0.409</td>\n",
              "      <td>...</td>\n",
              "      <td>2</td>\n",
              "      <td>-4.373</td>\n",
              "      <td>1</td>\n",
              "      <td>0.0336</td>\n",
              "      <td>0.000807</td>\n",
              "      <td>0.000000</td>\n",
              "      <td>0.2070</td>\n",
              "      <td>0.651</td>\n",
              "      <td>174.426</td>\n",
              "      <td>4</td>\n",
              "    </tr>\n",
              "    <tr>\n",
              "      <th>2</th>\n",
              "      <td>TROUVHL128F426C441</td>\n",
              "      <td>Come as You Are</td>\n",
              "      <td>Nirvana</td>\n",
              "      <td>https://p.scdn.co/mp3-preview/a1c11bb1cb231031...</td>\n",
              "      <td>0keNu0t0tqsWtExGM3nT1D</td>\n",
              "      <td>rock, alternative, alternative_rock, 90s, grunge</td>\n",
              "      <td>RnB</td>\n",
              "      <td>1991</td>\n",
              "      <td>218920</td>\n",
              "      <td>0.508</td>\n",
              "      <td>...</td>\n",
              "      <td>4</td>\n",
              "      <td>-5.783</td>\n",
              "      <td>0</td>\n",
              "      <td>0.0400</td>\n",
              "      <td>0.000175</td>\n",
              "      <td>0.000459</td>\n",
              "      <td>0.0878</td>\n",
              "      <td>0.543</td>\n",
              "      <td>120.012</td>\n",
              "      <td>4</td>\n",
              "    </tr>\n",
              "    <tr>\n",
              "      <th>3</th>\n",
              "      <td>TRUEIND128F93038C4</td>\n",
              "      <td>Take Me Out</td>\n",
              "      <td>Franz Ferdinand</td>\n",
              "      <td>https://p.scdn.co/mp3-preview/399c401370438be4...</td>\n",
              "      <td>0ancVQ9wEcHVd0RrGICTE4</td>\n",
              "      <td>rock, alternative, indie, alternative_rock, in...</td>\n",
              "      <td>NaN</td>\n",
              "      <td>2004</td>\n",
              "      <td>237026</td>\n",
              "      <td>0.279</td>\n",
              "      <td>...</td>\n",
              "      <td>9</td>\n",
              "      <td>-8.851</td>\n",
              "      <td>1</td>\n",
              "      <td>0.0371</td>\n",
              "      <td>0.000389</td>\n",
              "      <td>0.000655</td>\n",
              "      <td>0.1330</td>\n",
              "      <td>0.490</td>\n",
              "      <td>104.560</td>\n",
              "      <td>4</td>\n",
              "    </tr>\n",
              "    <tr>\n",
              "      <th>4</th>\n",
              "      <td>TRLNZBD128F935E4D8</td>\n",
              "      <td>Creep</td>\n",
              "      <td>Radiohead</td>\n",
              "      <td>https://p.scdn.co/mp3-preview/e7eb60e9466bc3a2...</td>\n",
              "      <td>01QoK9DA7VTeTSE3MNzp4I</td>\n",
              "      <td>rock, alternative, indie, alternative_rock, in...</td>\n",
              "      <td>RnB</td>\n",
              "      <td>2008</td>\n",
              "      <td>238640</td>\n",
              "      <td>0.515</td>\n",
              "      <td>...</td>\n",
              "      <td>7</td>\n",
              "      <td>-9.935</td>\n",
              "      <td>1</td>\n",
              "      <td>0.0369</td>\n",
              "      <td>0.010200</td>\n",
              "      <td>0.000141</td>\n",
              "      <td>0.1290</td>\n",
              "      <td>0.104</td>\n",
              "      <td>91.841</td>\n",
              "      <td>4</td>\n",
              "    </tr>\n",
              "    <tr>\n",
              "      <th>5</th>\n",
              "      <td>TRUMISQ128F9340BEE</td>\n",
              "      <td>Somebody Told Me</td>\n",
              "      <td>The Killers</td>\n",
              "      <td>https://p.scdn.co/mp3-preview/0d07673cfb46218a...</td>\n",
              "      <td>0FNmIQ7u45Lhdn6RHhSLix</td>\n",
              "      <td>rock, alternative, indie, pop, alternative_roc...</td>\n",
              "      <td>NaN</td>\n",
              "      <td>2005</td>\n",
              "      <td>198480</td>\n",
              "      <td>0.508</td>\n",
              "      <td>...</td>\n",
              "      <td>10</td>\n",
              "      <td>-4.289</td>\n",
              "      <td>0</td>\n",
              "      <td>0.0847</td>\n",
              "      <td>0.000087</td>\n",
              "      <td>0.000643</td>\n",
              "      <td>0.0641</td>\n",
              "      <td>0.704</td>\n",
              "      <td>138.030</td>\n",
              "      <td>4</td>\n",
              "    </tr>\n",
              "    <tr>\n",
              "      <th>6</th>\n",
              "      <td>TRVCCWR128F9304A30</td>\n",
              "      <td>Viva la Vida</td>\n",
              "      <td>Coldplay</td>\n",
              "      <td>https://p.scdn.co/mp3-preview/ab747fed1bfab2ac...</td>\n",
              "      <td>08A1lZeyLMWH58DT6aYjnC</td>\n",
              "      <td>rock, alternative, indie, pop, alternative_roc...</td>\n",
              "      <td>NaN</td>\n",
              "      <td>2013</td>\n",
              "      <td>235384</td>\n",
              "      <td>0.588</td>\n",
              "      <td>...</td>\n",
              "      <td>8</td>\n",
              "      <td>-7.903</td>\n",
              "      <td>1</td>\n",
              "      <td>0.1050</td>\n",
              "      <td>0.153000</td>\n",
              "      <td>0.000000</td>\n",
              "      <td>0.0634</td>\n",
              "      <td>0.520</td>\n",
              "      <td>137.973</td>\n",
              "      <td>4</td>\n",
              "    </tr>\n",
              "  </tbody>\n",
              "</table>\n",
              "<p>7 rows × 21 columns</p>\n",
              "</div>\n",
              "    <div class=\"colab-df-buttons\">\n",
              "\n",
              "  <div class=\"colab-df-container\">\n",
              "    <button class=\"colab-df-convert\" onclick=\"convertToInteractive('df-9e47f777-64c6-4b65-841d-e75f5fbb33a0')\"\n",
              "            title=\"Convert this dataframe to an interactive table.\"\n",
              "            style=\"display:none;\">\n",
              "\n",
              "  <svg xmlns=\"http://www.w3.org/2000/svg\" height=\"24px\" viewBox=\"0 -960 960 960\">\n",
              "    <path d=\"M120-120v-720h720v720H120Zm60-500h600v-160H180v160Zm220 220h160v-160H400v160Zm0 220h160v-160H400v160ZM180-400h160v-160H180v160Zm440 0h160v-160H620v160ZM180-180h160v-160H180v160Zm440 0h160v-160H620v160Z\"/>\n",
              "  </svg>\n",
              "    </button>\n",
              "\n",
              "  <style>\n",
              "    .colab-df-container {\n",
              "      display:flex;\n",
              "      gap: 12px;\n",
              "    }\n",
              "\n",
              "    .colab-df-convert {\n",
              "      background-color: #E8F0FE;\n",
              "      border: none;\n",
              "      border-radius: 50%;\n",
              "      cursor: pointer;\n",
              "      display: none;\n",
              "      fill: #1967D2;\n",
              "      height: 32px;\n",
              "      padding: 0 0 0 0;\n",
              "      width: 32px;\n",
              "    }\n",
              "\n",
              "    .colab-df-convert:hover {\n",
              "      background-color: #E2EBFA;\n",
              "      box-shadow: 0px 1px 2px rgba(60, 64, 67, 0.3), 0px 1px 3px 1px rgba(60, 64, 67, 0.15);\n",
              "      fill: #174EA6;\n",
              "    }\n",
              "\n",
              "    .colab-df-buttons div {\n",
              "      margin-bottom: 4px;\n",
              "    }\n",
              "\n",
              "    [theme=dark] .colab-df-convert {\n",
              "      background-color: #3B4455;\n",
              "      fill: #D2E3FC;\n",
              "    }\n",
              "\n",
              "    [theme=dark] .colab-df-convert:hover {\n",
              "      background-color: #434B5C;\n",
              "      box-shadow: 0px 1px 3px 1px rgba(0, 0, 0, 0.15);\n",
              "      filter: drop-shadow(0px 1px 2px rgba(0, 0, 0, 0.3));\n",
              "      fill: #FFFFFF;\n",
              "    }\n",
              "  </style>\n",
              "\n",
              "    <script>\n",
              "      const buttonEl =\n",
              "        document.querySelector('#df-9e47f777-64c6-4b65-841d-e75f5fbb33a0 button.colab-df-convert');\n",
              "      buttonEl.style.display =\n",
              "        google.colab.kernel.accessAllowed ? 'block' : 'none';\n",
              "\n",
              "      async function convertToInteractive(key) {\n",
              "        const element = document.querySelector('#df-9e47f777-64c6-4b65-841d-e75f5fbb33a0');\n",
              "        const dataTable =\n",
              "          await google.colab.kernel.invokeFunction('convertToInteractive',\n",
              "                                                    [key], {});\n",
              "        if (!dataTable) return;\n",
              "\n",
              "        const docLinkHtml = 'Like what you see? Visit the ' +\n",
              "          '<a target=\"_blank\" href=https://colab.research.google.com/notebooks/data_table.ipynb>data table notebook</a>'\n",
              "          + ' to learn more about interactive tables.';\n",
              "        element.innerHTML = '';\n",
              "        dataTable['output_type'] = 'display_data';\n",
              "        await google.colab.output.renderOutput(dataTable, element);\n",
              "        const docLink = document.createElement('div');\n",
              "        docLink.innerHTML = docLinkHtml;\n",
              "        element.appendChild(docLink);\n",
              "      }\n",
              "    </script>\n",
              "  </div>\n",
              "\n",
              "\n",
              "    <div id=\"df-de99b1ab-893c-46fc-9d8b-11917e00ffae\">\n",
              "      <button class=\"colab-df-quickchart\" onclick=\"quickchart('df-de99b1ab-893c-46fc-9d8b-11917e00ffae')\"\n",
              "                title=\"Suggest charts\"\n",
              "                style=\"display:none;\">\n",
              "\n",
              "<svg xmlns=\"http://www.w3.org/2000/svg\" height=\"24px\"viewBox=\"0 0 24 24\"\n",
              "     width=\"24px\">\n",
              "    <g>\n",
              "        <path d=\"M19 3H5c-1.1 0-2 .9-2 2v14c0 1.1.9 2 2 2h14c1.1 0 2-.9 2-2V5c0-1.1-.9-2-2-2zM9 17H7v-7h2v7zm4 0h-2V7h2v10zm4 0h-2v-4h2v4z\"/>\n",
              "    </g>\n",
              "</svg>\n",
              "      </button>\n",
              "\n",
              "<style>\n",
              "  .colab-df-quickchart {\n",
              "      --bg-color: #E8F0FE;\n",
              "      --fill-color: #1967D2;\n",
              "      --hover-bg-color: #E2EBFA;\n",
              "      --hover-fill-color: #174EA6;\n",
              "      --disabled-fill-color: #AAA;\n",
              "      --disabled-bg-color: #DDD;\n",
              "  }\n",
              "\n",
              "  [theme=dark] .colab-df-quickchart {\n",
              "      --bg-color: #3B4455;\n",
              "      --fill-color: #D2E3FC;\n",
              "      --hover-bg-color: #434B5C;\n",
              "      --hover-fill-color: #FFFFFF;\n",
              "      --disabled-bg-color: #3B4455;\n",
              "      --disabled-fill-color: #666;\n",
              "  }\n",
              "\n",
              "  .colab-df-quickchart {\n",
              "    background-color: var(--bg-color);\n",
              "    border: none;\n",
              "    border-radius: 50%;\n",
              "    cursor: pointer;\n",
              "    display: none;\n",
              "    fill: var(--fill-color);\n",
              "    height: 32px;\n",
              "    padding: 0;\n",
              "    width: 32px;\n",
              "  }\n",
              "\n",
              "  .colab-df-quickchart:hover {\n",
              "    background-color: var(--hover-bg-color);\n",
              "    box-shadow: 0 1px 2px rgba(60, 64, 67, 0.3), 0 1px 3px 1px rgba(60, 64, 67, 0.15);\n",
              "    fill: var(--button-hover-fill-color);\n",
              "  }\n",
              "\n",
              "  .colab-df-quickchart-complete:disabled,\n",
              "  .colab-df-quickchart-complete:disabled:hover {\n",
              "    background-color: var(--disabled-bg-color);\n",
              "    fill: var(--disabled-fill-color);\n",
              "    box-shadow: none;\n",
              "  }\n",
              "\n",
              "  .colab-df-spinner {\n",
              "    border: 2px solid var(--fill-color);\n",
              "    border-color: transparent;\n",
              "    border-bottom-color: var(--fill-color);\n",
              "    animation:\n",
              "      spin 1s steps(1) infinite;\n",
              "  }\n",
              "\n",
              "  @keyframes spin {\n",
              "    0% {\n",
              "      border-color: transparent;\n",
              "      border-bottom-color: var(--fill-color);\n",
              "      border-left-color: var(--fill-color);\n",
              "    }\n",
              "    20% {\n",
              "      border-color: transparent;\n",
              "      border-left-color: var(--fill-color);\n",
              "      border-top-color: var(--fill-color);\n",
              "    }\n",
              "    30% {\n",
              "      border-color: transparent;\n",
              "      border-left-color: var(--fill-color);\n",
              "      border-top-color: var(--fill-color);\n",
              "      border-right-color: var(--fill-color);\n",
              "    }\n",
              "    40% {\n",
              "      border-color: transparent;\n",
              "      border-right-color: var(--fill-color);\n",
              "      border-top-color: var(--fill-color);\n",
              "    }\n",
              "    60% {\n",
              "      border-color: transparent;\n",
              "      border-right-color: var(--fill-color);\n",
              "    }\n",
              "    80% {\n",
              "      border-color: transparent;\n",
              "      border-right-color: var(--fill-color);\n",
              "      border-bottom-color: var(--fill-color);\n",
              "    }\n",
              "    90% {\n",
              "      border-color: transparent;\n",
              "      border-bottom-color: var(--fill-color);\n",
              "    }\n",
              "  }\n",
              "</style>\n",
              "\n",
              "      <script>\n",
              "        async function quickchart(key) {\n",
              "          const quickchartButtonEl =\n",
              "            document.querySelector('#' + key + ' button');\n",
              "          quickchartButtonEl.disabled = true;  // To prevent multiple clicks.\n",
              "          quickchartButtonEl.classList.add('colab-df-spinner');\n",
              "          try {\n",
              "            const charts = await google.colab.kernel.invokeFunction(\n",
              "                'suggestCharts', [key], {});\n",
              "          } catch (error) {\n",
              "            console.error('Error during call to suggestCharts:', error);\n",
              "          }\n",
              "          quickchartButtonEl.classList.remove('colab-df-spinner');\n",
              "          quickchartButtonEl.classList.add('colab-df-quickchart-complete');\n",
              "        }\n",
              "        (() => {\n",
              "          let quickchartButtonEl =\n",
              "            document.querySelector('#df-de99b1ab-893c-46fc-9d8b-11917e00ffae button');\n",
              "          quickchartButtonEl.style.display =\n",
              "            google.colab.kernel.accessAllowed ? 'block' : 'none';\n",
              "        })();\n",
              "      </script>\n",
              "    </div>\n",
              "\n",
              "    </div>\n",
              "  </div>\n"
            ],
            "application/vnd.google.colaboratory.intrinsic+json": {
              "type": "dataframe",
              "variable_name": "df"
            }
          },
          "metadata": {},
          "execution_count": 3
        }
      ]
    },
    {
      "cell_type": "code",
      "source": [
        "print(df.info())"
      ],
      "metadata": {
        "colab": {
          "base_uri": "https://localhost:8080/"
        },
        "id": "wqdARehOE6I9",
        "outputId": "bc71d860-c887-4740-b9f4-634cb1bc48ec"
      },
      "execution_count": 4,
      "outputs": [
        {
          "output_type": "stream",
          "name": "stdout",
          "text": [
            "<class 'pandas.core.frame.DataFrame'>\n",
            "RangeIndex: 50683 entries, 0 to 50682\n",
            "Data columns (total 21 columns):\n",
            " #   Column               Non-Null Count  Dtype  \n",
            "---  ------               --------------  -----  \n",
            " 0   track_id             50683 non-null  object \n",
            " 1   name                 50683 non-null  object \n",
            " 2   artist               50683 non-null  object \n",
            " 3   spotify_preview_url  50683 non-null  object \n",
            " 4   spotify_id           50683 non-null  object \n",
            " 5   tags                 49556 non-null  object \n",
            " 6   genre                22348 non-null  object \n",
            " 7   year                 50683 non-null  int64  \n",
            " 8   duration_ms          50683 non-null  int64  \n",
            " 9   danceability         50683 non-null  float64\n",
            " 10  energy               50683 non-null  float64\n",
            " 11  key                  50683 non-null  int64  \n",
            " 12  loudness             50683 non-null  float64\n",
            " 13  mode                 50683 non-null  int64  \n",
            " 14  speechiness          50683 non-null  float64\n",
            " 15  acousticness         50683 non-null  float64\n",
            " 16  instrumentalness     50683 non-null  float64\n",
            " 17  liveness             50683 non-null  float64\n",
            " 18  valence              50683 non-null  float64\n",
            " 19  tempo                50683 non-null  float64\n",
            " 20  time_signature       50683 non-null  int64  \n",
            "dtypes: float64(9), int64(5), object(7)\n",
            "memory usage: 8.1+ MB\n",
            "None\n"
          ]
        }
      ]
    },
    {
      "cell_type": "code",
      "source": [
        "# Convert all object (categorical) columns to numeric codes\n",
        "for col in df.select_dtypes(include='object').columns:\n",
        "    df[col] = df[col].astype('category').cat.codes\n"
      ],
      "metadata": {
        "id": "bohxG586FKxi"
      },
      "execution_count": 5,
      "outputs": []
    },
    {
      "cell_type": "code",
      "source": [
        "print(df.dtypes)"
      ],
      "metadata": {
        "colab": {
          "base_uri": "https://localhost:8080/"
        },
        "id": "1K2PqBJjGEtl",
        "outputId": "c2bf62e4-73f3-429f-a1b8-0c8c35c2e844"
      },
      "execution_count": 6,
      "outputs": [
        {
          "output_type": "stream",
          "name": "stdout",
          "text": [
            "track_id                 int32\n",
            "name                     int32\n",
            "artist                   int16\n",
            "spotify_preview_url      int32\n",
            "spotify_id               int32\n",
            "tags                     int16\n",
            "genre                     int8\n",
            "year                     int64\n",
            "duration_ms              int64\n",
            "danceability           float64\n",
            "energy                 float64\n",
            "key                      int64\n",
            "loudness               float64\n",
            "mode                     int64\n",
            "speechiness            float64\n",
            "acousticness           float64\n",
            "instrumentalness       float64\n",
            "liveness               float64\n",
            "valence                float64\n",
            "tempo                  float64\n",
            "time_signature           int64\n",
            "dtype: object\n"
          ]
        }
      ]
    },
    {
      "cell_type": "code",
      "source": [
        "# Selecting the Feature, by remove the unused feature\n",
        "feature = ['time_signature']\n",
        "x = df.drop(feature, axis=1)\n",
        "# Set The Target\n",
        "y= df[\"time_signature\"]"
      ],
      "metadata": {
        "id": "bThkyGSIuId4"
      },
      "execution_count": 7,
      "outputs": []
    },
    {
      "cell_type": "code",
      "source": [
        "from sklearn.model_selection import train_test_split, cross_val_score\n",
        "X_train, X_test, y_train, y_test = train_test_split(x, y, shuffle = False, test_size=0.25, random_state=42)\n",
        "\n"
      ],
      "metadata": {
        "id": "hmXbeDkexsn2"
      },
      "execution_count": 25,
      "outputs": []
    },
    {
      "cell_type": "code",
      "source": [
        "print(X_train.shape)\n",
        "print(y_train.shape)"
      ],
      "metadata": {
        "colab": {
          "base_uri": "https://localhost:8080/"
        },
        "id": "AFsmRU7gHM2k",
        "outputId": "b55a81ba-e71f-4047-8611-2e9faf313da8"
      },
      "execution_count": 26,
      "outputs": [
        {
          "output_type": "stream",
          "name": "stdout",
          "text": [
            "(38012, 20)\n",
            "(38012,)\n"
          ]
        }
      ]
    },
    {
      "cell_type": "code",
      "source": [
        "import numpy as np\n",
        "\n",
        "X_train = np.expand_dims(X_train, axis=2)\n",
        "X_test  = np.expand_dims(X_test, axis=2)\n",
        "\n",
        "print(X_train.shape)"
      ],
      "metadata": {
        "colab": {
          "base_uri": "https://localhost:8080/"
        },
        "id": "iuvPSJrgIDot",
        "outputId": "03050f64-0a9c-4793-97d3-fdd959cafa7e"
      },
      "execution_count": 27,
      "outputs": [
        {
          "output_type": "stream",
          "name": "stdout",
          "text": [
            "(38012, 20, 1)\n"
          ]
        }
      ]
    },
    {
      "cell_type": "code",
      "source": [
        "print(X_train.shape)\n",
        "print(y_train.shape)"
      ],
      "metadata": {
        "colab": {
          "base_uri": "https://localhost:8080/"
        },
        "id": "kix-H2QoIkl5",
        "outputId": "e8214a8b-f72f-43e4-ef03-542418625edf"
      },
      "execution_count": 28,
      "outputs": [
        {
          "output_type": "stream",
          "name": "stdout",
          "text": [
            "(38012, 20, 1)\n",
            "(38012,)\n"
          ]
        }
      ]
    },
    {
      "cell_type": "code",
      "source": [
        "model = Sequential([\n",
        "    Conv1D(filters=64, kernel_size=2, activation='relu', input_shape=(20,1)),\n",
        "    MaxPooling1D(pool_size=2),\n",
        "    Conv1D(filters=128, kernel_size=2, activation='relu'),\n",
        "    MaxPooling1D(pool_size=2),\n",
        "    Conv1D(filters=256, kernel_size=2, activation='relu'),\n",
        "    MaxPooling1D(pool_size=2),\n",
        "    Flatten(),\n",
        "    Dense(64, activation='relu'),\n",
        "    Dense(15, activation='softmax')  # Multipal classification, so use softmax activation\n",
        "])"
      ],
      "metadata": {
        "id": "10EaLyFHwWXB"
      },
      "execution_count": 30,
      "outputs": []
    },
    {
      "cell_type": "code",
      "source": [
        "model.compile(loss = 'sparse_categorical_crossentropy', optimizer = \"adam\", metrics = ['accuracy'])\n",
        "\n",
        "# Print model summary\n",
        "model.summary()"
      ],
      "metadata": {
        "colab": {
          "base_uri": "https://localhost:8080/",
          "height": 435
        },
        "id": "Hbu-hKc0zUBV",
        "outputId": "ebf79cad-883a-4377-867d-2e2672bca520"
      },
      "execution_count": 31,
      "outputs": [
        {
          "output_type": "display_data",
          "data": {
            "text/plain": [
              "\u001b[1mModel: \"sequential_3\"\u001b[0m\n"
            ],
            "text/html": [
              "<pre style=\"white-space:pre;overflow-x:auto;line-height:normal;font-family:Menlo,'DejaVu Sans Mono',consolas,'Courier New',monospace\"><span style=\"font-weight: bold\">Model: \"sequential_3\"</span>\n",
              "</pre>\n"
            ]
          },
          "metadata": {}
        },
        {
          "output_type": "display_data",
          "data": {
            "text/plain": [
              "┏━━━━━━━━━━━━━━━━━━━━━━━━━━━━━━━━━┳━━━━━━━━━━━━━━━━━━━━━━━━┳━━━━━━━━━━━━━━━┓\n",
              "┃\u001b[1m \u001b[0m\u001b[1mLayer (type)                   \u001b[0m\u001b[1m \u001b[0m┃\u001b[1m \u001b[0m\u001b[1mOutput Shape          \u001b[0m\u001b[1m \u001b[0m┃\u001b[1m \u001b[0m\u001b[1m      Param #\u001b[0m\u001b[1m \u001b[0m┃\n",
              "┡━━━━━━━━━━━━━━━━━━━━━━━━━━━━━━━━━╇━━━━━━━━━━━━━━━━━━━━━━━━╇━━━━━━━━━━━━━━━┩\n",
              "│ conv1d_7 (\u001b[38;5;33mConv1D\u001b[0m)               │ (\u001b[38;5;45mNone\u001b[0m, \u001b[38;5;34m19\u001b[0m, \u001b[38;5;34m64\u001b[0m)         │           \u001b[38;5;34m192\u001b[0m │\n",
              "├─────────────────────────────────┼────────────────────────┼───────────────┤\n",
              "│ max_pooling1d_7 (\u001b[38;5;33mMaxPooling1D\u001b[0m)  │ (\u001b[38;5;45mNone\u001b[0m, \u001b[38;5;34m9\u001b[0m, \u001b[38;5;34m64\u001b[0m)          │             \u001b[38;5;34m0\u001b[0m │\n",
              "├─────────────────────────────────┼────────────────────────┼───────────────┤\n",
              "│ conv1d_8 (\u001b[38;5;33mConv1D\u001b[0m)               │ (\u001b[38;5;45mNone\u001b[0m, \u001b[38;5;34m8\u001b[0m, \u001b[38;5;34m128\u001b[0m)         │        \u001b[38;5;34m16,512\u001b[0m │\n",
              "├─────────────────────────────────┼────────────────────────┼───────────────┤\n",
              "│ max_pooling1d_8 (\u001b[38;5;33mMaxPooling1D\u001b[0m)  │ (\u001b[38;5;45mNone\u001b[0m, \u001b[38;5;34m4\u001b[0m, \u001b[38;5;34m128\u001b[0m)         │             \u001b[38;5;34m0\u001b[0m │\n",
              "├─────────────────────────────────┼────────────────────────┼───────────────┤\n",
              "│ conv1d_9 (\u001b[38;5;33mConv1D\u001b[0m)               │ (\u001b[38;5;45mNone\u001b[0m, \u001b[38;5;34m3\u001b[0m, \u001b[38;5;34m256\u001b[0m)         │        \u001b[38;5;34m65,792\u001b[0m │\n",
              "├─────────────────────────────────┼────────────────────────┼───────────────┤\n",
              "│ max_pooling1d_9 (\u001b[38;5;33mMaxPooling1D\u001b[0m)  │ (\u001b[38;5;45mNone\u001b[0m, \u001b[38;5;34m1\u001b[0m, \u001b[38;5;34m256\u001b[0m)         │             \u001b[38;5;34m0\u001b[0m │\n",
              "├─────────────────────────────────┼────────────────────────┼───────────────┤\n",
              "│ flatten_3 (\u001b[38;5;33mFlatten\u001b[0m)             │ (\u001b[38;5;45mNone\u001b[0m, \u001b[38;5;34m256\u001b[0m)            │             \u001b[38;5;34m0\u001b[0m │\n",
              "├─────────────────────────────────┼────────────────────────┼───────────────┤\n",
              "│ dense_6 (\u001b[38;5;33mDense\u001b[0m)                 │ (\u001b[38;5;45mNone\u001b[0m, \u001b[38;5;34m64\u001b[0m)             │        \u001b[38;5;34m16,448\u001b[0m │\n",
              "├─────────────────────────────────┼────────────────────────┼───────────────┤\n",
              "│ dense_7 (\u001b[38;5;33mDense\u001b[0m)                 │ (\u001b[38;5;45mNone\u001b[0m, \u001b[38;5;34m15\u001b[0m)             │           \u001b[38;5;34m975\u001b[0m │\n",
              "└─────────────────────────────────┴────────────────────────┴───────────────┘\n"
            ],
            "text/html": [
              "<pre style=\"white-space:pre;overflow-x:auto;line-height:normal;font-family:Menlo,'DejaVu Sans Mono',consolas,'Courier New',monospace\">┏━━━━━━━━━━━━━━━━━━━━━━━━━━━━━━━━━┳━━━━━━━━━━━━━━━━━━━━━━━━┳━━━━━━━━━━━━━━━┓\n",
              "┃<span style=\"font-weight: bold\"> Layer (type)                    </span>┃<span style=\"font-weight: bold\"> Output Shape           </span>┃<span style=\"font-weight: bold\">       Param # </span>┃\n",
              "┡━━━━━━━━━━━━━━━━━━━━━━━━━━━━━━━━━╇━━━━━━━━━━━━━━━━━━━━━━━━╇━━━━━━━━━━━━━━━┩\n",
              "│ conv1d_7 (<span style=\"color: #0087ff; text-decoration-color: #0087ff\">Conv1D</span>)               │ (<span style=\"color: #00d7ff; text-decoration-color: #00d7ff\">None</span>, <span style=\"color: #00af00; text-decoration-color: #00af00\">19</span>, <span style=\"color: #00af00; text-decoration-color: #00af00\">64</span>)         │           <span style=\"color: #00af00; text-decoration-color: #00af00\">192</span> │\n",
              "├─────────────────────────────────┼────────────────────────┼───────────────┤\n",
              "│ max_pooling1d_7 (<span style=\"color: #0087ff; text-decoration-color: #0087ff\">MaxPooling1D</span>)  │ (<span style=\"color: #00d7ff; text-decoration-color: #00d7ff\">None</span>, <span style=\"color: #00af00; text-decoration-color: #00af00\">9</span>, <span style=\"color: #00af00; text-decoration-color: #00af00\">64</span>)          │             <span style=\"color: #00af00; text-decoration-color: #00af00\">0</span> │\n",
              "├─────────────────────────────────┼────────────────────────┼───────────────┤\n",
              "│ conv1d_8 (<span style=\"color: #0087ff; text-decoration-color: #0087ff\">Conv1D</span>)               │ (<span style=\"color: #00d7ff; text-decoration-color: #00d7ff\">None</span>, <span style=\"color: #00af00; text-decoration-color: #00af00\">8</span>, <span style=\"color: #00af00; text-decoration-color: #00af00\">128</span>)         │        <span style=\"color: #00af00; text-decoration-color: #00af00\">16,512</span> │\n",
              "├─────────────────────────────────┼────────────────────────┼───────────────┤\n",
              "│ max_pooling1d_8 (<span style=\"color: #0087ff; text-decoration-color: #0087ff\">MaxPooling1D</span>)  │ (<span style=\"color: #00d7ff; text-decoration-color: #00d7ff\">None</span>, <span style=\"color: #00af00; text-decoration-color: #00af00\">4</span>, <span style=\"color: #00af00; text-decoration-color: #00af00\">128</span>)         │             <span style=\"color: #00af00; text-decoration-color: #00af00\">0</span> │\n",
              "├─────────────────────────────────┼────────────────────────┼───────────────┤\n",
              "│ conv1d_9 (<span style=\"color: #0087ff; text-decoration-color: #0087ff\">Conv1D</span>)               │ (<span style=\"color: #00d7ff; text-decoration-color: #00d7ff\">None</span>, <span style=\"color: #00af00; text-decoration-color: #00af00\">3</span>, <span style=\"color: #00af00; text-decoration-color: #00af00\">256</span>)         │        <span style=\"color: #00af00; text-decoration-color: #00af00\">65,792</span> │\n",
              "├─────────────────────────────────┼────────────────────────┼───────────────┤\n",
              "│ max_pooling1d_9 (<span style=\"color: #0087ff; text-decoration-color: #0087ff\">MaxPooling1D</span>)  │ (<span style=\"color: #00d7ff; text-decoration-color: #00d7ff\">None</span>, <span style=\"color: #00af00; text-decoration-color: #00af00\">1</span>, <span style=\"color: #00af00; text-decoration-color: #00af00\">256</span>)         │             <span style=\"color: #00af00; text-decoration-color: #00af00\">0</span> │\n",
              "├─────────────────────────────────┼────────────────────────┼───────────────┤\n",
              "│ flatten_3 (<span style=\"color: #0087ff; text-decoration-color: #0087ff\">Flatten</span>)             │ (<span style=\"color: #00d7ff; text-decoration-color: #00d7ff\">None</span>, <span style=\"color: #00af00; text-decoration-color: #00af00\">256</span>)            │             <span style=\"color: #00af00; text-decoration-color: #00af00\">0</span> │\n",
              "├─────────────────────────────────┼────────────────────────┼───────────────┤\n",
              "│ dense_6 (<span style=\"color: #0087ff; text-decoration-color: #0087ff\">Dense</span>)                 │ (<span style=\"color: #00d7ff; text-decoration-color: #00d7ff\">None</span>, <span style=\"color: #00af00; text-decoration-color: #00af00\">64</span>)             │        <span style=\"color: #00af00; text-decoration-color: #00af00\">16,448</span> │\n",
              "├─────────────────────────────────┼────────────────────────┼───────────────┤\n",
              "│ dense_7 (<span style=\"color: #0087ff; text-decoration-color: #0087ff\">Dense</span>)                 │ (<span style=\"color: #00d7ff; text-decoration-color: #00d7ff\">None</span>, <span style=\"color: #00af00; text-decoration-color: #00af00\">15</span>)             │           <span style=\"color: #00af00; text-decoration-color: #00af00\">975</span> │\n",
              "└─────────────────────────────────┴────────────────────────┴───────────────┘\n",
              "</pre>\n"
            ]
          },
          "metadata": {}
        },
        {
          "output_type": "display_data",
          "data": {
            "text/plain": [
              "\u001b[1m Total params: \u001b[0m\u001b[38;5;34m99,919\u001b[0m (390.31 KB)\n"
            ],
            "text/html": [
              "<pre style=\"white-space:pre;overflow-x:auto;line-height:normal;font-family:Menlo,'DejaVu Sans Mono',consolas,'Courier New',monospace\"><span style=\"font-weight: bold\"> Total params: </span><span style=\"color: #00af00; text-decoration-color: #00af00\">99,919</span> (390.31 KB)\n",
              "</pre>\n"
            ]
          },
          "metadata": {}
        },
        {
          "output_type": "display_data",
          "data": {
            "text/plain": [
              "\u001b[1m Trainable params: \u001b[0m\u001b[38;5;34m99,919\u001b[0m (390.31 KB)\n"
            ],
            "text/html": [
              "<pre style=\"white-space:pre;overflow-x:auto;line-height:normal;font-family:Menlo,'DejaVu Sans Mono',consolas,'Courier New',monospace\"><span style=\"font-weight: bold\"> Trainable params: </span><span style=\"color: #00af00; text-decoration-color: #00af00\">99,919</span> (390.31 KB)\n",
              "</pre>\n"
            ]
          },
          "metadata": {}
        },
        {
          "output_type": "display_data",
          "data": {
            "text/plain": [
              "\u001b[1m Non-trainable params: \u001b[0m\u001b[38;5;34m0\u001b[0m (0.00 B)\n"
            ],
            "text/html": [
              "<pre style=\"white-space:pre;overflow-x:auto;line-height:normal;font-family:Menlo,'DejaVu Sans Mono',consolas,'Courier New',monospace\"><span style=\"font-weight: bold\"> Non-trainable params: </span><span style=\"color: #00af00; text-decoration-color: #00af00\">0</span> (0.00 B)\n",
              "</pre>\n"
            ]
          },
          "metadata": {}
        }
      ]
    },
    {
      "cell_type": "code",
      "source": [
        "print(X_train.dtype)  # should be float32\n",
        "print(y_train.dtype)  # should be int32 or float32"
      ],
      "metadata": {
        "id": "uOw6ryxgFKAh",
        "outputId": "05800c25-479a-42fd-f9f4-1f04cdd785e9",
        "colab": {
          "base_uri": "https://localhost:8080/"
        }
      },
      "execution_count": 32,
      "outputs": [
        {
          "output_type": "stream",
          "name": "stdout",
          "text": [
            "float64\n",
            "int64\n"
          ]
        }
      ]
    },
    {
      "cell_type": "code",
      "source": [
        "model.fit(X_train, y_train, epochs=20, batch_size=40, validation_split=0.2)"
      ],
      "metadata": {
        "colab": {
          "base_uri": "https://localhost:8080/"
        },
        "id": "q2NHB2N2EfiV",
        "outputId": "099aea7b-1989-427a-8e09-19507e972586"
      },
      "execution_count": 39,
      "outputs": [
        {
          "output_type": "stream",
          "name": "stdout",
          "text": [
            "Epoch 1/20\n",
            "\u001b[1m761/761\u001b[0m \u001b[32m━━━━━━━━━━━━━━━━━━━━\u001b[0m\u001b[37m\u001b[0m \u001b[1m7s\u001b[0m 9ms/step - accuracy: 0.8906 - loss: 0.4016 - val_accuracy: 0.9087 - val_loss: 0.3483\n",
            "Epoch 2/20\n",
            "\u001b[1m761/761\u001b[0m \u001b[32m━━━━━━━━━━━━━━━━━━━━\u001b[0m\u001b[37m\u001b[0m \u001b[1m6s\u001b[0m 8ms/step - accuracy: 0.8878 - loss: 0.4063 - val_accuracy: 0.9087 - val_loss: 0.3455\n",
            "Epoch 3/20\n",
            "\u001b[1m761/761\u001b[0m \u001b[32m━━━━━━━━━━━━━━━━━━━━\u001b[0m\u001b[37m\u001b[0m \u001b[1m7s\u001b[0m 10ms/step - accuracy: 0.8896 - loss: 0.4050 - val_accuracy: 0.9089 - val_loss: 0.3472\n",
            "Epoch 4/20\n",
            "\u001b[1m761/761\u001b[0m \u001b[32m━━━━━━━━━━━━━━━━━━━━\u001b[0m\u001b[37m\u001b[0m \u001b[1m6s\u001b[0m 8ms/step - accuracy: 0.8884 - loss: 0.4701 - val_accuracy: 0.9087 - val_loss: 0.3494\n",
            "Epoch 5/20\n",
            "\u001b[1m761/761\u001b[0m \u001b[32m━━━━━━━━━━━━━━━━━━━━\u001b[0m\u001b[37m\u001b[0m \u001b[1m7s\u001b[0m 10ms/step - accuracy: 0.8866 - loss: 0.4827 - val_accuracy: 0.9087 - val_loss: 0.3455\n",
            "Epoch 6/20\n",
            "\u001b[1m761/761\u001b[0m \u001b[32m━━━━━━━━━━━━━━━━━━━━\u001b[0m\u001b[37m\u001b[0m \u001b[1m6s\u001b[0m 8ms/step - accuracy: 0.8905 - loss: 0.4736 - val_accuracy: 0.9087 - val_loss: 0.3455\n",
            "Epoch 7/20\n",
            "\u001b[1m761/761\u001b[0m \u001b[32m━━━━━━━━━━━━━━━━━━━━\u001b[0m\u001b[37m\u001b[0m \u001b[1m7s\u001b[0m 10ms/step - accuracy: 0.8896 - loss: 0.4021 - val_accuracy: 0.9089 - val_loss: 0.3456\n",
            "Epoch 8/20\n",
            "\u001b[1m761/761\u001b[0m \u001b[32m━━━━━━━━━━━━━━━━━━━━\u001b[0m\u001b[37m\u001b[0m \u001b[1m10s\u001b[0m 9ms/step - accuracy: 0.8929 - loss: 0.3976 - val_accuracy: 0.9089 - val_loss: 0.3449\n",
            "Epoch 9/20\n",
            "\u001b[1m761/761\u001b[0m \u001b[32m━━━━━━━━━━━━━━━━━━━━\u001b[0m\u001b[37m\u001b[0m \u001b[1m7s\u001b[0m 9ms/step - accuracy: 0.8933 - loss: 0.3945 - val_accuracy: 0.9089 - val_loss: 0.3467\n",
            "Epoch 10/20\n",
            "\u001b[1m761/761\u001b[0m \u001b[32m━━━━━━━━━━━━━━━━━━━━\u001b[0m\u001b[37m\u001b[0m \u001b[1m11s\u001b[0m 10ms/step - accuracy: 0.8891 - loss: 0.4125 - val_accuracy: 0.9077 - val_loss: 0.3517\n",
            "Epoch 11/20\n",
            "\u001b[1m761/761\u001b[0m \u001b[32m━━━━━━━━━━━━━━━━━━━━\u001b[0m\u001b[37m\u001b[0m \u001b[1m6s\u001b[0m 8ms/step - accuracy: 0.8906 - loss: 0.4277 - val_accuracy: 0.9087 - val_loss: 0.3464\n",
            "Epoch 12/20\n",
            "\u001b[1m761/761\u001b[0m \u001b[32m━━━━━━━━━━━━━━━━━━━━\u001b[0m\u001b[37m\u001b[0m \u001b[1m10s\u001b[0m 8ms/step - accuracy: 0.8886 - loss: 0.4219 - val_accuracy: 0.9086 - val_loss: 0.3462\n",
            "Epoch 13/20\n",
            "\u001b[1m761/761\u001b[0m \u001b[32m━━━━━━━━━━━━━━━━━━━━\u001b[0m\u001b[37m\u001b[0m \u001b[1m7s\u001b[0m 9ms/step - accuracy: 0.8887 - loss: 0.4068 - val_accuracy: 0.9087 - val_loss: 0.3436\n",
            "Epoch 14/20\n",
            "\u001b[1m761/761\u001b[0m \u001b[32m━━━━━━━━━━━━━━━━━━━━\u001b[0m\u001b[37m\u001b[0m \u001b[1m6s\u001b[0m 8ms/step - accuracy: 0.8862 - loss: 0.4158 - val_accuracy: 0.9087 - val_loss: 0.3447\n",
            "Epoch 15/20\n",
            "\u001b[1m761/761\u001b[0m \u001b[32m━━━━━━━━━━━━━━━━━━━━\u001b[0m\u001b[37m\u001b[0m \u001b[1m7s\u001b[0m 9ms/step - accuracy: 0.8919 - loss: 0.3951 - val_accuracy: 0.9087 - val_loss: 0.3502\n",
            "Epoch 16/20\n",
            "\u001b[1m761/761\u001b[0m \u001b[32m━━━━━━━━━━━━━━━━━━━━\u001b[0m\u001b[37m\u001b[0m \u001b[1m9s\u001b[0m 8ms/step - accuracy: 0.8858 - loss: 0.4085 - val_accuracy: 0.9087 - val_loss: 0.3449\n",
            "Epoch 17/20\n",
            "\u001b[1m761/761\u001b[0m \u001b[32m━━━━━━━━━━━━━━━━━━━━\u001b[0m\u001b[37m\u001b[0m \u001b[1m7s\u001b[0m 10ms/step - accuracy: 0.8959 - loss: 0.3822 - val_accuracy: 0.9089 - val_loss: 0.3481\n",
            "Epoch 18/20\n",
            "\u001b[1m761/761\u001b[0m \u001b[32m━━━━━━━━━━━━━━━━━━━━\u001b[0m\u001b[37m\u001b[0m \u001b[1m6s\u001b[0m 8ms/step - accuracy: 0.8889 - loss: 0.4544 - val_accuracy: 0.9087 - val_loss: 0.3417\n",
            "Epoch 19/20\n",
            "\u001b[1m761/761\u001b[0m \u001b[32m━━━━━━━━━━━━━━━━━━━━\u001b[0m\u001b[37m\u001b[0m \u001b[1m7s\u001b[0m 10ms/step - accuracy: 0.8879 - loss: 0.4020 - val_accuracy: 0.9082 - val_loss: 0.3479\n",
            "Epoch 20/20\n",
            "\u001b[1m761/761\u001b[0m \u001b[32m━━━━━━━━━━━━━━━━━━━━\u001b[0m\u001b[37m\u001b[0m \u001b[1m9s\u001b[0m 8ms/step - accuracy: 0.8916 - loss: 0.3938 - val_accuracy: 0.9087 - val_loss: 0.3404\n"
          ]
        },
        {
          "output_type": "execute_result",
          "data": {
            "text/plain": [
              "<keras.src.callbacks.history.History at 0x7d64e0b3ecf0>"
            ]
          },
          "metadata": {},
          "execution_count": 39
        }
      ]
    },
    {
      "cell_type": "code",
      "source": [
        "\n",
        "# Generate some test data\n",
        "\n",
        "# Predict on test data\n",
        "predictions = model.predict(X_test)\n",
        "\n",
        "# Print predictions\n",
        "print(\"Predictions:\")\n",
        "print(predictions)\n",
        "\n",
        "# Evaluate the model on test data (if you have labels)\n",
        "\n",
        "loss, accuracy = model.evaluate(X_test, y_test)\n",
        "print(f'Test loss: {loss:.4f}, Test accuracy: {accuracy:.4f}')"
      ],
      "metadata": {
        "colab": {
          "base_uri": "https://localhost:8080/"
        },
        "id": "TtIp9L-7L6nw",
        "outputId": "cf4b5d96-afed-4b6a-d958-e90828cc1976"
      },
      "execution_count": 40,
      "outputs": [
        {
          "output_type": "stream",
          "name": "stdout",
          "text": [
            "\u001b[1m396/396\u001b[0m \u001b[32m━━━━━━━━━━━━━━━━━━━━\u001b[0m\u001b[37m\u001b[0m \u001b[1m1s\u001b[0m 4ms/step\n",
            "Predictions:\n",
            "[[1.6573658e-04 1.0877380e-02 8.5979869e-11 ... 3.2367675e-10\n",
            "  1.5719158e-09 1.3341968e-10]\n",
            " [1.6988801e-05 5.0127893e-03 1.4315717e-13 ... 2.8617545e-12\n",
            "  4.5426227e-10 2.7490584e-12]\n",
            " [1.4312385e-05 4.5797778e-03 7.6521905e-14 ... 1.9218470e-12\n",
            "  6.1188760e-10 2.1144351e-12]\n",
            " ...\n",
            " [1.4686729e-05 4.7714561e-03 8.7398533e-14 ... 2.1504651e-12\n",
            "  5.9195499e-10 2.4462077e-12]\n",
            " [1.2348142e-05 4.3530716e-03 5.0694546e-14 ... 1.3358636e-12\n",
            "  4.4785681e-10 1.5145433e-12]\n",
            " [1.2510278e-05 4.4546062e-03 5.5660473e-14 ... 1.4027789e-12\n",
            "  3.9497436e-10 1.5608648e-12]]\n",
            "\u001b[1m396/396\u001b[0m \u001b[32m━━━━━━━━━━━━━━━━━━━━\u001b[0m\u001b[37m\u001b[0m \u001b[1m1s\u001b[0m 3ms/step - accuracy: 0.8586 - loss: 0.5028\n",
            "Test loss: 0.4738, Test accuracy: 0.8678\n"
          ]
        }
      ]
    },
    {
      "cell_type": "code",
      "source": [
        "\n",
        "pred = model.predict(X_test)\n",
        "pred_y = pred.argmax(axis=-1)"
      ],
      "metadata": {
        "colab": {
          "base_uri": "https://localhost:8080/"
        },
        "id": "IYnLXmIfMYo-",
        "outputId": "ecc8f611-8151-48f9-bc95-3e232a328b27"
      },
      "execution_count": 41,
      "outputs": [
        {
          "output_type": "stream",
          "name": "stdout",
          "text": [
            "\u001b[1m396/396\u001b[0m \u001b[32m━━━━━━━━━━━━━━━━━━━━\u001b[0m\u001b[37m\u001b[0m \u001b[1m1s\u001b[0m 3ms/step\n"
          ]
        }
      ]
    },
    {
      "cell_type": "code",
      "source": [
        "from sklearn.metrics import confusion_matrix\n",
        "cm = confusion_matrix(y_test, pred_y)\n",
        "print(cm)"
      ],
      "metadata": {
        "colab": {
          "base_uri": "https://localhost:8080/"
        },
        "id": "FUeOf2SkMe-v",
        "outputId": "5608fd4a-a89c-4955-cafe-a047e13c16d6"
      },
      "execution_count": 42,
      "outputs": [
        {
          "output_type": "stream",
          "name": "stdout",
          "text": [
            "[[    0     0     0     3     0]\n",
            " [    0     0     0   153     0]\n",
            " [    0     0     0  1257     0]\n",
            " [    0     0     0 10996     0]\n",
            " [    0     0     0   262     0]]\n"
          ]
        }
      ]
    },
    {
      "cell_type": "code",
      "source": [
        "from sklearn.metrics import confusion_matrix, ConfusionMatrixDisplay\n",
        "disp = ConfusionMatrixDisplay.from_predictions(y_test, pred_y)\n",
        "#disp.plot()"
      ],
      "metadata": {
        "colab": {
          "base_uri": "https://localhost:8080/",
          "height": 449
        },
        "id": "PxYeGwqcMi5o",
        "outputId": "d6fa323a-58fa-4ca7-f0e7-9d41ca0f8fa4"
      },
      "execution_count": 43,
      "outputs": [
        {
          "output_type": "display_data",
          "data": {
            "text/plain": [
              "<Figure size 640x480 with 2 Axes>"
            ],
            "image/png": "[encoded data removed]"
          },
          "metadata": {}
        }
      ]
    },
    {
      "cell_type": "code",
      "source": [
        "from sklearn import metrics\n",
        "# Show the Accuracy, Precision, Recall, F1, etc.\n",
        "acc = metrics.accuracy_score(y_test, pred_y)\n",
        "prec= metrics.precision_score(y_test, pred_y, average='weighted')\n",
        "rec = metrics.recall_score(y_test, pred_y, average='weighted')\n",
        "f1 = metrics.f1_score(y_test, pred_y, average='weighted')\n",
        "\n",
        "print(\"Accuracy:\", acc)\n",
        "print(\"Precision:\", prec)\n",
        "print(\"Recall:\", rec)\n",
        "print(\"F1 Score:\", f1)"
      ],
      "metadata": {
        "colab": {
          "base_uri": "https://localhost:8080/"
        },
        "id": "kl9dfQskMtq8",
        "outputId": "0ddda72f-a472-4ce1-d166-b7031c19993a"
      },
      "execution_count": 44,
      "outputs": [
        {
          "output_type": "stream",
          "name": "stdout",
          "text": [
            "Accuracy: 0.8678083813432247\n",
            "Precision: 0.7530913867295477\n",
            "Recall: 0.8678083813432247\n",
            "F1 Score: 0.8063904137617863\n"
          ]
        },
        {
          "output_type": "stream",
          "name": "stderr",
          "text": [
            "/usr/local/lib/python3.12/dist-packages/sklearn/metrics/_classification.py:1565: UndefinedMetricWarning: Precision is ill-defined and being set to 0.0 in labels with no predicted samples. Use `zero_division` parameter to control this behavior.\n",
            "  _warn_prf(average, modifier, f\"{metric.capitalize()} is\", len(result))\n"
          ]
        }
      ]
    }
  ]
}