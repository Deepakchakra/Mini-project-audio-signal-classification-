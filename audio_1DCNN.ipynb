{
  "nbformat": 4,
  "nbformat_minor": 0,
  "metadata": {
    "colab": {
      "provenance": [],
      "include_colab_link": true
    },
    "kernelspec": {
      "name": "python3",
      "display_name": "Python 3"
    },
    "language_info": {
      "name": "python"
    }
  },
  "cells": [
    {
      "cell_type": "markdown",
      "metadata": {
        "id": "view-in-github",
        "colab_type": "text"
      },
      "source": [
        "<a href=\"https://colab.research.google.com/github/Deepakchakra/Mini-project-audio-signal-classification-/blob/main/audio_1DCNN.ipynb\" target=\"_parent\"><img src=\"https://colab.research.google.com/assets/colab-badge.svg\" alt=\"Open In Colab\"/></a>"
      ]
    },
    {
      "cell_type": "code",
      "source": [
        "import numpy as np\n",
        "from tensorflow.keras.models import Sequential\n",
        "from tensorflow.keras.layers import Conv1D, MaxPooling1D, Flatten, Dense\n",
        "import pandas as pd"
      ],
      "metadata": {
        "id": "NWBLBDYC5RWd"
      },
      "execution_count": null,
      "outputs": []
    },
    {
      "cell_type": "code",
      "source": [
        "from google.colab import drive\n",
        "drive.mount(\"/content/drive/\")"
      ],
      "metadata": {
        "colab": {
          "base_uri": "https://localhost:8080/"
        },
        "id": "RjunF2ww_x1M",
        "outputId": "7c0bad88-3879-42c8-9652-c8301b023342"
      },
      "execution_count": null,
      "outputs": [
        {
          "output_type": "stream",
          "name": "stdout",
          "text": [
            "Mounted at /content/drive/\n"
          ]
        }
      ]
    },
    {
      "cell_type": "code",
      "source": [
        "#Import the files to Google Colab\n",
        "df = pd.read_csv('/content/drive/MyDrive/audio_data/dataset/Music Info.csv')\n",
        "\n",
        "# Show 10 first Row\n",
        "df.head()"
      ],
      "metadata": {
        "colab": {
          "base_uri": "https://localhost:8080/",
          "height": 481
        },
        "id": "5mL7t6TE_-0Y",
        "outputId": "c49dc068-c86a-4e0f-9e84-54493e863a93"
      },
      "execution_count": null,
      "outputs": [
        {
          "output_type": "execute_result",
          "data": {
            "text/plain": [
              "             track_id             name           artist  \\\n",
              "0  TRIOREW128F424EAF0   Mr. Brightside      The Killers   \n",
              "1  TRRIVDJ128F429B0E8       Wonderwall            Oasis   \n",
              "2  TROUVHL128F426C441  Come as You Are          Nirvana   \n",
              "3  TRUEIND128F93038C4      Take Me Out  Franz Ferdinand   \n",
              "4  TRLNZBD128F935E4D8            Creep        Radiohead   \n",
              "\n",
              "                                 spotify_preview_url              spotify_id  \\\n",
              "0  https://p.scdn.co/mp3-preview/4d26180e6961fd46...  09ZQ5TmUG8TSL56n0knqrj   \n",
              "1  https://p.scdn.co/mp3-preview/d012e536916c927b...  06UfBBDISthj1ZJAtX4xjj   \n",
              "2  https://p.scdn.co/mp3-preview/a1c11bb1cb231031...  0keNu0t0tqsWtExGM3nT1D   \n",
              "3  https://p.scdn.co/mp3-preview/399c401370438be4...  0ancVQ9wEcHVd0RrGICTE4   \n",
              "4  https://p.scdn.co/mp3-preview/e7eb60e9466bc3a2...  01QoK9DA7VTeTSE3MNzp4I   \n",
              "\n",
              "                                                tags genre  year  duration_ms  \\\n",
              "0  rock, alternative, indie, alternative_rock, in...   NaN  2004       222200   \n",
              "1  rock, alternative, indie, pop, alternative_roc...   NaN  2006       258613   \n",
              "2   rock, alternative, alternative_rock, 90s, grunge   RnB  1991       218920   \n",
              "3  rock, alternative, indie, alternative_rock, in...   NaN  2004       237026   \n",
              "4  rock, alternative, indie, alternative_rock, in...   RnB  2008       238640   \n",
              "\n",
              "   danceability  ...  key  loudness  mode  speechiness  acousticness  \\\n",
              "0         0.355  ...    1    -4.360     1       0.0746      0.001190   \n",
              "1         0.409  ...    2    -4.373     1       0.0336      0.000807   \n",
              "2         0.508  ...    4    -5.783     0       0.0400      0.000175   \n",
              "3         0.279  ...    9    -8.851     1       0.0371      0.000389   \n",
              "4         0.515  ...    7    -9.935     1       0.0369      0.010200   \n",
              "\n",
              "   instrumentalness  liveness  valence    tempo  time_signature  \n",
              "0          0.000000    0.0971    0.240  148.114               4  \n",
              "1          0.000000    0.2070    0.651  174.426               4  \n",
              "2          0.000459    0.0878    0.543  120.012               4  \n",
              "3          0.000655    0.1330    0.490  104.560               4  \n",
              "4          0.000141    0.1290    0.104   91.841               4  \n",
              "\n",
              "[5 rows x 21 columns]"
            ],
            "text/html": [
              "\n",
              "  <div id=\"df-ceec5d6d-09aa-467c-b061-5a331a4ba891\" class=\"colab-df-container\">\n",
              "    <div>\n",
              "<style scoped>\n",
              "    .dataframe tbody tr th:only-of-type {\n",
              "        vertical-align: middle;\n",
              "    }\n",
              "\n",
              "    .dataframe tbody tr th {\n",
              "        vertical-align: top;\n",
              "    }\n",
              "\n",
              "    .dataframe thead th {\n",
              "        text-align: right;\n",
              "    }\n",
              "</style>\n",
              "<table border=\"1\" class=\"dataframe\">\n",
              "  <thead>\n",
              "    <tr style=\"text-align: right;\">\n",
              "      <th></th>\n",
              "      <th>track_id</th>\n",
              "      <th>name</th>\n",
              "      <th>artist</th>\n",
              "      <th>spotify_preview_url</th>\n",
              "      <th>spotify_id</th>\n",
              "      <th>tags</th>\n",
              "      <th>genre</th>\n",
              "      <th>year</th>\n",
              "      <th>duration_ms</th>\n",
              "      <th>danceability</th>\n",
              "      <th>...</th>\n",
              "      <th>key</th>\n",
              "      <th>loudness</th>\n",
              "      <th>mode</th>\n",
              "      <th>speechiness</th>\n",
              "      <th>acousticness</th>\n",
              "      <th>instrumentalness</th>\n",
              "      <th>liveness</th>\n",
              "      <th>valence</th>\n",
              "      <th>tempo</th>\n",
              "      <th>time_signature</th>\n",
              "    </tr>\n",
              "  </thead>\n",
              "  <tbody>\n",
              "    <tr>\n",
              "      <th>0</th>\n",
              "      <td>TRIOREW128F424EAF0</td>\n",
              "      <td>Mr. Brightside</td>\n",
              "      <td>The Killers</td>\n",
              "      <td>https://p.scdn.co/mp3-preview/4d26180e6961fd46...</td>\n",
              "      <td>09ZQ5TmUG8TSL56n0knqrj</td>\n",
              "      <td>rock, alternative, indie, alternative_rock, in...</td>\n",
              "      <td>NaN</td>\n",
              "      <td>2004</td>\n",
              "      <td>222200</td>\n",
              "      <td>0.355</td>\n",
              "      <td>...</td>\n",
              "      <td>1</td>\n",
              "      <td>-4.360</td>\n",
              "      <td>1</td>\n",
              "      <td>0.0746</td>\n",
              "      <td>0.001190</td>\n",
              "      <td>0.000000</td>\n",
              "      <td>0.0971</td>\n",
              "      <td>0.240</td>\n",
              "      <td>148.114</td>\n",
              "      <td>4</td>\n",
              "    </tr>\n",
              "    <tr>\n",
              "      <th>1</th>\n",
              "      <td>TRRIVDJ128F429B0E8</td>\n",
              "      <td>Wonderwall</td>\n",
              "      <td>Oasis</td>\n",
              "      <td>https://p.scdn.co/mp3-preview/d012e536916c927b...</td>\n",
              "      <td>06UfBBDISthj1ZJAtX4xjj</td>\n",
              "      <td>rock, alternative, indie, pop, alternative_roc...</td>\n",
              "      <td>NaN</td>\n",
              "      <td>2006</td>\n",
              "      <td>258613</td>\n",
              "      <td>0.409</td>\n",
              "      <td>...</td>\n",
              "      <td>2</td>\n",
              "      <td>-4.373</td>\n",
              "      <td>1</td>\n",
              "      <td>0.0336</td>\n",
              "      <td>0.000807</td>\n",
              "      <td>0.000000</td>\n",
              "      <td>0.2070</td>\n",
              "      <td>0.651</td>\n",
              "      <td>174.426</td>\n",
              "      <td>4</td>\n",
              "    </tr>\n",
              "    <tr>\n",
              "      <th>2</th>\n",
              "      <td>TROUVHL128F426C441</td>\n",
              "      <td>Come as You Are</td>\n",
              "      <td>Nirvana</td>\n",
              "      <td>https://p.scdn.co/mp3-preview/a1c11bb1cb231031...</td>\n",
              "      <td>0keNu0t0tqsWtExGM3nT1D</td>\n",
              "      <td>rock, alternative, alternative_rock, 90s, grunge</td>\n",
              "      <td>RnB</td>\n",
              "      <td>1991</td>\n",
              "      <td>218920</td>\n",
              "      <td>0.508</td>\n",
              "      <td>...</td>\n",
              "      <td>4</td>\n",
              "      <td>-5.783</td>\n",
              "      <td>0</td>\n",
              "      <td>0.0400</td>\n",
              "      <td>0.000175</td>\n",
              "      <td>0.000459</td>\n",
              "      <td>0.0878</td>\n",
              "      <td>0.543</td>\n",
              "      <td>120.012</td>\n",
              "      <td>4</td>\n",
              "    </tr>\n",
              "    <tr>\n",
              "      <th>3</th>\n",
              "      <td>TRUEIND128F93038C4</td>\n",
              "      <td>Take Me Out</td>\n",
              "      <td>Franz Ferdinand</td>\n",
              "      <td>https://p.scdn.co/mp3-preview/399c401370438be4...</td>\n",
              "      <td>0ancVQ9wEcHVd0RrGICTE4</td>\n",
              "      <td>rock, alternative, indie, alternative_rock, in...</td>\n",
              "      <td>NaN</td>\n",
              "      <td>2004</td>\n",
              "      <td>237026</td>\n",
              "      <td>0.279</td>\n",
              "      <td>...</td>\n",
              "      <td>9</td>\n",
              "      <td>-8.851</td>\n",
              "      <td>1</td>\n",
              "      <td>0.0371</td>\n",
              "      <td>0.000389</td>\n",
              "      <td>0.000655</td>\n",
              "      <td>0.1330</td>\n",
              "      <td>0.490</td>\n",
              "      <td>104.560</td>\n",
              "      <td>4</td>\n",
              "    </tr>\n",
              "    <tr>\n",
              "      <th>4</th>\n",
              "      <td>TRLNZBD128F935E4D8</td>\n",
              "      <td>Creep</td>\n",
              "      <td>Radiohead</td>\n",
              "      <td>https://p.scdn.co/mp3-preview/e7eb60e9466bc3a2...</td>\n",
              "      <td>01QoK9DA7VTeTSE3MNzp4I</td>\n",
              "      <td>rock, alternative, indie, alternative_rock, in...</td>\n",
              "      <td>RnB</td>\n",
              "      <td>2008</td>\n",
              "      <td>238640</td>\n",
              "      <td>0.515</td>\n",
              "      <td>...</td>\n",
              "      <td>7</td>\n",
              "      <td>-9.935</td>\n",
              "      <td>1</td>\n",
              "      <td>0.0369</td>\n",
              "      <td>0.010200</td>\n",
              "      <td>0.000141</td>\n",
              "      <td>0.1290</td>\n",
              "      <td>0.104</td>\n",
              "      <td>91.841</td>\n",
              "      <td>4</td>\n",
              "    </tr>\n",
              "  </tbody>\n",
              "</table>\n",
              "<p>5 rows × 21 columns</p>\n",
              "</div>\n",
              "    <div class=\"colab-df-buttons\">\n",
              "\n",
              "  <div class=\"colab-df-container\">\n",
              "    <button class=\"colab-df-convert\" onclick=\"convertToInteractive('df-ceec5d6d-09aa-467c-b061-5a331a4ba891')\"\n",
              "            title=\"Convert this dataframe to an interactive table.\"\n",
              "            style=\"display:none;\">\n",
              "\n",
              "  <svg xmlns=\"http://www.w3.org/2000/svg\" height=\"24px\" viewBox=\"0 -960 960 960\">\n",
              "    <path d=\"M120-120v-720h720v720H120Zm60-500h600v-160H180v160Zm220 220h160v-160H400v160Zm0 220h160v-160H400v160ZM180-400h160v-160H180v160Zm440 0h160v-160H620v160ZM180-180h160v-160H180v160Zm440 0h160v-160H620v160Z\"/>\n",
              "  </svg>\n",
              "    </button>\n",
              "\n",
              "  <style>\n",
              "    .colab-df-container {\n",
              "      display:flex;\n",
              "      gap: 12px;\n",
              "    }\n",
              "\n",
              "    .colab-df-convert {\n",
              "      background-color: #E8F0FE;\n",
              "      border: none;\n",
              "      border-radius: 50%;\n",
              "      cursor: pointer;\n",
              "      display: none;\n",
              "      fill: #1967D2;\n",
              "      height: 32px;\n",
              "      padding: 0 0 0 0;\n",
              "      width: 32px;\n",
              "    }\n",
              "\n",
              "    .colab-df-convert:hover {\n",
              "      background-color: #E2EBFA;\n",
              "      box-shadow: 0px 1px 2px rgba(60, 64, 67, 0.3), 0px 1px 3px 1px rgba(60, 64, 67, 0.15);\n",
              "      fill: #174EA6;\n",
              "    }\n",
              "\n",
              "    .colab-df-buttons div {\n",
              "      margin-bottom: 4px;\n",
              "    }\n",
              "\n",
              "    [theme=dark] .colab-df-convert {\n",
              "      background-color: #3B4455;\n",
              "      fill: #D2E3FC;\n",
              "    }\n",
              "\n",
              "    [theme=dark] .colab-df-convert:hover {\n",
              "      background-color: #434B5C;\n",
              "      box-shadow: 0px 1px 3px 1px rgba(0, 0, 0, 0.15);\n",
              "      filter: drop-shadow(0px 1px 2px rgba(0, 0, 0, 0.3));\n",
              "      fill: #FFFFFF;\n",
              "    }\n",
              "  </style>\n",
              "\n",
              "    <script>\n",
              "      const buttonEl =\n",
              "        document.querySelector('#df-ceec5d6d-09aa-467c-b061-5a331a4ba891 button.colab-df-convert');\n",
              "      buttonEl.style.display =\n",
              "        google.colab.kernel.accessAllowed ? 'block' : 'none';\n",
              "\n",
              "      async function convertToInteractive(key) {\n",
              "        const element = document.querySelector('#df-ceec5d6d-09aa-467c-b061-5a331a4ba891');\n",
              "        const dataTable =\n",
              "          await google.colab.kernel.invokeFunction('convertToInteractive',\n",
              "                                                    [key], {});\n",
              "        if (!dataTable) return;\n",
              "\n",
              "        const docLinkHtml = 'Like what you see? Visit the ' +\n",
              "          '<a target=\"_blank\" href=https://colab.research.google.com/notebooks/data_table.ipynb>data table notebook</a>'\n",
              "          + ' to learn more about interactive tables.';\n",
              "        element.innerHTML = '';\n",
              "        dataTable['output_type'] = 'display_data';\n",
              "        await google.colab.output.renderOutput(dataTable, element);\n",
              "        const docLink = document.createElement('div');\n",
              "        docLink.innerHTML = docLinkHtml;\n",
              "        element.appendChild(docLink);\n",
              "      }\n",
              "    </script>\n",
              "  </div>\n",
              "\n",
              "\n",
              "    <div id=\"df-f7b388d3-14f1-4326-99e5-b9157585b7b4\">\n",
              "      <button class=\"colab-df-quickchart\" onclick=\"quickchart('df-f7b388d3-14f1-4326-99e5-b9157585b7b4')\"\n",
              "                title=\"Suggest charts\"\n",
              "                style=\"display:none;\">\n",
              "\n",
              "<svg xmlns=\"http://www.w3.org/2000/svg\" height=\"24px\"viewBox=\"0 0 24 24\"\n",
              "     width=\"24px\">\n",
              "    <g>\n",
              "        <path d=\"M19 3H5c-1.1 0-2 .9-2 2v14c0 1.1.9 2 2 2h14c1.1 0 2-.9 2-2V5c0-1.1-.9-2-2-2zM9 17H7v-7h2v7zm4 0h-2V7h2v10zm4 0h-2v-4h2v4z\"/>\n",
              "    </g>\n",
              "</svg>\n",
              "      </button>\n",
              "\n",
              "<style>\n",
              "  .colab-df-quickchart {\n",
              "      --bg-color: #E8F0FE;\n",
              "      --fill-color: #1967D2;\n",
              "      --hover-bg-color: #E2EBFA;\n",
              "      --hover-fill-color: #174EA6;\n",
              "      --disabled-fill-color: #AAA;\n",
              "      --disabled-bg-color: #DDD;\n",
              "  }\n",
              "\n",
              "  [theme=dark] .colab-df-quickchart {\n",
              "      --bg-color: #3B4455;\n",
              "      --fill-color: #D2E3FC;\n",
              "      --hover-bg-color: #434B5C;\n",
              "      --hover-fill-color: #FFFFFF;\n",
              "      --disabled-bg-color: #3B4455;\n",
              "      --disabled-fill-color: #666;\n",
              "  }\n",
              "\n",
              "  .colab-df-quickchart {\n",
              "    background-color: var(--bg-color);\n",
              "    border: none;\n",
              "    border-radius: 50%;\n",
              "    cursor: pointer;\n",
              "    display: none;\n",
              "    fill: var(--fill-color);\n",
              "    height: 32px;\n",
              "    padding: 0;\n",
              "    width: 32px;\n",
              "  }\n",
              "\n",
              "  .colab-df-quickchart:hover {\n",
              "    background-color: var(--hover-bg-color);\n",
              "    box-shadow: 0 1px 2px rgba(60, 64, 67, 0.3), 0 1px 3px 1px rgba(60, 64, 67, 0.15);\n",
              "    fill: var(--button-hover-fill-color);\n",
              "  }\n",
              "\n",
              "  .colab-df-quickchart-complete:disabled,\n",
              "  .colab-df-quickchart-complete:disabled:hover {\n",
              "    background-color: var(--disabled-bg-color);\n",
              "    fill: var(--disabled-fill-color);\n",
              "    box-shadow: none;\n",
              "  }\n",
              "\n",
              "  .colab-df-spinner {\n",
              "    border: 2px solid var(--fill-color);\n",
              "    border-color: transparent;\n",
              "    border-bottom-color: var(--fill-color);\n",
              "    animation:\n",
              "      spin 1s steps(1) infinite;\n",
              "  }\n",
              "\n",
              "  @keyframes spin {\n",
              "    0% {\n",
              "      border-color: transparent;\n",
              "      border-bottom-color: var(--fill-color);\n",
              "      border-left-color: var(--fill-color);\n",
              "    }\n",
              "    20% {\n",
              "      border-color: transparent;\n",
              "      border-left-color: var(--fill-color);\n",
              "      border-top-color: var(--fill-color);\n",
              "    }\n",
              "    30% {\n",
              "      border-color: transparent;\n",
              "      border-left-color: var(--fill-color);\n",
              "      border-top-color: var(--fill-color);\n",
              "      border-right-color: var(--fill-color);\n",
              "    }\n",
              "    40% {\n",
              "      border-color: transparent;\n",
              "      border-right-color: var(--fill-color);\n",
              "      border-top-color: var(--fill-color);\n",
              "    }\n",
              "    60% {\n",
              "      border-color: transparent;\n",
              "      border-right-color: var(--fill-color);\n",
              "    }\n",
              "    80% {\n",
              "      border-color: transparent;\n",
              "      border-right-color: var(--fill-color);\n",
              "      border-bottom-color: var(--fill-color);\n",
              "    }\n",
              "    90% {\n",
              "      border-color: transparent;\n",
              "      border-bottom-color: var(--fill-color);\n",
              "    }\n",
              "  }\n",
              "</style>\n",
              "\n",
              "      <script>\n",
              "        async function quickchart(key) {\n",
              "          const quickchartButtonEl =\n",
              "            document.querySelector('#' + key + ' button');\n",
              "          quickchartButtonEl.disabled = true;  // To prevent multiple clicks.\n",
              "          quickchartButtonEl.classList.add('colab-df-spinner');\n",
              "          try {\n",
              "            const charts = await google.colab.kernel.invokeFunction(\n",
              "                'suggestCharts', [key], {});\n",
              "          } catch (error) {\n",
              "            console.error('Error during call to suggestCharts:', error);\n",
              "          }\n",
              "          quickchartButtonEl.classList.remove('colab-df-spinner');\n",
              "          quickchartButtonEl.classList.add('colab-df-quickchart-complete');\n",
              "        }\n",
              "        (() => {\n",
              "          let quickchartButtonEl =\n",
              "            document.querySelector('#df-f7b388d3-14f1-4326-99e5-b9157585b7b4 button');\n",
              "          quickchartButtonEl.style.display =\n",
              "            google.colab.kernel.accessAllowed ? 'block' : 'none';\n",
              "        })();\n",
              "      </script>\n",
              "    </div>\n",
              "\n",
              "    </div>\n",
              "  </div>\n"
            ],
            "application/vnd.google.colaboratory.intrinsic+json": {
              "type": "dataframe",
              "variable_name": "df"
            }
          },
          "metadata": {},
          "execution_count": 4
        }
      ]
    },
    {
      "cell_type": "code",
      "source": [
        "# Check the Data Infomation\n",
        "df.info()"
      ],
      "metadata": {
        "colab": {
          "base_uri": "https://localhost:8080/"
        },
        "id": "Q5FVUCnaAFmO",
        "outputId": "d45c824b-a3a9-419b-f444-a26c7c093a80"
      },
      "execution_count": null,
      "outputs": [
        {
          "output_type": "stream",
          "name": "stdout",
          "text": [
            "<class 'pandas.core.frame.DataFrame'>\n",
            "RangeIndex: 50683 entries, 0 to 50682\n",
            "Data columns (total 21 columns):\n",
            " #   Column               Non-Null Count  Dtype  \n",
            "---  ------               --------------  -----  \n",
            " 0   track_id             50683 non-null  object \n",
            " 1   name                 50683 non-null  object \n",
            " 2   artist               50683 non-null  object \n",
            " 3   spotify_preview_url  50683 non-null  object \n",
            " 4   spotify_id           50683 non-null  object \n",
            " 5   tags                 49556 non-null  object \n",
            " 6   genre                22348 non-null  object \n",
            " 7   year                 50683 non-null  int64  \n",
            " 8   duration_ms          50683 non-null  int64  \n",
            " 9   danceability         50683 non-null  float64\n",
            " 10  energy               50683 non-null  float64\n",
            " 11  key                  50683 non-null  int64  \n",
            " 12  loudness             50683 non-null  float64\n",
            " 13  mode                 50683 non-null  int64  \n",
            " 14  speechiness          50683 non-null  float64\n",
            " 15  acousticness         50683 non-null  float64\n",
            " 16  instrumentalness     50683 non-null  float64\n",
            " 17  liveness             50683 non-null  float64\n",
            " 18  valence              50683 non-null  float64\n",
            " 19  tempo                50683 non-null  float64\n",
            " 20  time_signature       50683 non-null  int64  \n",
            "dtypes: float64(9), int64(5), object(7)\n",
            "memory usage: 8.1+ MB\n"
          ]
        }
      ]
    },
    {
      "cell_type": "code",
      "source": [
        "# Selecting the Feature, by remove the unused feature\n",
        "\n",
        "feature = ['time_signature']\n",
        "x = df.drop(feature, axis=1)\n",
        "# Set The Target\n",
        "y= df[\"time_signature\"]\n"
      ],
      "metadata": {
        "id": "-SW9eDcHGmMD"
      },
      "execution_count": null,
      "outputs": []
    },
    {
      "cell_type": "code",
      "source": [
        "# Split Data\n",
        "from sklearn.model_selection import train_test_split, cross_val_score\n",
        "X_train, X_test, y_train, y_test = train_test_split(x, y, shuffle = False, test_size=0.25, random_state=23)"
      ],
      "metadata": {
        "id": "-LcFrD1W_Kjs"
      },
      "execution_count": null,
      "outputs": []
    },
    {
      "cell_type": "code",
      "source": [
        "# Define the model\n",
        "model = Sequential([\n",
        "    Conv1D(filters=16, kernel_size=1, activation='relu', input_shape=(13, 1)),\n",
        "    MaxPooling1D(pool_size=2),\n",
        "    Conv1D(filters=32, kernel_size=1, activation='relu'),\n",
        "    MaxPooling1D(pool_size=2),\n",
        "    Conv1D(filters=64, kernel_size=1, activation='relu'),\n",
        "    MaxPooling1D(pool_size=2),\n",
        "    Flatten(),\n",
        "    Dense(16, activation='relu'),\n",
        "    Dense(6, activation='softmax') # Changed to 6 units to accommodate values 0-5\n",
        "])"
      ],
      "metadata": {
        "id": "zw2KiX1N8Kra",
        "colab": {
          "base_uri": "https://localhost:8080/"
        },
        "outputId": "adf03a7c-9d01-44c1-e865-77354f6cb781"
      },
      "execution_count": null,
      "outputs": [
        {
          "output_type": "stream",
          "name": "stderr",
          "text": [
            "/usr/local/lib/python3.12/dist-packages/keras/src/layers/convolutional/base_conv.py:113: UserWarning: Do not pass an `input_shape`/`input_dim` argument to a layer. When using Sequential models, prefer using an `Input(shape)` object as the first layer in the model instead.\n",
            "  super().__init__(activity_regularizer=activity_regularizer, **kwargs)\n"
          ]
        }
      ]
    },
    {
      "cell_type": "code",
      "source": [
        "# Compile the model\n",
        "\n",
        "model.compile(loss = 'sparse_categorical_crossentropy', optimizer = \"adam\", metrics = ['accuracy'])\n",
        "\n",
        "# Print model summary\n",
        "model.summary()"
      ],
      "metadata": {
        "colab": {
          "base_uri": "https://localhost:8080/",
          "height": 430
        },
        "id": "lHHVlrgv8Zsj",
        "outputId": "b46c8fdf-1a42-488d-8daf-2004a8b3783e"
      },
      "execution_count": null,
      "outputs": [
        {
          "output_type": "display_data",
          "data": {
            "text/plain": [
              "\u001b[1mModel: \"sequential\"\u001b[0m\n"
            ],
            "text/html": [
              "<pre style=\"white-space:pre;overflow-x:auto;line-height:normal;font-family:Menlo,'DejaVu Sans Mono',consolas,'Courier New',monospace\"><span style=\"font-weight: bold\">Model: \"sequential\"</span>\n",
              "</pre>\n"
            ]
          },
          "metadata": {}
        },
        {
          "output_type": "display_data",
          "data": {
            "text/plain": [
              "┏━━━━━━━━━━━━━━━━━━━━━━━━━━━━━━━━━┳━━━━━━━━━━━━━━━━━━━━━━━━┳━━━━━━━━━━━━━━━┓\n",
              "┃\u001b[1m \u001b[0m\u001b[1mLayer (type)                   \u001b[0m\u001b[1m \u001b[0m┃\u001b[1m \u001b[0m\u001b[1mOutput Shape          \u001b[0m\u001b[1m \u001b[0m┃\u001b[1m \u001b[0m\u001b[1m      Param #\u001b[0m\u001b[1m \u001b[0m┃\n",
              "┡━━━━━━━━━━━━━━━━━━━━━━━━━━━━━━━━━╇━━━━━━━━━━━━━━━━━━━━━━━━╇━━━━━━━━━━━━━━━┩\n",
              "│ conv1d (\u001b[38;5;33mConv1D\u001b[0m)                 │ (\u001b[38;5;45mNone\u001b[0m, \u001b[38;5;34m13\u001b[0m, \u001b[38;5;34m16\u001b[0m)         │            \u001b[38;5;34m32\u001b[0m │\n",
              "├─────────────────────────────────┼────────────────────────┼───────────────┤\n",
              "│ max_pooling1d (\u001b[38;5;33mMaxPooling1D\u001b[0m)    │ (\u001b[38;5;45mNone\u001b[0m, \u001b[38;5;34m6\u001b[0m, \u001b[38;5;34m16\u001b[0m)          │             \u001b[38;5;34m0\u001b[0m │\n",
              "├─────────────────────────────────┼────────────────────────┼───────────────┤\n",
              "│ conv1d_1 (\u001b[38;5;33mConv1D\u001b[0m)               │ (\u001b[38;5;45mNone\u001b[0m, \u001b[38;5;34m6\u001b[0m, \u001b[38;5;34m32\u001b[0m)          │           \u001b[38;5;34m544\u001b[0m │\n",
              "├─────────────────────────────────┼────────────────────────┼───────────────┤\n",
              "│ max_pooling1d_1 (\u001b[38;5;33mMaxPooling1D\u001b[0m)  │ (\u001b[38;5;45mNone\u001b[0m, \u001b[38;5;34m3\u001b[0m, \u001b[38;5;34m32\u001b[0m)          │             \u001b[38;5;34m0\u001b[0m │\n",
              "├─────────────────────────────────┼────────────────────────┼───────────────┤\n",
              "│ conv1d_2 (\u001b[38;5;33mConv1D\u001b[0m)               │ (\u001b[38;5;45mNone\u001b[0m, \u001b[38;5;34m3\u001b[0m, \u001b[38;5;34m64\u001b[0m)          │         \u001b[38;5;34m2,112\u001b[0m │\n",
              "├─────────────────────────────────┼────────────────────────┼───────────────┤\n",
              "│ max_pooling1d_2 (\u001b[38;5;33mMaxPooling1D\u001b[0m)  │ (\u001b[38;5;45mNone\u001b[0m, \u001b[38;5;34m1\u001b[0m, \u001b[38;5;34m64\u001b[0m)          │             \u001b[38;5;34m0\u001b[0m │\n",
              "├─────────────────────────────────┼────────────────────────┼───────────────┤\n",
              "│ flatten (\u001b[38;5;33mFlatten\u001b[0m)               │ (\u001b[38;5;45mNone\u001b[0m, \u001b[38;5;34m64\u001b[0m)             │             \u001b[38;5;34m0\u001b[0m │\n",
              "├─────────────────────────────────┼────────────────────────┼───────────────┤\n",
              "│ dense (\u001b[38;5;33mDense\u001b[0m)                   │ (\u001b[38;5;45mNone\u001b[0m, \u001b[38;5;34m16\u001b[0m)             │         \u001b[38;5;34m1,040\u001b[0m │\n",
              "├─────────────────────────────────┼────────────────────────┼───────────────┤\n",
              "│ dense_1 (\u001b[38;5;33mDense\u001b[0m)                 │ (\u001b[38;5;45mNone\u001b[0m, \u001b[38;5;34m6\u001b[0m)              │           \u001b[38;5;34m102\u001b[0m │\n",
              "└─────────────────────────────────┴────────────────────────┴───────────────┘\n"
            ],
            "text/html": [
              "<pre style=\"white-space:pre;overflow-x:auto;line-height:normal;font-family:Menlo,'DejaVu Sans Mono',consolas,'Courier New',monospace\">┏━━━━━━━━━━━━━━━━━━━━━━━━━━━━━━━━━┳━━━━━━━━━━━━━━━━━━━━━━━━┳━━━━━━━━━━━━━━━┓\n",
              "┃<span style=\"font-weight: bold\"> Layer (type)                    </span>┃<span style=\"font-weight: bold\"> Output Shape           </span>┃<span style=\"font-weight: bold\">       Param # </span>┃\n",
              "┡━━━━━━━━━━━━━━━━━━━━━━━━━━━━━━━━━╇━━━━━━━━━━━━━━━━━━━━━━━━╇━━━━━━━━━━━━━━━┩\n",
              "│ conv1d (<span style=\"color: #0087ff; text-decoration-color: #0087ff\">Conv1D</span>)                 │ (<span style=\"color: #00d7ff; text-decoration-color: #00d7ff\">None</span>, <span style=\"color: #00af00; text-decoration-color: #00af00\">13</span>, <span style=\"color: #00af00; text-decoration-color: #00af00\">16</span>)         │            <span style=\"color: #00af00; text-decoration-color: #00af00\">32</span> │\n",
              "├─────────────────────────────────┼────────────────────────┼───────────────┤\n",
              "│ max_pooling1d (<span style=\"color: #0087ff; text-decoration-color: #0087ff\">MaxPooling1D</span>)    │ (<span style=\"color: #00d7ff; text-decoration-color: #00d7ff\">None</span>, <span style=\"color: #00af00; text-decoration-color: #00af00\">6</span>, <span style=\"color: #00af00; text-decoration-color: #00af00\">16</span>)          │             <span style=\"color: #00af00; text-decoration-color: #00af00\">0</span> │\n",
              "├─────────────────────────────────┼────────────────────────┼───────────────┤\n",
              "│ conv1d_1 (<span style=\"color: #0087ff; text-decoration-color: #0087ff\">Conv1D</span>)               │ (<span style=\"color: #00d7ff; text-decoration-color: #00d7ff\">None</span>, <span style=\"color: #00af00; text-decoration-color: #00af00\">6</span>, <span style=\"color: #00af00; text-decoration-color: #00af00\">32</span>)          │           <span style=\"color: #00af00; text-decoration-color: #00af00\">544</span> │\n",
              "├─────────────────────────────────┼────────────────────────┼───────────────┤\n",
              "│ max_pooling1d_1 (<span style=\"color: #0087ff; text-decoration-color: #0087ff\">MaxPooling1D</span>)  │ (<span style=\"color: #00d7ff; text-decoration-color: #00d7ff\">None</span>, <span style=\"color: #00af00; text-decoration-color: #00af00\">3</span>, <span style=\"color: #00af00; text-decoration-color: #00af00\">32</span>)          │             <span style=\"color: #00af00; text-decoration-color: #00af00\">0</span> │\n",
              "├─────────────────────────────────┼────────────────────────┼───────────────┤\n",
              "│ conv1d_2 (<span style=\"color: #0087ff; text-decoration-color: #0087ff\">Conv1D</span>)               │ (<span style=\"color: #00d7ff; text-decoration-color: #00d7ff\">None</span>, <span style=\"color: #00af00; text-decoration-color: #00af00\">3</span>, <span style=\"color: #00af00; text-decoration-color: #00af00\">64</span>)          │         <span style=\"color: #00af00; text-decoration-color: #00af00\">2,112</span> │\n",
              "├─────────────────────────────────┼────────────────────────┼───────────────┤\n",
              "│ max_pooling1d_2 (<span style=\"color: #0087ff; text-decoration-color: #0087ff\">MaxPooling1D</span>)  │ (<span style=\"color: #00d7ff; text-decoration-color: #00d7ff\">None</span>, <span style=\"color: #00af00; text-decoration-color: #00af00\">1</span>, <span style=\"color: #00af00; text-decoration-color: #00af00\">64</span>)          │             <span style=\"color: #00af00; text-decoration-color: #00af00\">0</span> │\n",
              "├─────────────────────────────────┼────────────────────────┼───────────────┤\n",
              "│ flatten (<span style=\"color: #0087ff; text-decoration-color: #0087ff\">Flatten</span>)               │ (<span style=\"color: #00d7ff; text-decoration-color: #00d7ff\">None</span>, <span style=\"color: #00af00; text-decoration-color: #00af00\">64</span>)             │             <span style=\"color: #00af00; text-decoration-color: #00af00\">0</span> │\n",
              "├─────────────────────────────────┼────────────────────────┼───────────────┤\n",
              "│ dense (<span style=\"color: #0087ff; text-decoration-color: #0087ff\">Dense</span>)                   │ (<span style=\"color: #00d7ff; text-decoration-color: #00d7ff\">None</span>, <span style=\"color: #00af00; text-decoration-color: #00af00\">16</span>)             │         <span style=\"color: #00af00; text-decoration-color: #00af00\">1,040</span> │\n",
              "├─────────────────────────────────┼────────────────────────┼───────────────┤\n",
              "│ dense_1 (<span style=\"color: #0087ff; text-decoration-color: #0087ff\">Dense</span>)                 │ (<span style=\"color: #00d7ff; text-decoration-color: #00d7ff\">None</span>, <span style=\"color: #00af00; text-decoration-color: #00af00\">6</span>)              │           <span style=\"color: #00af00; text-decoration-color: #00af00\">102</span> │\n",
              "└─────────────────────────────────┴────────────────────────┴───────────────┘\n",
              "</pre>\n"
            ]
          },
          "metadata": {}
        },
        {
          "output_type": "display_data",
          "data": {
            "text/plain": [
              "\u001b[1m Total params: \u001b[0m\u001b[38;5;34m3,830\u001b[0m (14.96 KB)\n"
            ],
            "text/html": [
              "<pre style=\"white-space:pre;overflow-x:auto;line-height:normal;font-family:Menlo,'DejaVu Sans Mono',consolas,'Courier New',monospace\"><span style=\"font-weight: bold\"> Total params: </span><span style=\"color: #00af00; text-decoration-color: #00af00\">3,830</span> (14.96 KB)\n",
              "</pre>\n"
            ]
          },
          "metadata": {}
        },
        {
          "output_type": "display_data",
          "data": {
            "text/plain": [
              "\u001b[1m Trainable params: \u001b[0m\u001b[38;5;34m3,830\u001b[0m (14.96 KB)\n"
            ],
            "text/html": [
              "<pre style=\"white-space:pre;overflow-x:auto;line-height:normal;font-family:Menlo,'DejaVu Sans Mono',consolas,'Courier New',monospace\"><span style=\"font-weight: bold\"> Trainable params: </span><span style=\"color: #00af00; text-decoration-color: #00af00\">3,830</span> (14.96 KB)\n",
              "</pre>\n"
            ]
          },
          "metadata": {}
        },
        {
          "output_type": "display_data",
          "data": {
            "text/plain": [
              "\u001b[1m Non-trainable params: \u001b[0m\u001b[38;5;34m0\u001b[0m (0.00 B)\n"
            ],
            "text/html": [
              "<pre style=\"white-space:pre;overflow-x:auto;line-height:normal;font-family:Menlo,'DejaVu Sans Mono',consolas,'Courier New',monospace\"><span style=\"font-weight: bold\"> Non-trainable params: </span><span style=\"color: #00af00; text-decoration-color: #00af00\">0</span> (0.00 B)\n",
              "</pre>\n"
            ]
          },
          "metadata": {}
        }
      ]
    },
    {
      "cell_type": "code",
      "source": [
        "# Select only numeric columns for training\n",
        "X_train_numeric = X_train.select_dtypes(include=np.number)\n",
        "X_test_numeric = X_test.select_dtypes(include=np.number)\n",
        "\n",
        "# Reshape data for CNN (samples, timesteps, features)\n",
        "X_train_reshaped = X_train_numeric.values.reshape(X_train_numeric.shape[0], X_train_numeric.shape[1], 1)\n",
        "X_test_reshaped = X_test_numeric.values.reshape(X_test_numeric.shape[0], X_test_numeric.shape[1], 1)\n",
        "\n",
        "history = model.fit(X_train_reshaped, y_train, epochs=100, batch_size=32, validation_split=0.2)"
      ],
      "metadata": {
        "colab": {
          "base_uri": "https://localhost:8080/"
        },
        "id": "uCz_kmgC8y1b",
        "outputId": "b8e36818-9193-458d-bbec-ff1ca562aeab"
      },
      "execution_count": null,
      "outputs": [
        {
          "output_type": "stream",
          "name": "stdout",
          "text": [
            "Epoch 1/100\n",
            "\u001b[1m951/951\u001b[0m \u001b[32m━━━━━━━━━━━━━━━━━━━━\u001b[0m\u001b[37m\u001b[0m \u001b[1m7s\u001b[0m 5ms/step - accuracy: 0.7104 - loss: 4815.8315 - val_accuracy: 0.9087 - val_loss: 131.2829\n",
            "Epoch 2/100\n",
            "\u001b[1m951/951\u001b[0m \u001b[32m━━━━━━━━━━━━━━━━━━━━\u001b[0m\u001b[37m\u001b[0m \u001b[1m3s\u001b[0m 4ms/step - accuracy: 0.7933 - loss: 153.6497 - val_accuracy: 0.9071 - val_loss: 57.4313\n",
            "Epoch 3/100\n",
            "\u001b[1m951/951\u001b[0m \u001b[32m━━━━━━━━━━━━━━━━━━━━\u001b[0m\u001b[37m\u001b[0m \u001b[1m4s\u001b[0m 4ms/step - accuracy: 0.7985 - loss: 104.6303 - val_accuracy: 0.9085 - val_loss: 44.3102\n",
            "Epoch 4/100\n",
            "\u001b[1m951/951\u001b[0m \u001b[32m━━━━━━━━━━━━━━━━━━━━\u001b[0m\u001b[37m\u001b[0m \u001b[1m5s\u001b[0m 5ms/step - accuracy: 0.7992 - loss: 55.2876 - val_accuracy: 0.9079 - val_loss: 25.3410\n",
            "Epoch 5/100\n",
            "\u001b[1m951/951\u001b[0m \u001b[32m━━━━━━━━━━━━━━━━━━━━\u001b[0m\u001b[37m\u001b[0m \u001b[1m4s\u001b[0m 4ms/step - accuracy: 0.8010 - loss: 31.4764 - val_accuracy: 0.9089 - val_loss: 25.2125\n",
            "Epoch 6/100\n",
            "\u001b[1m951/951\u001b[0m \u001b[32m━━━━━━━━━━━━━━━━━━━━\u001b[0m\u001b[37m\u001b[0m \u001b[1m4s\u001b[0m 4ms/step - accuracy: 0.8063 - loss: 13.1334 - val_accuracy: 0.4489 - val_loss: 1.7025\n",
            "Epoch 7/100\n",
            "\u001b[1m951/951\u001b[0m \u001b[32m━━━━━━━━━━━━━━━━━━━━\u001b[0m\u001b[37m\u001b[0m \u001b[1m4s\u001b[0m 4ms/step - accuracy: 0.8218 - loss: 2.0997 - val_accuracy: 0.9083 - val_loss: 0.3479\n",
            "Epoch 8/100\n",
            "\u001b[1m951/951\u001b[0m \u001b[32m━━━━━━━━━━━━━━━━━━━━\u001b[0m\u001b[37m\u001b[0m \u001b[1m5s\u001b[0m 5ms/step - accuracy: 0.8813 - loss: 0.4558 - val_accuracy: 0.9086 - val_loss: 0.3389\n",
            "Epoch 9/100\n",
            "\u001b[1m951/951\u001b[0m \u001b[32m━━━━━━━━━━━━━━━━━━━━\u001b[0m\u001b[37m\u001b[0m \u001b[1m3s\u001b[0m 4ms/step - accuracy: 0.8891 - loss: 0.3960 - val_accuracy: 0.9073 - val_loss: 0.3368\n",
            "Epoch 10/100\n",
            "\u001b[1m951/951\u001b[0m \u001b[32m━━━━━━━━━━━━━━━━━━━━\u001b[0m\u001b[37m\u001b[0m \u001b[1m4s\u001b[0m 4ms/step - accuracy: 0.8879 - loss: 0.3963 - val_accuracy: 0.9083 - val_loss: 0.3246\n",
            "Epoch 11/100\n",
            "\u001b[1m951/951\u001b[0m \u001b[32m━━━━━━━━━━━━━━━━━━━━\u001b[0m\u001b[37m\u001b[0m \u001b[1m5s\u001b[0m 5ms/step - accuracy: 0.8870 - loss: 0.4006 - val_accuracy: 0.9087 - val_loss: 0.4839\n",
            "Epoch 12/100\n",
            "\u001b[1m951/951\u001b[0m \u001b[32m━━━━━━━━━━━━━━━━━━━━\u001b[0m\u001b[37m\u001b[0m \u001b[1m4s\u001b[0m 4ms/step - accuracy: 0.8677 - loss: 11.6831 - val_accuracy: 0.9087 - val_loss: 0.3417\n",
            "Epoch 13/100\n",
            "\u001b[1m951/951\u001b[0m \u001b[32m━━━━━━━━━━━━━━━━━━━━\u001b[0m\u001b[37m\u001b[0m \u001b[1m3s\u001b[0m 4ms/step - accuracy: 0.8897 - loss: 0.3917 - val_accuracy: 0.9087 - val_loss: 0.3311\n",
            "Epoch 14/100\n",
            "\u001b[1m951/951\u001b[0m \u001b[32m━━━━━━━━━━━━━━━━━━━━\u001b[0m\u001b[37m\u001b[0m \u001b[1m4s\u001b[0m 4ms/step - accuracy: 0.8873 - loss: 0.3926 - val_accuracy: 0.9087 - val_loss: 0.3189\n",
            "Epoch 15/100\n",
            "\u001b[1m951/951\u001b[0m \u001b[32m━━━━━━━━━━━━━━━━━━━━\u001b[0m\u001b[37m\u001b[0m \u001b[1m5s\u001b[0m 5ms/step - accuracy: 0.8891 - loss: 0.3798 - val_accuracy: 0.9087 - val_loss: 0.3244\n",
            "Epoch 16/100\n",
            "\u001b[1m951/951\u001b[0m \u001b[32m━━━━━━━━━━━━━━━━━━━━\u001b[0m\u001b[37m\u001b[0m \u001b[1m4s\u001b[0m 4ms/step - accuracy: 0.8886 - loss: 0.3799 - val_accuracy: 0.9087 - val_loss: 0.3183\n",
            "Epoch 17/100\n",
            "\u001b[1m951/951\u001b[0m \u001b[32m━━━━━━━━━━━━━━━━━━━━\u001b[0m\u001b[37m\u001b[0m \u001b[1m3s\u001b[0m 4ms/step - accuracy: 0.8885 - loss: 0.3758 - val_accuracy: 0.9087 - val_loss: 0.3167\n",
            "Epoch 18/100\n",
            "\u001b[1m951/951\u001b[0m \u001b[32m━━━━━━━━━━━━━━━━━━━━\u001b[0m\u001b[37m\u001b[0m \u001b[1m4s\u001b[0m 4ms/step - accuracy: 0.8905 - loss: 0.3700 - val_accuracy: 0.9087 - val_loss: 0.3182\n",
            "Epoch 19/100\n",
            "\u001b[1m951/951\u001b[0m \u001b[32m━━━━━━━━━━━━━━━━━━━━\u001b[0m\u001b[37m\u001b[0m \u001b[1m4s\u001b[0m 4ms/step - accuracy: 0.8886 - loss: 0.3667 - val_accuracy: 0.9087 - val_loss: 0.3221\n",
            "Epoch 20/100\n",
            "\u001b[1m951/951\u001b[0m \u001b[32m━━━━━━━━━━━━━━━━━━━━\u001b[0m\u001b[37m\u001b[0m \u001b[1m3s\u001b[0m 4ms/step - accuracy: 0.8912 - loss: 0.3640 - val_accuracy: 0.9087 - val_loss: 0.3153\n",
            "Epoch 21/100\n",
            "\u001b[1m951/951\u001b[0m \u001b[32m━━━━━━━━━━━━━━━━━━━━\u001b[0m\u001b[37m\u001b[0m \u001b[1m4s\u001b[0m 4ms/step - accuracy: 0.8889 - loss: 0.3739 - val_accuracy: 0.9087 - val_loss: 0.3143\n",
            "Epoch 22/100\n",
            "\u001b[1m951/951\u001b[0m \u001b[32m━━━━━━━━━━━━━━━━━━━━\u001b[0m\u001b[37m\u001b[0m \u001b[1m6s\u001b[0m 5ms/step - accuracy: 0.8887 - loss: 0.4947 - val_accuracy: 0.9087 - val_loss: 0.3152\n",
            "Epoch 23/100\n",
            "\u001b[1m951/951\u001b[0m \u001b[32m━━━━━━━━━━━━━━━━━━━━\u001b[0m\u001b[37m\u001b[0m \u001b[1m4s\u001b[0m 4ms/step - accuracy: 0.8906 - loss: 0.3722 - val_accuracy: 0.9087 - val_loss: 0.3140\n",
            "Epoch 24/100\n",
            "\u001b[1m951/951\u001b[0m \u001b[32m━━━━━━━━━━━━━━━━━━━━\u001b[0m\u001b[37m\u001b[0m \u001b[1m4s\u001b[0m 4ms/step - accuracy: 0.8892 - loss: 0.3759 - val_accuracy: 0.9087 - val_loss: 0.3189\n",
            "Epoch 25/100\n",
            "\u001b[1m951/951\u001b[0m \u001b[32m━━━━━━━━━━━━━━━━━━━━\u001b[0m\u001b[37m\u001b[0m \u001b[1m6s\u001b[0m 5ms/step - accuracy: 0.8887 - loss: 0.3761 - val_accuracy: 0.9087 - val_loss: 0.3140\n",
            "Epoch 26/100\n",
            "\u001b[1m951/951\u001b[0m \u001b[32m━━━━━━━━━━━━━━━━━━━━\u001b[0m\u001b[37m\u001b[0m \u001b[1m4s\u001b[0m 4ms/step - accuracy: 0.8906 - loss: 0.3686 - val_accuracy: 0.9087 - val_loss: 0.3259\n",
            "Epoch 27/100\n",
            "\u001b[1m951/951\u001b[0m \u001b[32m━━━━━━━━━━━━━━━━━━━━\u001b[0m\u001b[37m\u001b[0m \u001b[1m3s\u001b[0m 4ms/step - accuracy: 0.8923 - loss: 0.3657 - val_accuracy: 0.9087 - val_loss: 0.3245\n",
            "Epoch 28/100\n",
            "\u001b[1m951/951\u001b[0m \u001b[32m━━━━━━━━━━━━━━━━━━━━\u001b[0m\u001b[37m\u001b[0m \u001b[1m4s\u001b[0m 4ms/step - accuracy: 0.8900 - loss: 0.3693 - val_accuracy: 0.9087 - val_loss: 0.3177\n",
            "Epoch 29/100\n",
            "\u001b[1m951/951\u001b[0m \u001b[32m━━━━━━━━━━━━━━━━━━━━\u001b[0m\u001b[37m\u001b[0m \u001b[1m5s\u001b[0m 4ms/step - accuracy: 0.8915 - loss: 0.3629 - val_accuracy: 0.9087 - val_loss: 0.3156\n",
            "Epoch 30/100\n",
            "\u001b[1m951/951\u001b[0m \u001b[32m━━━━━━━━━━━━━━━━━━━━\u001b[0m\u001b[37m\u001b[0m \u001b[1m4s\u001b[0m 4ms/step - accuracy: 0.8922 - loss: 0.3635 - val_accuracy: 0.9087 - val_loss: 0.3159\n",
            "Epoch 31/100\n",
            "\u001b[1m951/951\u001b[0m \u001b[32m━━━━━━━━━━━━━━━━━━━━\u001b[0m\u001b[37m\u001b[0m \u001b[1m4s\u001b[0m 4ms/step - accuracy: 0.8889 - loss: 0.3717 - val_accuracy: 0.9087 - val_loss: 0.3136\n",
            "Epoch 32/100\n",
            "\u001b[1m951/951\u001b[0m \u001b[32m━━━━━━━━━━━━━━━━━━━━\u001b[0m\u001b[37m\u001b[0m \u001b[1m5s\u001b[0m 5ms/step - accuracy: 0.8879 - loss: 0.3779 - val_accuracy: 0.9087 - val_loss: 0.3128\n",
            "Epoch 33/100\n",
            "\u001b[1m951/951\u001b[0m \u001b[32m━━━━━━━━━━━━━━━━━━━━\u001b[0m\u001b[37m\u001b[0m \u001b[1m4s\u001b[0m 4ms/step - accuracy: 0.8888 - loss: 0.3729 - val_accuracy: 0.9087 - val_loss: 0.3127\n",
            "Epoch 34/100\n",
            "\u001b[1m951/951\u001b[0m \u001b[32m━━━━━━━━━━━━━━━━━━━━\u001b[0m\u001b[37m\u001b[0m \u001b[1m4s\u001b[0m 4ms/step - accuracy: 0.8911 - loss: 0.3680 - val_accuracy: 0.9087 - val_loss: 0.3200\n",
            "Epoch 35/100\n",
            "\u001b[1m951/951\u001b[0m \u001b[32m━━━━━━━━━━━━━━━━━━━━\u001b[0m\u001b[37m\u001b[0m \u001b[1m5s\u001b[0m 5ms/step - accuracy: 0.8903 - loss: 0.3723 - val_accuracy: 0.9087 - val_loss: 0.3132\n",
            "Epoch 36/100\n",
            "\u001b[1m951/951\u001b[0m \u001b[32m━━━━━━━━━━━━━━━━━━━━\u001b[0m\u001b[37m\u001b[0m \u001b[1m4s\u001b[0m 4ms/step - accuracy: 0.8888 - loss: 0.3723 - val_accuracy: 0.9087 - val_loss: 0.3140\n",
            "Epoch 37/100\n",
            "\u001b[1m951/951\u001b[0m \u001b[32m━━━━━━━━━━━━━━━━━━━━\u001b[0m\u001b[37m\u001b[0m \u001b[1m3s\u001b[0m 3ms/step - accuracy: 0.8897 - loss: 0.3687 - val_accuracy: 0.9087 - val_loss: 0.3141\n",
            "Epoch 38/100\n",
            "\u001b[1m951/951\u001b[0m \u001b[32m━━━━━━━━━━━━━━━━━━━━\u001b[0m\u001b[37m\u001b[0m \u001b[1m3s\u001b[0m 4ms/step - accuracy: 0.8913 - loss: 0.3636 - val_accuracy: 0.9087 - val_loss: 0.3149\n",
            "Epoch 39/100\n",
            "\u001b[1m951/951\u001b[0m \u001b[32m━━━━━━━━━━━━━━━━━━━━\u001b[0m\u001b[37m\u001b[0m \u001b[1m5s\u001b[0m 5ms/step - accuracy: 0.8928 - loss: 0.3598 - val_accuracy: 0.9087 - val_loss: 0.3124\n",
            "Epoch 40/100\n",
            "\u001b[1m951/951\u001b[0m \u001b[32m━━━━━━━━━━━━━━━━━━━━\u001b[0m\u001b[37m\u001b[0m \u001b[1m3s\u001b[0m 4ms/step - accuracy: 0.8901 - loss: 0.3717 - val_accuracy: 0.9087 - val_loss: 0.3130\n",
            "Epoch 41/100\n",
            "\u001b[1m951/951\u001b[0m \u001b[32m━━━━━━━━━━━━━━━━━━━━\u001b[0m\u001b[37m\u001b[0m \u001b[1m4s\u001b[0m 4ms/step - accuracy: 0.8920 - loss: 0.3611 - val_accuracy: 0.9087 - val_loss: 0.3139\n",
            "Epoch 42/100\n",
            "\u001b[1m951/951\u001b[0m \u001b[32m━━━━━━━━━━━━━━━━━━━━\u001b[0m\u001b[37m\u001b[0m \u001b[1m5s\u001b[0m 5ms/step - accuracy: 0.8891 - loss: 0.3670 - val_accuracy: 0.9087 - val_loss: 0.3183\n",
            "Epoch 43/100\n",
            "\u001b[1m951/951\u001b[0m \u001b[32m━━━━━━━━━━━━━━━━━━━━\u001b[0m\u001b[37m\u001b[0m \u001b[1m4s\u001b[0m 4ms/step - accuracy: 0.8888 - loss: 0.3734 - val_accuracy: 0.9087 - val_loss: 0.3127\n",
            "Epoch 44/100\n",
            "\u001b[1m951/951\u001b[0m \u001b[32m━━━━━━━━━━━━━━━━━━━━\u001b[0m\u001b[37m\u001b[0m \u001b[1m4s\u001b[0m 4ms/step - accuracy: 0.8916 - loss: 0.3625 - val_accuracy: 0.9087 - val_loss: 0.3129\n",
            "Epoch 45/100\n",
            "\u001b[1m951/951\u001b[0m \u001b[32m━━━━━━━━━━━━━━━━━━━━\u001b[0m\u001b[37m\u001b[0m \u001b[1m4s\u001b[0m 4ms/step - accuracy: 0.8909 - loss: 0.3625 - val_accuracy: 0.9087 - val_loss: 0.3125\n",
            "Epoch 46/100\n",
            "\u001b[1m951/951\u001b[0m \u001b[32m━━━━━━━━━━━━━━━━━━━━\u001b[0m\u001b[37m\u001b[0m \u001b[1m5s\u001b[0m 5ms/step - accuracy: 0.8887 - loss: 0.3692 - val_accuracy: 0.9087 - val_loss: 0.3123\n",
            "Epoch 47/100\n",
            "\u001b[1m951/951\u001b[0m \u001b[32m━━━━━━━━━━━━━━━━━━━━\u001b[0m\u001b[37m\u001b[0m \u001b[1m4s\u001b[0m 4ms/step - accuracy: 0.8913 - loss: 0.3645 - val_accuracy: 0.9087 - val_loss: 0.3145\n",
            "Epoch 48/100\n",
            "\u001b[1m951/951\u001b[0m \u001b[32m━━━━━━━━━━━━━━━━━━━━\u001b[0m\u001b[37m\u001b[0m \u001b[1m3s\u001b[0m 4ms/step - accuracy: 0.8883 - loss: 0.3696 - val_accuracy: 0.9087 - val_loss: 0.3207\n",
            "Epoch 49/100\n",
            "\u001b[1m951/951\u001b[0m \u001b[32m━━━━━━━━━━━━━━━━━━━━\u001b[0m\u001b[37m\u001b[0m \u001b[1m4s\u001b[0m 4ms/step - accuracy: 0.8915 - loss: 0.3610 - val_accuracy: 0.9087 - val_loss: 0.3184\n",
            "Epoch 50/100\n",
            "\u001b[1m951/951\u001b[0m \u001b[32m━━━━━━━━━━━━━━━━━━━━\u001b[0m\u001b[37m\u001b[0m \u001b[1m4s\u001b[0m 5ms/step - accuracy: 0.8920 - loss: 0.3661 - val_accuracy: 0.9087 - val_loss: 0.3182\n",
            "Epoch 51/100\n",
            "\u001b[1m951/951\u001b[0m \u001b[32m━━━━━━━━━━━━━━━━━━━━\u001b[0m\u001b[37m\u001b[0m \u001b[1m4s\u001b[0m 4ms/step - accuracy: 0.8928 - loss: 0.3633 - val_accuracy: 0.9087 - val_loss: 0.3147\n",
            "Epoch 52/100\n",
            "\u001b[1m951/951\u001b[0m \u001b[32m━━━━━━━━━━━━━━━━━━━━\u001b[0m\u001b[37m\u001b[0m \u001b[1m6s\u001b[0m 4ms/step - accuracy: 0.8934 - loss: 0.3585 - val_accuracy: 0.9087 - val_loss: 0.3120\n",
            "Epoch 53/100\n",
            "\u001b[1m951/951\u001b[0m \u001b[32m━━━━━━━━━━━━━━━━━━━━\u001b[0m\u001b[37m\u001b[0m \u001b[1m5s\u001b[0m 5ms/step - accuracy: 0.8927 - loss: 0.3607 - val_accuracy: 0.9087 - val_loss: 0.3131\n",
            "Epoch 54/100\n",
            "\u001b[1m951/951\u001b[0m \u001b[32m━━━━━━━━━━━━━━━━━━━━\u001b[0m\u001b[37m\u001b[0m \u001b[1m3s\u001b[0m 4ms/step - accuracy: 0.8900 - loss: 0.3698 - val_accuracy: 0.9087 - val_loss: 0.3139\n",
            "Epoch 55/100\n",
            "\u001b[1m951/951\u001b[0m \u001b[32m━━━━━━━━━━━━━━━━━━━━\u001b[0m\u001b[37m\u001b[0m \u001b[1m4s\u001b[0m 4ms/step - accuracy: 0.8904 - loss: 0.3695 - val_accuracy: 0.9087 - val_loss: 0.3166\n",
            "Epoch 56/100\n",
            "\u001b[1m951/951\u001b[0m \u001b[32m━━━━━━━━━━━━━━━━━━━━\u001b[0m\u001b[37m\u001b[0m \u001b[1m6s\u001b[0m 5ms/step - accuracy: 0.8895 - loss: 0.3647 - val_accuracy: 0.9087 - val_loss: 0.3152\n",
            "Epoch 57/100\n",
            "\u001b[1m951/951\u001b[0m \u001b[32m━━━━━━━━━━━━━━━━━━━━\u001b[0m\u001b[37m\u001b[0m \u001b[1m3s\u001b[0m 4ms/step - accuracy: 0.8891 - loss: 0.3686 - val_accuracy: 0.9087 - val_loss: 0.3129\n",
            "Epoch 58/100\n",
            "\u001b[1m951/951\u001b[0m \u001b[32m━━━━━━━━━━━━━━━━━━━━\u001b[0m\u001b[37m\u001b[0m \u001b[1m4s\u001b[0m 4ms/step - accuracy: 0.8927 - loss: 0.3609 - val_accuracy: 0.9087 - val_loss: 0.3116\n",
            "Epoch 59/100\n",
            "\u001b[1m951/951\u001b[0m \u001b[32m━━━━━━━━━━━━━━━━━━━━\u001b[0m\u001b[37m\u001b[0m \u001b[1m4s\u001b[0m 5ms/step - accuracy: 0.8899 - loss: 0.3694 - val_accuracy: 0.9087 - val_loss: 0.3120\n",
            "Epoch 60/100\n",
            "\u001b[1m951/951\u001b[0m \u001b[32m━━━━━━━━━━━━━━━━━━━━\u001b[0m\u001b[37m\u001b[0m \u001b[1m4s\u001b[0m 4ms/step - accuracy: 0.8932 - loss: 0.3602 - val_accuracy: 0.9087 - val_loss: 0.3141\n",
            "Epoch 61/100\n",
            "\u001b[1m951/951\u001b[0m \u001b[32m━━━━━━━━━━━━━━━━━━━━\u001b[0m\u001b[37m\u001b[0m \u001b[1m4s\u001b[0m 4ms/step - accuracy: 0.8934 - loss: 0.3576 - val_accuracy: 0.9087 - val_loss: 0.3119\n",
            "Epoch 62/100\n",
            "\u001b[1m951/951\u001b[0m \u001b[32m━━━━━━━━━━━━━━━━━━━━\u001b[0m\u001b[37m\u001b[0m \u001b[1m4s\u001b[0m 4ms/step - accuracy: 0.8897 - loss: 0.3711 - val_accuracy: 0.9087 - val_loss: 0.3156\n",
            "Epoch 63/100\n",
            "\u001b[1m951/951\u001b[0m \u001b[32m━━━━━━━━━━━━━━━━━━━━\u001b[0m\u001b[37m\u001b[0m \u001b[1m5s\u001b[0m 5ms/step - accuracy: 0.8918 - loss: 0.3655 - val_accuracy: 0.9087 - val_loss: 0.3146\n",
            "Epoch 64/100\n",
            "\u001b[1m951/951\u001b[0m \u001b[32m━━━━━━━━━━━━━━━━━━━━\u001b[0m\u001b[37m\u001b[0m \u001b[1m4s\u001b[0m 4ms/step - accuracy: 0.8888 - loss: 0.3675 - val_accuracy: 0.9087 - val_loss: 0.3130\n",
            "Epoch 65/100\n",
            "\u001b[1m951/951\u001b[0m \u001b[32m━━━━━━━━━━━━━━━━━━━━\u001b[0m\u001b[37m\u001b[0m \u001b[1m4s\u001b[0m 4ms/step - accuracy: 0.8922 - loss: 0.3564 - val_accuracy: 0.9087 - val_loss: 0.3168\n",
            "Epoch 66/100\n",
            "\u001b[1m951/951\u001b[0m \u001b[32m━━━━━━━━━━━━━━━━━━━━\u001b[0m\u001b[37m\u001b[0m \u001b[1m5s\u001b[0m 5ms/step - accuracy: 0.8890 - loss: 0.3682 - val_accuracy: 0.9087 - val_loss: 0.3123\n",
            "Epoch 67/100\n",
            "\u001b[1m951/951\u001b[0m \u001b[32m━━━━━━━━━━━━━━━━━━━━\u001b[0m\u001b[37m\u001b[0m \u001b[1m4s\u001b[0m 4ms/step - accuracy: 0.8869 - loss: 0.3734 - val_accuracy: 0.9087 - val_loss: 0.3128\n",
            "Epoch 68/100\n",
            "\u001b[1m951/951\u001b[0m \u001b[32m━━━━━━━━━━━━━━━━━━━━\u001b[0m\u001b[37m\u001b[0m \u001b[1m4s\u001b[0m 4ms/step - accuracy: 0.8911 - loss: 0.3627 - val_accuracy: 0.9087 - val_loss: 0.3195\n",
            "Epoch 69/100\n",
            "\u001b[1m951/951\u001b[0m \u001b[32m━━━━━━━━━━━━━━━━━━━━\u001b[0m\u001b[37m\u001b[0m \u001b[1m7s\u001b[0m 5ms/step - accuracy: 0.8909 - loss: 0.3651 - val_accuracy: 0.9087 - val_loss: 0.3186\n",
            "Epoch 70/100\n",
            "\u001b[1m951/951\u001b[0m \u001b[32m━━━━━━━━━━━━━━━━━━━━\u001b[0m\u001b[37m\u001b[0m \u001b[1m4s\u001b[0m 4ms/step - accuracy: 0.8924 - loss: 0.3651 - val_accuracy: 0.9087 - val_loss: 0.3147\n",
            "Epoch 71/100\n",
            "\u001b[1m951/951\u001b[0m \u001b[32m━━━━━━━━━━━━━━━━━━━━\u001b[0m\u001b[37m\u001b[0m \u001b[1m3s\u001b[0m 3ms/step - accuracy: 0.8931 - loss: 0.3581 - val_accuracy: 0.9087 - val_loss: 0.3130\n",
            "Epoch 72/100\n",
            "\u001b[1m951/951\u001b[0m \u001b[32m━━━━━━━━━━━━━━━━━━━━\u001b[0m\u001b[37m\u001b[0m \u001b[1m3s\u001b[0m 4ms/step - accuracy: 0.8921 - loss: 0.3733 - val_accuracy: 0.9087 - val_loss: 0.3125\n",
            "Epoch 73/100\n",
            "\u001b[1m951/951\u001b[0m \u001b[32m━━━━━━━━━━━━━━━━━━━━\u001b[0m\u001b[37m\u001b[0m \u001b[1m5s\u001b[0m 5ms/step - accuracy: 0.8915 - loss: 0.3665 - val_accuracy: 0.9087 - val_loss: 0.3117\n",
            "Epoch 74/100\n",
            "\u001b[1m951/951\u001b[0m \u001b[32m━━━━━━━━━━━━━━━━━━━━\u001b[0m\u001b[37m\u001b[0m \u001b[1m4s\u001b[0m 4ms/step - accuracy: 0.8903 - loss: 0.3690 - val_accuracy: 0.9087 - val_loss: 0.3120\n",
            "Epoch 75/100\n",
            "\u001b[1m951/951\u001b[0m \u001b[32m━━━━━━━━━━━━━━━━━━━━\u001b[0m\u001b[37m\u001b[0m \u001b[1m3s\u001b[0m 3ms/step - accuracy: 0.8883 - loss: 0.3703 - val_accuracy: 0.9087 - val_loss: 0.3117\n",
            "Epoch 76/100\n",
            "\u001b[1m951/951\u001b[0m \u001b[32m━━━━━━━━━━━━━━━━━━━━\u001b[0m\u001b[37m\u001b[0m \u001b[1m4s\u001b[0m 4ms/step - accuracy: 0.8875 - loss: 0.3738 - val_accuracy: 0.9087 - val_loss: 0.3120\n",
            "Epoch 77/100\n",
            "\u001b[1m951/951\u001b[0m \u001b[32m━━━━━━━━━━━━━━━━━━━━\u001b[0m\u001b[37m\u001b[0m \u001b[1m4s\u001b[0m 4ms/step - accuracy: 0.8905 - loss: 0.3608 - val_accuracy: 0.9087 - val_loss: 0.3151\n",
            "Epoch 78/100\n",
            "\u001b[1m951/951\u001b[0m \u001b[32m━━━━━━━━━━━━━━━━━━━━\u001b[0m\u001b[37m\u001b[0m \u001b[1m3s\u001b[0m 4ms/step - accuracy: 0.8897 - loss: 0.3632 - val_accuracy: 0.9087 - val_loss: 0.3155\n",
            "Epoch 79/100\n",
            "\u001b[1m951/951\u001b[0m \u001b[32m━━━━━━━━━━━━━━━━━━━━\u001b[0m\u001b[37m\u001b[0m \u001b[1m3s\u001b[0m 4ms/step - accuracy: 0.8911 - loss: 0.3616 - val_accuracy: 0.9087 - val_loss: 0.3149\n",
            "Epoch 80/100\n",
            "\u001b[1m951/951\u001b[0m \u001b[32m━━━━━━━━━━━━━━━━━━━━\u001b[0m\u001b[37m\u001b[0m \u001b[1m7s\u001b[0m 5ms/step - accuracy: 0.8890 - loss: 0.3681 - val_accuracy: 0.9087 - val_loss: 0.3138\n",
            "Epoch 81/100\n",
            "\u001b[1m951/951\u001b[0m \u001b[32m━━━━━━━━━━━━━━━━━━━━\u001b[0m\u001b[37m\u001b[0m \u001b[1m4s\u001b[0m 4ms/step - accuracy: 0.8913 - loss: 0.3622 - val_accuracy: 0.9087 - val_loss: 0.3195\n",
            "Epoch 82/100\n",
            "\u001b[1m951/951\u001b[0m \u001b[32m━━━━━━━━━━━━━━━━━━━━\u001b[0m\u001b[37m\u001b[0m \u001b[1m3s\u001b[0m 4ms/step - accuracy: 0.8916 - loss: 0.3643 - val_accuracy: 0.9087 - val_loss: 0.3126\n",
            "Epoch 83/100\n",
            "\u001b[1m951/951\u001b[0m \u001b[32m━━━━━━━━━━━━━━━━━━━━\u001b[0m\u001b[37m\u001b[0m \u001b[1m5s\u001b[0m 5ms/step - accuracy: 0.8905 - loss: 0.3668 - val_accuracy: 0.9087 - val_loss: 0.3157\n",
            "Epoch 84/100\n",
            "\u001b[1m951/951\u001b[0m \u001b[32m━━━━━━━━━━━━━━━━━━━━\u001b[0m\u001b[37m\u001b[0m \u001b[1m4s\u001b[0m 4ms/step - accuracy: 0.8932 - loss: 0.3593 - val_accuracy: 0.9087 - val_loss: 0.3121\n",
            "Epoch 85/100\n",
            "\u001b[1m951/951\u001b[0m \u001b[32m━━━━━━━━━━━━━━━━━━━━\u001b[0m\u001b[37m\u001b[0m \u001b[1m3s\u001b[0m 4ms/step - accuracy: 0.8919 - loss: 0.3604 - val_accuracy: 0.9087 - val_loss: 0.3121\n",
            "Epoch 86/100\n",
            "\u001b[1m951/951\u001b[0m \u001b[32m━━━━━━━━━━━━━━━━━━━━\u001b[0m\u001b[37m\u001b[0m \u001b[1m6s\u001b[0m 4ms/step - accuracy: 0.8904 - loss: 0.3666 - val_accuracy: 0.9087 - val_loss: 0.3160\n",
            "Epoch 87/100\n",
            "\u001b[1m951/951\u001b[0m \u001b[32m━━━━━━━━━━━━━━━━━━━━\u001b[0m\u001b[37m\u001b[0m \u001b[1m4s\u001b[0m 4ms/step - accuracy: 0.8906 - loss: 0.3616 - val_accuracy: 0.9087 - val_loss: 0.3124\n",
            "Epoch 88/100\n",
            "\u001b[1m951/951\u001b[0m \u001b[32m━━━━━━━━━━━━━━━━━━━━\u001b[0m\u001b[37m\u001b[0m \u001b[1m4s\u001b[0m 4ms/step - accuracy: 0.8916 - loss: 0.3606 - val_accuracy: 0.9087 - val_loss: 0.3173\n",
            "Epoch 89/100\n",
            "\u001b[1m951/951\u001b[0m \u001b[32m━━━━━━━━━━━━━━━━━━━━\u001b[0m\u001b[37m\u001b[0m \u001b[1m4s\u001b[0m 4ms/step - accuracy: 0.8913 - loss: 0.3636 - val_accuracy: 0.9087 - val_loss: 0.3157\n",
            "Epoch 90/100\n",
            "\u001b[1m951/951\u001b[0m \u001b[32m━━━━━━━━━━━━━━━━━━━━\u001b[0m\u001b[37m\u001b[0m \u001b[1m5s\u001b[0m 5ms/step - accuracy: 0.8909 - loss: 0.3679 - val_accuracy: 0.9087 - val_loss: 0.3122\n",
            "Epoch 91/100\n",
            "\u001b[1m951/951\u001b[0m \u001b[32m━━━━━━━━━━━━━━━━━━━━\u001b[0m\u001b[37m\u001b[0m \u001b[1m4s\u001b[0m 4ms/step - accuracy: 0.8905 - loss: 0.3650 - val_accuracy: 0.9087 - val_loss: 0.3134\n",
            "Epoch 92/100\n",
            "\u001b[1m951/951\u001b[0m \u001b[32m━━━━━━━━━━━━━━━━━━━━\u001b[0m\u001b[37m\u001b[0m \u001b[1m4s\u001b[0m 4ms/step - accuracy: 0.8920 - loss: 0.3590 - val_accuracy: 0.9087 - val_loss: 0.3135\n",
            "Epoch 93/100\n",
            "\u001b[1m951/951\u001b[0m \u001b[32m━━━━━━━━━━━━━━━━━━━━\u001b[0m\u001b[37m\u001b[0m \u001b[1m5s\u001b[0m 5ms/step - accuracy: 0.8890 - loss: 0.3706 - val_accuracy: 0.9087 - val_loss: 0.3131\n",
            "Epoch 94/100\n",
            "\u001b[1m951/951\u001b[0m \u001b[32m━━━━━━━━━━━━━━━━━━━━\u001b[0m\u001b[37m\u001b[0m \u001b[1m4s\u001b[0m 4ms/step - accuracy: 0.8920 - loss: 0.3604 - val_accuracy: 0.9087 - val_loss: 0.3109\n",
            "Epoch 95/100\n",
            "\u001b[1m951/951\u001b[0m \u001b[32m━━━━━━━━━━━━━━━━━━━━\u001b[0m\u001b[37m\u001b[0m \u001b[1m3s\u001b[0m 4ms/step - accuracy: 0.8863 - loss: 0.4202 - val_accuracy: 0.9087 - val_loss: 0.3115\n",
            "Epoch 96/100\n",
            "\u001b[1m951/951\u001b[0m \u001b[32m━━━━━━━━━━━━━━━━━━━━\u001b[0m\u001b[37m\u001b[0m \u001b[1m4s\u001b[0m 5ms/step - accuracy: 0.8931 - loss: 0.3580 - val_accuracy: 0.9087 - val_loss: 0.3130\n",
            "Epoch 97/100\n",
            "\u001b[1m951/951\u001b[0m \u001b[32m━━━━━━━━━━━━━━━━━━━━\u001b[0m\u001b[37m\u001b[0m \u001b[1m4s\u001b[0m 4ms/step - accuracy: 0.8931 - loss: 0.3581 - val_accuracy: 0.9087 - val_loss: 0.3113\n",
            "Epoch 98/100\n",
            "\u001b[1m951/951\u001b[0m \u001b[32m━━━━━━━━━━━━━━━━━━━━\u001b[0m\u001b[37m\u001b[0m \u001b[1m3s\u001b[0m 4ms/step - accuracy: 0.8925 - loss: 0.3609 - val_accuracy: 0.9087 - val_loss: 0.3125\n",
            "Epoch 99/100\n",
            "\u001b[1m951/951\u001b[0m \u001b[32m━━━━━━━━━━━━━━━━━━━━\u001b[0m\u001b[37m\u001b[0m \u001b[1m4s\u001b[0m 4ms/step - accuracy: 0.8873 - loss: 0.3834 - val_accuracy: 0.9087 - val_loss: 0.3119\n",
            "Epoch 100/100\n",
            "\u001b[1m951/951\u001b[0m \u001b[32m━━━━━━━━━━━━━━━━━━━━\u001b[0m\u001b[37m\u001b[0m \u001b[1m5s\u001b[0m 5ms/step - accuracy: 0.8903 - loss: 0.3615 - val_accuracy: 0.9087 - val_loss: 0.3131\n"
          ]
        }
      ]
    },
    {
      "cell_type": "code",
      "source": [
        "import matplotlib.pyplot as plt\n",
        "\n",
        "# Plot training & validation accuracy values\n",
        "plt.figure(figsize=(12, 6))\n",
        "plt.subplot(1, 2, 1)\n",
        "plt.plot(history.history['accuracy'])\n",
        "plt.plot(history.history['val_accuracy'])\n",
        "plt.title('Model Accuracy')\n",
        "plt.ylabel('Accuracy')\n",
        "plt.xlabel('Epoch')\n",
        "plt.legend(['Train', 'Validation'], loc='upper left')\n",
        "\n",
        "# Plot training & validation loss values\n",
        "plt.subplot(1, 2, 2)\n",
        "plt.plot(history.history['loss'])\n",
        "plt.plot(history.history['val_loss'])\n",
        "plt.title('Model Loss')\n",
        "plt.ylabel('Loss')\n",
        "plt.xlabel('Epoch')\n",
        "plt.legend(['Train', 'Validation'], loc='upper left')\n",
        "\n",
        "plt.tight_layout()\n",
        "plt.show()"
      ],
      "metadata": {
        "colab": {
          "base_uri": "https://localhost:8080/",
          "height": 310
        },
        "id": "AbhB18IroC0q",
        "outputId": "963c1606-77bd-4bdb-d649-1315de42e292"
      },
      "execution_count": null,
      "outputs": [
        {
          "output_type": "display_data",
          "data": {
            "text/plain": [
              "<Figure size 1200x600 with 2 Axes>"
            ],
            "image/png": "[encoded data removed]"
          },
          "metadata": {}
        }
      ]
    },
    {
      "cell_type": "code",
      "source": [
        "\n",
        "# Generate some test data\n",
        "\n",
        "# Predict on test data\n",
        "predictions = model.predict(X_test_reshaped)\n",
        "\n",
        "# Print predictions\n",
        "print(\"Predictions:\")\n",
        "print(predictions)\n",
        "\n",
        "# Evaluate the model on test data (if you have labels)\n",
        "\n",
        "loss, accuracy = model.evaluate(X_test_reshaped, y_test)\n",
        "print(f'Test loss: {loss:.4f}, Test accuracy: {accuracy:.4f}')"
      ],
      "metadata": {
        "colab": {
          "base_uri": "https://localhost:8080/"
        },
        "id": "hb3bcJ7u9EtJ",
        "outputId": "d6dca630-dbce-4114-aafc-9dc7d01465e3"
      },
      "execution_count": null,
      "outputs": [
        {
          "output_type": "stream",
          "name": "stdout",
          "text": [
            "\u001b[1m396/396\u001b[0m \u001b[32m━━━━━━━━━━━━━━━━━━━━\u001b[0m\u001b[37m\u001b[0m \u001b[1m2s\u001b[0m 4ms/step\n",
            "Predictions:\n",
            "[[1.4279304e-05 2.1537762e-02 1.6065476e-15 2.1335456e-01 7.4007934e-01\n",
            "  2.5013959e-02]\n",
            " [5.0300908e-10 5.1232907e-03 1.6971089e-18 5.9598640e-02 9.3033779e-01\n",
            "  4.9403645e-03]\n",
            " [1.8537331e-12 1.8832623e-03 3.8156529e-16 1.5890248e-02 9.7938067e-01\n",
            "  2.8458375e-03]\n",
            " ...\n",
            " [2.1921653e-09 3.7838561e-03 3.3784372e-17 5.3502671e-02 9.3041092e-01\n",
            "  1.2302524e-02]\n",
            " [7.9018840e-11 2.3632536e-03 2.9071742e-18 3.2069337e-02 9.5916867e-01\n",
            "  6.3988436e-03]\n",
            " [1.7140367e-06 1.6115047e-02 5.1644800e-13 1.2289623e-01 8.3365577e-01\n",
            "  2.7331220e-02]]\n",
            "\u001b[1m396/396\u001b[0m \u001b[32m━━━━━━━━━━━━━━━━━━━━\u001b[0m\u001b[37m\u001b[0m \u001b[1m2s\u001b[0m 5ms/step - accuracy: 0.8584 - loss: 0.4723\n",
            "Test loss: 0.4444, Test accuracy: 0.8677\n"
          ]
        }
      ]
    },
    {
      "cell_type": "code",
      "source": [
        "\n",
        "pred = model.predict(X_test_reshaped)\n",
        "pred_y = pred.argmax(axis=-1)"
      ],
      "metadata": {
        "colab": {
          "base_uri": "https://localhost:8080/"
        },
        "id": "RsYiHOZB6D1_",
        "outputId": "1d946742-586d-4fe7-f5b8-9b7c9e8f5734"
      },
      "execution_count": null,
      "outputs": [
        {
          "output_type": "stream",
          "name": "stdout",
          "text": [
            "\u001b[1m396/396\u001b[0m \u001b[32m━━━━━━━━━━━━━━━━━━━━\u001b[0m\u001b[37m\u001b[0m \u001b[1m1s\u001b[0m 2ms/step\n"
          ]
        }
      ]
    },
    {
      "cell_type": "code",
      "source": [
        "import numpy as np\n",
        "print(np.shape(pred_y))"
      ],
      "metadata": {
        "colab": {
          "base_uri": "https://localhost:8080/"
        },
        "id": "GpP2iSv6B_ox",
        "outputId": "5705e399-d605-4b0a-a04f-51b30407868f"
      },
      "execution_count": null,
      "outputs": [
        {
          "output_type": "stream",
          "name": "stdout",
          "text": [
            "(12671,)\n"
          ]
        }
      ]
    },
    {
      "cell_type": "code",
      "source": [
        "from sklearn.metrics import confusion_matrix\n",
        "cm = confusion_matrix(y_test, pred_y)\n",
        "print(cm)"
      ],
      "metadata": {
        "colab": {
          "base_uri": "https://localhost:8080/"
        },
        "id": "DXU4FNMZ6q5z",
        "outputId": "b7cc9d5e-4364-47be-bfa2-8c1d33e3734f"
      },
      "execution_count": null,
      "outputs": [
        {
          "output_type": "stream",
          "name": "stdout",
          "text": [
            "[[    0     0     0     3     0]\n",
            " [    0     0     0   153     0]\n",
            " [    0     0     0  1257     0]\n",
            " [    1     0     0 10995     0]\n",
            " [    0     0     0   262     0]]\n"
          ]
        }
      ]
    },
    {
      "cell_type": "code",
      "source": [
        "print(cm[:,3])"
      ],
      "metadata": {
        "colab": {
          "base_uri": "https://localhost:8080/"
        },
        "id": "bwAj07xWCI1A",
        "outputId": "35a8f0ec-8e8c-43fa-8c35-4a4e5f7d2a35"
      },
      "execution_count": null,
      "outputs": [
        {
          "output_type": "stream",
          "name": "stdout",
          "text": [
            "[    3   153  1257 10995   262]\n"
          ]
        }
      ]
    },
    {
      "cell_type": "code",
      "source": [
        "from sklearn.metrics import confusion_matrix, ConfusionMatrixDisplay\n",
        "disp = ConfusionMatrixDisplay.from_predictions(y_test, pred_y)\n",
        "#disp.plot()"
      ],
      "metadata": {
        "colab": {
          "base_uri": "https://localhost:8080/",
          "height": 449
        },
        "id": "-p2gOi4P7I9P",
        "outputId": "b4f7ca4e-3949-4a56-8d40-157c5fb4a2bf"
      },
      "execution_count": null,
      "outputs": [
        {
          "output_type": "display_data",
          "data": {
            "text/plain": [
              "<Figure size 640x480 with 2 Axes>"
            ],
            "image/png": "[encoded data removed]"
          },
          "metadata": {}
        }
      ]
    },
    {
      "cell_type": "code",
      "source": [
        "print(np.shape(y_test))\n",
        "print(np.shape(pred_y))"
      ],
      "metadata": {
        "colab": {
          "base_uri": "https://localhost:8080/"
        },
        "id": "1A8I8t7aCbXw",
        "outputId": "20eabe95-aace-4d23-faab-46e97ed66d1f"
      },
      "execution_count": null,
      "outputs": [
        {
          "output_type": "stream",
          "name": "stdout",
          "text": [
            "(12671,)\n",
            "(12671,)\n"
          ]
        }
      ]
    },
    {
      "cell_type": "code",
      "source": [
        "print(np.shape(y_test))"
      ],
      "metadata": {
        "colab": {
          "base_uri": "https://localhost:8080/"
        },
        "id": "x-kg_bSCCj2A",
        "outputId": "e28595f4-e4de-4ea9-e395-e428c21b3109"
      },
      "execution_count": null,
      "outputs": [
        {
          "output_type": "stream",
          "name": "stdout",
          "text": [
            "(12671,)\n"
          ]
        }
      ]
    },
    {
      "cell_type": "code",
      "source": [
        "from sklearn import metrics\n",
        "# Show the Accuracy, Precision, Recall, F1, etc.\n",
        "acc = metrics.accuracy_score(y_test, pred_y)\n",
        "prec= metrics.precision_score(y_test, pred_y, average='weighted')\n",
        "rec = metrics.recall_score(y_test, pred_y, average='weighted')\n",
        "f1 = metrics.f1_score(y_test, pred_y, average='weighted')\n",
        "kappa = metrics.cohen_kappa_score(y_test, pred_y)\n",
        "\n",
        "print(\"Accuracy:\", acc)\n",
        "print(\"Precision:\", prec)\n",
        "print(\"Recall:\", rec)\n",
        "print(\"F1 Score:\", f1)\n",
        "print(kappa)"
      ],
      "metadata": {
        "colab": {
          "base_uri": "https://localhost:8080/"
        },
        "id": "BMVNxDqR7Vpw",
        "outputId": "17ffb406-da09-41f0-ef21-c3f766a3c8dc"
      },
      "execution_count": null,
      "outputs": [
        {
          "output_type": "stream",
          "name": "stdout",
          "text": [
            "Accuracy: 0.8677294609738774\n",
            "Precision: 0.7530823325073998\n",
            "Recall: 0.8677294609738774\n",
            "F1 Score: 0.8063511495705868\n",
            "-7.902079019106445e-05\n"
          ]
        },
        {
          "output_type": "stream",
          "name": "stderr",
          "text": [
            "/usr/local/lib/python3.12/dist-packages/sklearn/metrics/_classification.py:1565: UndefinedMetricWarning: Precision is ill-defined and being set to 0.0 in labels with no predicted samples. Use `zero_division` parameter to control this behavior.\n",
            "  _warn_prf(average, modifier, f\"{metric.capitalize()} is\", len(result))\n"
          ]
        }
      ]
    },
    {
      "cell_type": "code",
      "source": [
        "\n",
        "from sklearn.metrics import classification_report\n",
        "print(classification_report(y_test, pred_y))"
      ],
      "metadata": {
        "colab": {
          "base_uri": "https://localhost:8080/"
        },
        "id": "8B7KnYcSsg5I",
        "outputId": "d569edcf-dafd-4e48-f170-da90e4cdfd91"
      },
      "execution_count": null,
      "outputs": [
        {
          "output_type": "stream",
          "name": "stdout",
          "text": [
            "              precision    recall  f1-score   support\n",
            "\n",
            "           0       0.00      0.00      0.00         3\n",
            "           1       0.00      0.00      0.00       153\n",
            "           3       0.00      0.00      0.00      1257\n",
            "           4       0.87      1.00      0.93     10996\n",
            "           5       0.00      0.00      0.00       262\n",
            "\n",
            "    accuracy                           0.87     12671\n",
            "   macro avg       0.17      0.20      0.19     12671\n",
            "weighted avg       0.75      0.87      0.81     12671\n",
            "\n"
          ]
        },
        {
          "output_type": "stream",
          "name": "stderr",
          "text": [
            "/usr/local/lib/python3.12/dist-packages/sklearn/metrics/_classification.py:1565: UndefinedMetricWarning: Precision is ill-defined and being set to 0.0 in labels with no predicted samples. Use `zero_division` parameter to control this behavior.\n",
            "  _warn_prf(average, modifier, f\"{metric.capitalize()} is\", len(result))\n",
            "/usr/local/lib/python3.12/dist-packages/sklearn/metrics/_classification.py:1565: UndefinedMetricWarning: Precision is ill-defined and being set to 0.0 in labels with no predicted samples. Use `zero_division` parameter to control this behavior.\n",
            "  _warn_prf(average, modifier, f\"{metric.capitalize()} is\", len(result))\n",
            "/usr/local/lib/python3.12/dist-packages/sklearn/metrics/_classification.py:1565: UndefinedMetricWarning: Precision is ill-defined and being set to 0.0 in labels with no predicted samples. Use `zero_division` parameter to control this behavior.\n",
            "  _warn_prf(average, modifier, f\"{metric.capitalize()} is\", len(result))\n"
          ]
        }
      ]
    },
    {
      "cell_type": "code",
      "source": [
        "from sklearn.metrics import roc_curve, auc\n",
        "from sklearn.preprocessing import label_binarize\n",
        "import matplotlib.pyplot as plt\n",
        "\n",
        "# Binarize the output\n",
        "y_test_binarized = label_binarize(y_test, classes=[0, 1, 3, 4, 5])\n",
        "n_classes = y_test_binarized.shape[1]\n",
        "\n",
        "# Compute ROC curve and ROC area for each class\n",
        "fpr = dict()\n",
        "tpr = dict()\n",
        "roc_auc = dict()\n",
        "for i in range(n_classes):\n",
        "    fpr[i], tpr[i], _ = roc_curve(y_test_binarized[:, i], predictions[:, i])\n",
        "    roc_auc[i] = auc(fpr[i], tpr[i])\n",
        "\n",
        "# Plot ROC curves for each class\n",
        "plt.figure(figsize=(10, 8))\n",
        "for i in range(n_classes):\n",
        "    plt.plot(fpr[i], tpr[i], label='ROC curve of class {0} (area = {1:0.2f})'.format(i, roc_auc[i]))\n",
        "\n",
        "plt.plot([0, 1], [0, 1], 'k--')\n",
        "plt.xlim([0.0, 1.0])\n",
        "plt.ylim([0.0, 1.05])\n",
        "plt.xlabel('False Positive Rate')\n",
        "plt.ylabel('True Positive Rate')\n",
        "plt.title('Receiver Operating Characteristic (ROC) Curve')\n",
        "plt.legend(loc=\"lower right\")\n",
        "plt.show()"
      ],
      "metadata": {
        "colab": {
          "base_uri": "https://localhost:8080/",
          "height": 500
        },
        "id": "7X8ZZQmwsghi",
        "outputId": "d022f00e-5133-4060-9c41-89f5ac09c506"
      },
      "execution_count": null,
      "outputs": [
        {
          "output_type": "display_data",
          "data": {
            "text/plain": [
              "<Figure size 1000x800 with 1 Axes>"
            ],
            "image/png": "[encoded data removed]"
          },
          "metadata": {}
        }
      ]
    },
    {
      "cell_type": "code",
      "source": [
        "from sklearn.metrics import classification_report\n",
        "\n",
        "print(classification_report(y_test, pred_y))"
      ],
      "metadata": {
        "colab": {
          "base_uri": "https://localhost:8080/"
        },
        "id": "YFOgu_AHsusI",
        "outputId": "025f6d4b-a3b4-49ac-dc57-d88cd3bac9b5"
      },
      "execution_count": null,
      "outputs": [
        {
          "output_type": "stream",
          "name": "stdout",
          "text": [
            "              precision    recall  f1-score   support\n",
            "\n",
            "           0       0.00      0.00      0.00         3\n",
            "           1       0.00      0.00      0.00       153\n",
            "           3       0.00      0.00      0.00      1257\n",
            "           4       0.87      1.00      0.93     10996\n",
            "           5       0.00      0.00      0.00       262\n",
            "\n",
            "    accuracy                           0.87     12671\n",
            "   macro avg       0.17      0.20      0.19     12671\n",
            "weighted avg       0.75      0.87      0.81     12671\n",
            "\n"
          ]
        },
        {
          "output_type": "stream",
          "name": "stderr",
          "text": [
            "/usr/local/lib/python3.12/dist-packages/sklearn/metrics/_classification.py:1565: UndefinedMetricWarning: Precision is ill-defined and being set to 0.0 in labels with no predicted samples. Use `zero_division` parameter to control this behavior.\n",
            "  _warn_prf(average, modifier, f\"{metric.capitalize()} is\", len(result))\n",
            "/usr/local/lib/python3.12/dist-packages/sklearn/metrics/_classification.py:1565: UndefinedMetricWarning: Precision is ill-defined and being set to 0.0 in labels with no predicted samples. Use `zero_division` parameter to control this behavior.\n",
            "  _warn_prf(average, modifier, f\"{metric.capitalize()} is\", len(result))\n",
            "/usr/local/lib/python3.12/dist-packages/sklearn/metrics/_classification.py:1565: UndefinedMetricWarning: Precision is ill-defined and being set to 0.0 in labels with no predicted samples. Use `zero_division` parameter to control this behavior.\n",
            "  _warn_prf(average, modifier, f\"{metric.capitalize()} is\", len(result))\n"
          ]
        }
      ]
    },
    {
      "cell_type": "code",
      "metadata": {
        "colab": {
          "base_uri": "https://localhost:8080/",
          "height": 272
        },
        "id": "be770d06",
        "outputId": "d4b2a480-f7d4-466e-bdde-cee1a519e9e7"
      },
      "source": [
        "display(df['time_signature'].value_counts())"
      ],
      "execution_count": null,
      "outputs": [
        {
          "output_type": "display_data",
          "data": {
            "text/plain": [
              "time_signature\n",
              "4    44989\n",
              "3     4501\n",
              "5      732\n",
              "1      451\n",
              "0       10\n",
              "Name: count, dtype: int64"
            ],
            "text/html": [
              "<div>\n",
              "<style scoped>\n",
              "    .dataframe tbody tr th:only-of-type {\n",
              "        vertical-align: middle;\n",
              "    }\n",
              "\n",
              "    .dataframe tbody tr th {\n",
              "        vertical-align: top;\n",
              "    }\n",
              "\n",
              "    .dataframe thead th {\n",
              "        text-align: right;\n",
              "    }\n",
              "</style>\n",
              "<table border=\"1\" class=\"dataframe\">\n",
              "  <thead>\n",
              "    <tr style=\"text-align: right;\">\n",
              "      <th></th>\n",
              "      <th>count</th>\n",
              "    </tr>\n",
              "    <tr>\n",
              "      <th>time_signature</th>\n",
              "      <th></th>\n",
              "    </tr>\n",
              "  </thead>\n",
              "  <tbody>\n",
              "    <tr>\n",
              "      <th>4</th>\n",
              "      <td>44989</td>\n",
              "    </tr>\n",
              "    <tr>\n",
              "      <th>3</th>\n",
              "      <td>4501</td>\n",
              "    </tr>\n",
              "    <tr>\n",
              "      <th>5</th>\n",
              "      <td>732</td>\n",
              "    </tr>\n",
              "    <tr>\n",
              "      <th>1</th>\n",
              "      <td>451</td>\n",
              "    </tr>\n",
              "    <tr>\n",
              "      <th>0</th>\n",
              "      <td>10</td>\n",
              "    </tr>\n",
              "  </tbody>\n",
              "</table>\n",
              "</div><br><label><b>dtype:</b> int64</label>"
            ]
          },
          "metadata": {}
        }
      ]
    },
    {
      "cell_type": "code",
      "source": [
        "from sklearn.metrics import classification_report\n",
        "\n",
        "print(classification_report(y_test, pred_y))"
      ],
      "metadata": {
        "colab": {
          "base_uri": "https://localhost:8080/"
        },
        "id": "WCz0Prje0KQx",
        "outputId": "f65489cd-5948-46d6-a547-66a525b0beab"
      },
      "execution_count": null,
      "outputs": [
        {
          "output_type": "stream",
          "name": "stdout",
          "text": [
            "              precision    recall  f1-score   support\n",
            "\n",
            "           0       0.00      0.00      0.00         3\n",
            "           1       0.00      0.00      0.00       153\n",
            "           3       0.00      0.00      0.00      1257\n",
            "           4       0.87      1.00      0.93     10996\n",
            "           5       0.00      0.00      0.00       262\n",
            "\n",
            "    accuracy                           0.87     12671\n",
            "   macro avg       0.17      0.20      0.19     12671\n",
            "weighted avg       0.75      0.87      0.81     12671\n",
            "\n"
          ]
        },
        {
          "output_type": "stream",
          "name": "stderr",
          "text": [
            "/usr/local/lib/python3.12/dist-packages/sklearn/metrics/_classification.py:1565: UndefinedMetricWarning: Precision is ill-defined and being set to 0.0 in labels with no predicted samples. Use `zero_division` parameter to control this behavior.\n",
            "  _warn_prf(average, modifier, f\"{metric.capitalize()} is\", len(result))\n",
            "/usr/local/lib/python3.12/dist-packages/sklearn/metrics/_classification.py:1565: UndefinedMetricWarning: Precision is ill-defined and being set to 0.0 in labels with no predicted samples. Use `zero_division` parameter to control this behavior.\n",
            "  _warn_prf(average, modifier, f\"{metric.capitalize()} is\", len(result))\n",
            "/usr/local/lib/python3.12/dist-packages/sklearn/metrics/_classification.py:1565: UndefinedMetricWarning: Precision is ill-defined and being set to 0.0 in labels with no predicted samples. Use `zero_division` parameter to control this behavior.\n",
            "  _warn_prf(average, modifier, f\"{metric.capitalize()} is\", len(result))\n"
          ]
        }
      ]
    },
    {
      "cell_type": "code",
      "source": [
        "from sklearn import metrics\n",
        "# Show the Accuracy, Precision, Recall, F1, etc.\n",
        "acc = metrics.accuracy_score(y_test, pred_y)\n",
        "prec= metrics.precision_score(y_test, pred_y, average='weighted')\n",
        "rec = metrics.recall_score(y_test, pred_y, average='weighted')\n",
        "f1 = metrics.f1_score(y_test, pred_y, average='weighted')\n",
        "kappa = metrics.cohen_kappa_score(y_test, pred_y)\n",
        "\n",
        "print(\"Accuracy:\", acc)\n",
        "print(\"Precision:\", prec)\n",
        "print(\"Recall:\", rec)\n",
        "print(\"F1 Score:\", f1)\n",
        "print(kappa)"
      ],
      "metadata": {
        "colab": {
          "base_uri": "https://localhost:8080/"
        },
        "id": "prDPyEa60avJ",
        "outputId": "d270b50b-ae8a-4228-b5f9-cfcc05b71541"
      },
      "execution_count": null,
      "outputs": [
        {
          "output_type": "stream",
          "name": "stdout",
          "text": [
            "Accuracy: 0.8677294609738774\n",
            "Precision: 0.7530823325073998\n",
            "Recall: 0.8677294609738774\n",
            "F1 Score: 0.8063511495705868\n",
            "-7.902079019106445e-05\n"
          ]
        },
        {
          "output_type": "stream",
          "name": "stderr",
          "text": [
            "/usr/local/lib/python3.12/dist-packages/sklearn/metrics/_classification.py:1565: UndefinedMetricWarning: Precision is ill-defined and being set to 0.0 in labels with no predicted samples. Use `zero_division` parameter to control this behavior.\n",
            "  _warn_prf(average, modifier, f\"{metric.capitalize()} is\", len(result))\n"
          ]
        }
      ]
    }
  ]
}