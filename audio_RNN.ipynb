{
  "nbformat": 4,
  "nbformat_minor": 0,
  "metadata": {
    "colab": {
      "provenance": [],
      "authorship_tag": "ABX9TyPe/O91R410T1QXucWLEqq7",
      "include_colab_link": true
    },
    "kernelspec": {
      "name": "python3",
      "display_name": "Python 3"
    },
    "language_info": {
      "name": "python"
    }
  },
  "cells": [
    {
      "cell_type": "markdown",
      "metadata": {
        "id": "view-in-github",
        "colab_type": "text"
      },
      "source": [
        "<a href=\"https://colab.research.google.com/github/Deepakchakra/Mini-project-audio-signal-classification-/blob/main/audio_RNN.ipynb\" target=\"_parent\"><img src=\"https://colab.research.google.com/assets/colab-badge.svg\" alt=\"Open In Colab\"/></a>"
      ]
    },
    {
      "cell_type": "code",
      "execution_count": 1,
      "metadata": {
        "id": "OX666CeQaEv-"
      },
      "outputs": [],
      "source": [
        "import numpy as np\n",
        "from tensorflow.keras.models import Sequential\n",
        "from tensorflow.keras.layers import SimpleRNN, MaxPooling1D, Flatten, Dense\n",
        "import pandas as pd"
      ]
    },
    {
      "cell_type": "code",
      "source": [
        "from google.colab import drive\n",
        "drive.mount(\"/content/drive/\")"
      ],
      "metadata": {
        "colab": {
          "base_uri": "https://localhost:8080/"
        },
        "id": "NT7EQrV2bSTi",
        "outputId": "fe9929a7-c101-4752-9fba-031a47ad81a0"
      },
      "execution_count": 4,
      "outputs": [
        {
          "output_type": "stream",
          "name": "stdout",
          "text": [
            "Mounted at /content/drive/\n"
          ]
        }
      ]
    },
    {
      "cell_type": "code",
      "source": [
        "#Import the files to Google Colab\n",
        "df = pd.read_csv('/content/drive/MyDrive/audio_data/dataset/Music Info.csv')\n",
        "\n",
        "# Show 10 first Row\n",
        "df.head(10)"
      ],
      "metadata": {
        "colab": {
          "base_uri": "https://localhost:8080/",
          "height": 828
        },
        "id": "VXK0bsEubaHM",
        "outputId": "842dcf8e-1e2c-4e7b-ec3e-a10da521a283"
      },
      "execution_count": 6,
      "outputs": [
        {
          "output_type": "execute_result",
          "data": {
            "text/plain": [
              "             track_id              name           artist  \\\n",
              "0  TRIOREW128F424EAF0    Mr. Brightside      The Killers   \n",
              "1  TRRIVDJ128F429B0E8        Wonderwall            Oasis   \n",
              "2  TROUVHL128F426C441   Come as You Are          Nirvana   \n",
              "3  TRUEIND128F93038C4       Take Me Out  Franz Ferdinand   \n",
              "4  TRLNZBD128F935E4D8             Creep        Radiohead   \n",
              "5  TRUMISQ128F9340BEE  Somebody Told Me      The Killers   \n",
              "6  TRVCCWR128F9304A30      Viva la Vida         Coldplay   \n",
              "7  TRXOGZT128F424AD74      Karma Police        Radiohead   \n",
              "8  TRMZXEW128F9341FD5     The Scientist         Coldplay   \n",
              "9  TRUJIIV12903CA8848            Clocks         Coldplay   \n",
              "\n",
              "                                 spotify_preview_url              spotify_id  \\\n",
              "0  https://p.scdn.co/mp3-preview/4d26180e6961fd46...  09ZQ5TmUG8TSL56n0knqrj   \n",
              "1  https://p.scdn.co/mp3-preview/d012e536916c927b...  06UfBBDISthj1ZJAtX4xjj   \n",
              "2  https://p.scdn.co/mp3-preview/a1c11bb1cb231031...  0keNu0t0tqsWtExGM3nT1D   \n",
              "3  https://p.scdn.co/mp3-preview/399c401370438be4...  0ancVQ9wEcHVd0RrGICTE4   \n",
              "4  https://p.scdn.co/mp3-preview/e7eb60e9466bc3a2...  01QoK9DA7VTeTSE3MNzp4I   \n",
              "5  https://p.scdn.co/mp3-preview/0d07673cfb46218a...  0FNmIQ7u45Lhdn6RHhSLix   \n",
              "6  https://p.scdn.co/mp3-preview/ab747fed1bfab2ac...  08A1lZeyLMWH58DT6aYjnC   \n",
              "7  https://p.scdn.co/mp3-preview/5a09f5390e2862af...  01puceOqImrzSfKDAcd1Ia   \n",
              "8  https://p.scdn.co/mp3-preview/95cb9df1b056d759...  0GSSsT9szp0rJkBrYkzy6s   \n",
              "9  https://p.scdn.co/mp3-preview/24c7fe858b234e3c...  0BCPKOYdS2jbQ8iyB56Zns   \n",
              "\n",
              "                                                tags genre  year  duration_ms  \\\n",
              "0  rock, alternative, indie, alternative_rock, in...   NaN  2004       222200   \n",
              "1  rock, alternative, indie, pop, alternative_roc...   NaN  2006       258613   \n",
              "2   rock, alternative, alternative_rock, 90s, grunge   RnB  1991       218920   \n",
              "3  rock, alternative, indie, alternative_rock, in...   NaN  2004       237026   \n",
              "4  rock, alternative, indie, alternative_rock, in...   RnB  2008       238640   \n",
              "5  rock, alternative, indie, pop, alternative_roc...   NaN  2005       198480   \n",
              "6  rock, alternative, indie, pop, alternative_roc...   NaN  2013       235384   \n",
              "7  rock, alternative, indie, alternative_rock, in...   NaN  1996       264066   \n",
              "8  rock, alternative, indie, pop, alternative_roc...  Rock  2007       311014   \n",
              "9  rock, alternative, indie, pop, alternative_roc...   NaN  2002       307879   \n",
              "\n",
              "   danceability  ...  key  loudness  mode  speechiness  acousticness  \\\n",
              "0         0.355  ...    1    -4.360     1       0.0746      0.001190   \n",
              "1         0.409  ...    2    -4.373     1       0.0336      0.000807   \n",
              "2         0.508  ...    4    -5.783     0       0.0400      0.000175   \n",
              "3         0.279  ...    9    -8.851     1       0.0371      0.000389   \n",
              "4         0.515  ...    7    -9.935     1       0.0369      0.010200   \n",
              "5         0.508  ...   10    -4.289     0       0.0847      0.000087   \n",
              "6         0.588  ...    8    -7.903     1       0.1050      0.153000   \n",
              "7         0.360  ...    7    -9.129     1       0.0260      0.062600   \n",
              "8         0.566  ...    5    -7.826     1       0.0242      0.715000   \n",
              "9         0.577  ...    5    -7.215     0       0.0279      0.599000   \n",
              "\n",
              "   instrumentalness  liveness  valence    tempo  time_signature  \n",
              "0          0.000000    0.0971    0.240  148.114               4  \n",
              "1          0.000000    0.2070    0.651  174.426               4  \n",
              "2          0.000459    0.0878    0.543  120.012               4  \n",
              "3          0.000655    0.1330    0.490  104.560               4  \n",
              "4          0.000141    0.1290    0.104   91.841               4  \n",
              "5          0.000643    0.0641    0.704  138.030               4  \n",
              "6          0.000000    0.0634    0.520  137.973               4  \n",
              "7          0.000092    0.1720    0.317   74.807               4  \n",
              "8          0.000014    0.1200    0.173  146.365               4  \n",
              "9          0.011500    0.1830    0.255  130.970               4  \n",
              "\n",
              "[10 rows x 21 columns]"
            ],
            "text/html": [
              "\n",
              "  <div id=\"df-d7b21c20-0e90-481a-ab1e-0184eab58e99\" class=\"colab-df-container\">\n",
              "    <div>\n",
              "<style scoped>\n",
              "    .dataframe tbody tr th:only-of-type {\n",
              "        vertical-align: middle;\n",
              "    }\n",
              "\n",
              "    .dataframe tbody tr th {\n",
              "        vertical-align: top;\n",
              "    }\n",
              "\n",
              "    .dataframe thead th {\n",
              "        text-align: right;\n",
              "    }\n",
              "</style>\n",
              "<table border=\"1\" class=\"dataframe\">\n",
              "  <thead>\n",
              "    <tr style=\"text-align: right;\">\n",
              "      <th></th>\n",
              "      <th>track_id</th>\n",
              "      <th>name</th>\n",
              "      <th>artist</th>\n",
              "      <th>spotify_preview_url</th>\n",
              "      <th>spotify_id</th>\n",
              "      <th>tags</th>\n",
              "      <th>genre</th>\n",
              "      <th>year</th>\n",
              "      <th>duration_ms</th>\n",
              "      <th>danceability</th>\n",
              "      <th>...</th>\n",
              "      <th>key</th>\n",
              "      <th>loudness</th>\n",
              "      <th>mode</th>\n",
              "      <th>speechiness</th>\n",
              "      <th>acousticness</th>\n",
              "      <th>instrumentalness</th>\n",
              "      <th>liveness</th>\n",
              "      <th>valence</th>\n",
              "      <th>tempo</th>\n",
              "      <th>time_signature</th>\n",
              "    </tr>\n",
              "  </thead>\n",
              "  <tbody>\n",
              "    <tr>\n",
              "      <th>0</th>\n",
              "      <td>TRIOREW128F424EAF0</td>\n",
              "      <td>Mr. Brightside</td>\n",
              "      <td>The Killers</td>\n",
              "      <td>https://p.scdn.co/mp3-preview/4d26180e6961fd46...</td>\n",
              "      <td>09ZQ5TmUG8TSL56n0knqrj</td>\n",
              "      <td>rock, alternative, indie, alternative_rock, in...</td>\n",
              "      <td>NaN</td>\n",
              "      <td>2004</td>\n",
              "      <td>222200</td>\n",
              "      <td>0.355</td>\n",
              "      <td>...</td>\n",
              "      <td>1</td>\n",
              "      <td>-4.360</td>\n",
              "      <td>1</td>\n",
              "      <td>0.0746</td>\n",
              "      <td>0.001190</td>\n",
              "      <td>0.000000</td>\n",
              "      <td>0.0971</td>\n",
              "      <td>0.240</td>\n",
              "      <td>148.114</td>\n",
              "      <td>4</td>\n",
              "    </tr>\n",
              "    <tr>\n",
              "      <th>1</th>\n",
              "      <td>TRRIVDJ128F429B0E8</td>\n",
              "      <td>Wonderwall</td>\n",
              "      <td>Oasis</td>\n",
              "      <td>https://p.scdn.co/mp3-preview/d012e536916c927b...</td>\n",
              "      <td>06UfBBDISthj1ZJAtX4xjj</td>\n",
              "      <td>rock, alternative, indie, pop, alternative_roc...</td>\n",
              "      <td>NaN</td>\n",
              "      <td>2006</td>\n",
              "      <td>258613</td>\n",
              "      <td>0.409</td>\n",
              "      <td>...</td>\n",
              "      <td>2</td>\n",
              "      <td>-4.373</td>\n",
              "      <td>1</td>\n",
              "      <td>0.0336</td>\n",
              "      <td>0.000807</td>\n",
              "      <td>0.000000</td>\n",
              "      <td>0.2070</td>\n",
              "      <td>0.651</td>\n",
              "      <td>174.426</td>\n",
              "      <td>4</td>\n",
              "    </tr>\n",
              "    <tr>\n",
              "      <th>2</th>\n",
              "      <td>TROUVHL128F426C441</td>\n",
              "      <td>Come as You Are</td>\n",
              "      <td>Nirvana</td>\n",
              "      <td>https://p.scdn.co/mp3-preview/a1c11bb1cb231031...</td>\n",
              "      <td>0keNu0t0tqsWtExGM3nT1D</td>\n",
              "      <td>rock, alternative, alternative_rock, 90s, grunge</td>\n",
              "      <td>RnB</td>\n",
              "      <td>1991</td>\n",
              "      <td>218920</td>\n",
              "      <td>0.508</td>\n",
              "      <td>...</td>\n",
              "      <td>4</td>\n",
              "      <td>-5.783</td>\n",
              "      <td>0</td>\n",
              "      <td>0.0400</td>\n",
              "      <td>0.000175</td>\n",
              "      <td>0.000459</td>\n",
              "      <td>0.0878</td>\n",
              "      <td>0.543</td>\n",
              "      <td>120.012</td>\n",
              "      <td>4</td>\n",
              "    </tr>\n",
              "    <tr>\n",
              "      <th>3</th>\n",
              "      <td>TRUEIND128F93038C4</td>\n",
              "      <td>Take Me Out</td>\n",
              "      <td>Franz Ferdinand</td>\n",
              "      <td>https://p.scdn.co/mp3-preview/399c401370438be4...</td>\n",
              "      <td>0ancVQ9wEcHVd0RrGICTE4</td>\n",
              "      <td>rock, alternative, indie, alternative_rock, in...</td>\n",
              "      <td>NaN</td>\n",
              "      <td>2004</td>\n",
              "      <td>237026</td>\n",
              "      <td>0.279</td>\n",
              "      <td>...</td>\n",
              "      <td>9</td>\n",
              "      <td>-8.851</td>\n",
              "      <td>1</td>\n",
              "      <td>0.0371</td>\n",
              "      <td>0.000389</td>\n",
              "      <td>0.000655</td>\n",
              "      <td>0.1330</td>\n",
              "      <td>0.490</td>\n",
              "      <td>104.560</td>\n",
              "      <td>4</td>\n",
              "    </tr>\n",
              "    <tr>\n",
              "      <th>4</th>\n",
              "      <td>TRLNZBD128F935E4D8</td>\n",
              "      <td>Creep</td>\n",
              "      <td>Radiohead</td>\n",
              "      <td>https://p.scdn.co/mp3-preview/e7eb60e9466bc3a2...</td>\n",
              "      <td>01QoK9DA7VTeTSE3MNzp4I</td>\n",
              "      <td>rock, alternative, indie, alternative_rock, in...</td>\n",
              "      <td>RnB</td>\n",
              "      <td>2008</td>\n",
              "      <td>238640</td>\n",
              "      <td>0.515</td>\n",
              "      <td>...</td>\n",
              "      <td>7</td>\n",
              "      <td>-9.935</td>\n",
              "      <td>1</td>\n",
              "      <td>0.0369</td>\n",
              "      <td>0.010200</td>\n",
              "      <td>0.000141</td>\n",
              "      <td>0.1290</td>\n",
              "      <td>0.104</td>\n",
              "      <td>91.841</td>\n",
              "      <td>4</td>\n",
              "    </tr>\n",
              "    <tr>\n",
              "      <th>5</th>\n",
              "      <td>TRUMISQ128F9340BEE</td>\n",
              "      <td>Somebody Told Me</td>\n",
              "      <td>The Killers</td>\n",
              "      <td>https://p.scdn.co/mp3-preview/0d07673cfb46218a...</td>\n",
              "      <td>0FNmIQ7u45Lhdn6RHhSLix</td>\n",
              "      <td>rock, alternative, indie, pop, alternative_roc...</td>\n",
              "      <td>NaN</td>\n",
              "      <td>2005</td>\n",
              "      <td>198480</td>\n",
              "      <td>0.508</td>\n",
              "      <td>...</td>\n",
              "      <td>10</td>\n",
              "      <td>-4.289</td>\n",
              "      <td>0</td>\n",
              "      <td>0.0847</td>\n",
              "      <td>0.000087</td>\n",
              "      <td>0.000643</td>\n",
              "      <td>0.0641</td>\n",
              "      <td>0.704</td>\n",
              "      <td>138.030</td>\n",
              "      <td>4</td>\n",
              "    </tr>\n",
              "    <tr>\n",
              "      <th>6</th>\n",
              "      <td>TRVCCWR128F9304A30</td>\n",
              "      <td>Viva la Vida</td>\n",
              "      <td>Coldplay</td>\n",
              "      <td>https://p.scdn.co/mp3-preview/ab747fed1bfab2ac...</td>\n",
              "      <td>08A1lZeyLMWH58DT6aYjnC</td>\n",
              "      <td>rock, alternative, indie, pop, alternative_roc...</td>\n",
              "      <td>NaN</td>\n",
              "      <td>2013</td>\n",
              "      <td>235384</td>\n",
              "      <td>0.588</td>\n",
              "      <td>...</td>\n",
              "      <td>8</td>\n",
              "      <td>-7.903</td>\n",
              "      <td>1</td>\n",
              "      <td>0.1050</td>\n",
              "      <td>0.153000</td>\n",
              "      <td>0.000000</td>\n",
              "      <td>0.0634</td>\n",
              "      <td>0.520</td>\n",
              "      <td>137.973</td>\n",
              "      <td>4</td>\n",
              "    </tr>\n",
              "    <tr>\n",
              "      <th>7</th>\n",
              "      <td>TRXOGZT128F424AD74</td>\n",
              "      <td>Karma Police</td>\n",
              "      <td>Radiohead</td>\n",
              "      <td>https://p.scdn.co/mp3-preview/5a09f5390e2862af...</td>\n",
              "      <td>01puceOqImrzSfKDAcd1Ia</td>\n",
              "      <td>rock, alternative, indie, alternative_rock, in...</td>\n",
              "      <td>NaN</td>\n",
              "      <td>1996</td>\n",
              "      <td>264066</td>\n",
              "      <td>0.360</td>\n",
              "      <td>...</td>\n",
              "      <td>7</td>\n",
              "      <td>-9.129</td>\n",
              "      <td>1</td>\n",
              "      <td>0.0260</td>\n",
              "      <td>0.062600</td>\n",
              "      <td>0.000092</td>\n",
              "      <td>0.1720</td>\n",
              "      <td>0.317</td>\n",
              "      <td>74.807</td>\n",
              "      <td>4</td>\n",
              "    </tr>\n",
              "    <tr>\n",
              "      <th>8</th>\n",
              "      <td>TRMZXEW128F9341FD5</td>\n",
              "      <td>The Scientist</td>\n",
              "      <td>Coldplay</td>\n",
              "      <td>https://p.scdn.co/mp3-preview/95cb9df1b056d759...</td>\n",
              "      <td>0GSSsT9szp0rJkBrYkzy6s</td>\n",
              "      <td>rock, alternative, indie, pop, alternative_roc...</td>\n",
              "      <td>Rock</td>\n",
              "      <td>2007</td>\n",
              "      <td>311014</td>\n",
              "      <td>0.566</td>\n",
              "      <td>...</td>\n",
              "      <td>5</td>\n",
              "      <td>-7.826</td>\n",
              "      <td>1</td>\n",
              "      <td>0.0242</td>\n",
              "      <td>0.715000</td>\n",
              "      <td>0.000014</td>\n",
              "      <td>0.1200</td>\n",
              "      <td>0.173</td>\n",
              "      <td>146.365</td>\n",
              "      <td>4</td>\n",
              "    </tr>\n",
              "    <tr>\n",
              "      <th>9</th>\n",
              "      <td>TRUJIIV12903CA8848</td>\n",
              "      <td>Clocks</td>\n",
              "      <td>Coldplay</td>\n",
              "      <td>https://p.scdn.co/mp3-preview/24c7fe858b234e3c...</td>\n",
              "      <td>0BCPKOYdS2jbQ8iyB56Zns</td>\n",
              "      <td>rock, alternative, indie, pop, alternative_roc...</td>\n",
              "      <td>NaN</td>\n",
              "      <td>2002</td>\n",
              "      <td>307879</td>\n",
              "      <td>0.577</td>\n",
              "      <td>...</td>\n",
              "      <td>5</td>\n",
              "      <td>-7.215</td>\n",
              "      <td>0</td>\n",
              "      <td>0.0279</td>\n",
              "      <td>0.599000</td>\n",
              "      <td>0.011500</td>\n",
              "      <td>0.1830</td>\n",
              "      <td>0.255</td>\n",
              "      <td>130.970</td>\n",
              "      <td>4</td>\n",
              "    </tr>\n",
              "  </tbody>\n",
              "</table>\n",
              "<p>10 rows × 21 columns</p>\n",
              "</div>\n",
              "    <div class=\"colab-df-buttons\">\n",
              "\n",
              "  <div class=\"colab-df-container\">\n",
              "    <button class=\"colab-df-convert\" onclick=\"convertToInteractive('df-d7b21c20-0e90-481a-ab1e-0184eab58e99')\"\n",
              "            title=\"Convert this dataframe to an interactive table.\"\n",
              "            style=\"display:none;\">\n",
              "\n",
              "  <svg xmlns=\"http://www.w3.org/2000/svg\" height=\"24px\" viewBox=\"0 -960 960 960\">\n",
              "    <path d=\"M120-120v-720h720v720H120Zm60-500h600v-160H180v160Zm220 220h160v-160H400v160Zm0 220h160v-160H400v160ZM180-400h160v-160H180v160Zm440 0h160v-160H620v160ZM180-180h160v-160H180v160Zm440 0h160v-160H620v160Z\"/>\n",
              "  </svg>\n",
              "    </button>\n",
              "\n",
              "  <style>\n",
              "    .colab-df-container {\n",
              "      display:flex;\n",
              "      gap: 12px;\n",
              "    }\n",
              "\n",
              "    .colab-df-convert {\n",
              "      background-color: #E8F0FE;\n",
              "      border: none;\n",
              "      border-radius: 50%;\n",
              "      cursor: pointer;\n",
              "      display: none;\n",
              "      fill: #1967D2;\n",
              "      height: 32px;\n",
              "      padding: 0 0 0 0;\n",
              "      width: 32px;\n",
              "    }\n",
              "\n",
              "    .colab-df-convert:hover {\n",
              "      background-color: #E2EBFA;\n",
              "      box-shadow: 0px 1px 2px rgba(60, 64, 67, 0.3), 0px 1px 3px 1px rgba(60, 64, 67, 0.15);\n",
              "      fill: #174EA6;\n",
              "    }\n",
              "\n",
              "    .colab-df-buttons div {\n",
              "      margin-bottom: 4px;\n",
              "    }\n",
              "\n",
              "    [theme=dark] .colab-df-convert {\n",
              "      background-color: #3B4455;\n",
              "      fill: #D2E3FC;\n",
              "    }\n",
              "\n",
              "    [theme=dark] .colab-df-convert:hover {\n",
              "      background-color: #434B5C;\n",
              "      box-shadow: 0px 1px 3px 1px rgba(0, 0, 0, 0.15);\n",
              "      filter: drop-shadow(0px 1px 2px rgba(0, 0, 0, 0.3));\n",
              "      fill: #FFFFFF;\n",
              "    }\n",
              "  </style>\n",
              "\n",
              "    <script>\n",
              "      const buttonEl =\n",
              "        document.querySelector('#df-d7b21c20-0e90-481a-ab1e-0184eab58e99 button.colab-df-convert');\n",
              "      buttonEl.style.display =\n",
              "        google.colab.kernel.accessAllowed ? 'block' : 'none';\n",
              "\n",
              "      async function convertToInteractive(key) {\n",
              "        const element = document.querySelector('#df-d7b21c20-0e90-481a-ab1e-0184eab58e99');\n",
              "        const dataTable =\n",
              "          await google.colab.kernel.invokeFunction('convertToInteractive',\n",
              "                                                    [key], {});\n",
              "        if (!dataTable) return;\n",
              "\n",
              "        const docLinkHtml = 'Like what you see? Visit the ' +\n",
              "          '<a target=\"_blank\" href=https://colab.research.google.com/notebooks/data_table.ipynb>data table notebook</a>'\n",
              "          + ' to learn more about interactive tables.';\n",
              "        element.innerHTML = '';\n",
              "        dataTable['output_type'] = 'display_data';\n",
              "        await google.colab.output.renderOutput(dataTable, element);\n",
              "        const docLink = document.createElement('div');\n",
              "        docLink.innerHTML = docLinkHtml;\n",
              "        element.appendChild(docLink);\n",
              "      }\n",
              "    </script>\n",
              "  </div>\n",
              "\n",
              "\n",
              "    <div id=\"df-548e2d30-b87e-4b16-a001-a553e6ae94e1\">\n",
              "      <button class=\"colab-df-quickchart\" onclick=\"quickchart('df-548e2d30-b87e-4b16-a001-a553e6ae94e1')\"\n",
              "                title=\"Suggest charts\"\n",
              "                style=\"display:none;\">\n",
              "\n",
              "<svg xmlns=\"http://www.w3.org/2000/svg\" height=\"24px\"viewBox=\"0 0 24 24\"\n",
              "     width=\"24px\">\n",
              "    <g>\n",
              "        <path d=\"M19 3H5c-1.1 0-2 .9-2 2v14c0 1.1.9 2 2 2h14c1.1 0 2-.9 2-2V5c0-1.1-.9-2-2-2zM9 17H7v-7h2v7zm4 0h-2V7h2v10zm4 0h-2v-4h2v4z\"/>\n",
              "    </g>\n",
              "</svg>\n",
              "      </button>\n",
              "\n",
              "<style>\n",
              "  .colab-df-quickchart {\n",
              "      --bg-color: #E8F0FE;\n",
              "      --fill-color: #1967D2;\n",
              "      --hover-bg-color: #E2EBFA;\n",
              "      --hover-fill-color: #174EA6;\n",
              "      --disabled-fill-color: #AAA;\n",
              "      --disabled-bg-color: #DDD;\n",
              "  }\n",
              "\n",
              "  [theme=dark] .colab-df-quickchart {\n",
              "      --bg-color: #3B4455;\n",
              "      --fill-color: #D2E3FC;\n",
              "      --hover-bg-color: #434B5C;\n",
              "      --hover-fill-color: #FFFFFF;\n",
              "      --disabled-bg-color: #3B4455;\n",
              "      --disabled-fill-color: #666;\n",
              "  }\n",
              "\n",
              "  .colab-df-quickchart {\n",
              "    background-color: var(--bg-color);\n",
              "    border: none;\n",
              "    border-radius: 50%;\n",
              "    cursor: pointer;\n",
              "    display: none;\n",
              "    fill: var(--fill-color);\n",
              "    height: 32px;\n",
              "    padding: 0;\n",
              "    width: 32px;\n",
              "  }\n",
              "\n",
              "  .colab-df-quickchart:hover {\n",
              "    background-color: var(--hover-bg-color);\n",
              "    box-shadow: 0 1px 2px rgba(60, 64, 67, 0.3), 0 1px 3px 1px rgba(60, 64, 67, 0.15);\n",
              "    fill: var(--button-hover-fill-color);\n",
              "  }\n",
              "\n",
              "  .colab-df-quickchart-complete:disabled,\n",
              "  .colab-df-quickchart-complete:disabled:hover {\n",
              "    background-color: var(--disabled-bg-color);\n",
              "    fill: var(--disabled-fill-color);\n",
              "    box-shadow: none;\n",
              "  }\n",
              "\n",
              "  .colab-df-spinner {\n",
              "    border: 2px solid var(--fill-color);\n",
              "    border-color: transparent;\n",
              "    border-bottom-color: var(--fill-color);\n",
              "    animation:\n",
              "      spin 1s steps(1) infinite;\n",
              "  }\n",
              "\n",
              "  @keyframes spin {\n",
              "    0% {\n",
              "      border-color: transparent;\n",
              "      border-bottom-color: var(--fill-color);\n",
              "      border-left-color: var(--fill-color);\n",
              "    }\n",
              "    20% {\n",
              "      border-color: transparent;\n",
              "      border-left-color: var(--fill-color);\n",
              "      border-top-color: var(--fill-color);\n",
              "    }\n",
              "    30% {\n",
              "      border-color: transparent;\n",
              "      border-left-color: var(--fill-color);\n",
              "      border-top-color: var(--fill-color);\n",
              "      border-right-color: var(--fill-color);\n",
              "    }\n",
              "    40% {\n",
              "      border-color: transparent;\n",
              "      border-right-color: var(--fill-color);\n",
              "      border-top-color: var(--fill-color);\n",
              "    }\n",
              "    60% {\n",
              "      border-color: transparent;\n",
              "      border-right-color: var(--fill-color);\n",
              "    }\n",
              "    80% {\n",
              "      border-color: transparent;\n",
              "      border-right-color: var(--fill-color);\n",
              "      border-bottom-color: var(--fill-color);\n",
              "    }\n",
              "    90% {\n",
              "      border-color: transparent;\n",
              "      border-bottom-color: var(--fill-color);\n",
              "    }\n",
              "  }\n",
              "</style>\n",
              "\n",
              "      <script>\n",
              "        async function quickchart(key) {\n",
              "          const quickchartButtonEl =\n",
              "            document.querySelector('#' + key + ' button');\n",
              "          quickchartButtonEl.disabled = true;  // To prevent multiple clicks.\n",
              "          quickchartButtonEl.classList.add('colab-df-spinner');\n",
              "          try {\n",
              "            const charts = await google.colab.kernel.invokeFunction(\n",
              "                'suggestCharts', [key], {});\n",
              "          } catch (error) {\n",
              "            console.error('Error during call to suggestCharts:', error);\n",
              "          }\n",
              "          quickchartButtonEl.classList.remove('colab-df-spinner');\n",
              "          quickchartButtonEl.classList.add('colab-df-quickchart-complete');\n",
              "        }\n",
              "        (() => {\n",
              "          let quickchartButtonEl =\n",
              "            document.querySelector('#df-548e2d30-b87e-4b16-a001-a553e6ae94e1 button');\n",
              "          quickchartButtonEl.style.display =\n",
              "            google.colab.kernel.accessAllowed ? 'block' : 'none';\n",
              "        })();\n",
              "      </script>\n",
              "    </div>\n",
              "\n",
              "    </div>\n",
              "  </div>\n"
            ],
            "application/vnd.google.colaboratory.intrinsic+json": {
              "type": "dataframe",
              "variable_name": "df"
            }
          },
          "metadata": {},
          "execution_count": 6
        }
      ]
    },
    {
      "cell_type": "code",
      "source": [
        "# Check the Data Infomation\n",
        "df.info()"
      ],
      "metadata": {
        "colab": {
          "base_uri": "https://localhost:8080/"
        },
        "id": "SQg4PdmubtAK",
        "outputId": "6c563cb9-cd8c-4a1d-d60a-bff8b723078a"
      },
      "execution_count": 7,
      "outputs": [
        {
          "output_type": "stream",
          "name": "stdout",
          "text": [
            "<class 'pandas.core.frame.DataFrame'>\n",
            "RangeIndex: 50683 entries, 0 to 50682\n",
            "Data columns (total 21 columns):\n",
            " #   Column               Non-Null Count  Dtype  \n",
            "---  ------               --------------  -----  \n",
            " 0   track_id             50683 non-null  object \n",
            " 1   name                 50683 non-null  object \n",
            " 2   artist               50683 non-null  object \n",
            " 3   spotify_preview_url  50683 non-null  object \n",
            " 4   spotify_id           50683 non-null  object \n",
            " 5   tags                 49556 non-null  object \n",
            " 6   genre                22348 non-null  object \n",
            " 7   year                 50683 non-null  int64  \n",
            " 8   duration_ms          50683 non-null  int64  \n",
            " 9   danceability         50683 non-null  float64\n",
            " 10  energy               50683 non-null  float64\n",
            " 11  key                  50683 non-null  int64  \n",
            " 12  loudness             50683 non-null  float64\n",
            " 13  mode                 50683 non-null  int64  \n",
            " 14  speechiness          50683 non-null  float64\n",
            " 15  acousticness         50683 non-null  float64\n",
            " 16  instrumentalness     50683 non-null  float64\n",
            " 17  liveness             50683 non-null  float64\n",
            " 18  valence              50683 non-null  float64\n",
            " 19  tempo                50683 non-null  float64\n",
            " 20  time_signature       50683 non-null  int64  \n",
            "dtypes: float64(9), int64(5), object(7)\n",
            "memory usage: 8.1+ MB\n"
          ]
        }
      ]
    },
    {
      "cell_type": "code",
      "source": [
        "# Selecting the Feature, by remove the unused feature\n",
        "\n",
        "feature = ['time_signature']\n",
        "x = df.drop(feature, axis=1)\n",
        "# Set The Target\n",
        "y= df[\"time_signature\"]\n"
      ],
      "metadata": {
        "id": "Vq-kFxmKb0xs"
      },
      "execution_count": 8,
      "outputs": []
    },
    {
      "cell_type": "code",
      "source": [
        "# Split Data\n",
        "from sklearn.model_selection import train_test_split, cross_val_score\n",
        "X_train, X_test, y_train, y_test = train_test_split(x, y, shuffle = False, test_size=0.25, random_state=23)"
      ],
      "metadata": {
        "id": "SeOMrgs7b39Q"
      },
      "execution_count": 9,
      "outputs": []
    },
    {
      "cell_type": "code",
      "source": [
        "from tensorflow.keras.layers import SimpleRNN\n",
        "\n",
        "model = Sequential()\n",
        "\n",
        "model.add(SimpleRNN(24,activation=\"tanh\",return_sequences=True, input_shape=(13,1))),\n",
        "model.add(SimpleRNN(12,activation=\"tanh\",return_sequences=True)),\n",
        "model.add(SimpleRNN(6,activation=\"tanh\",return_sequences=True)),\n",
        "model.add(SimpleRNN(3,activation=\"tanh\",return_sequences=False)),\n",
        "model.add(Dense(5, activation=\"softmax\"))\n",
        "\n",
        "# Compile the model\n",
        "model.compile(loss = 'sparse_categorical_crossentropy', optimizer = \"adam\", metrics = ['accuracy'])\n",
        "\n",
        "model.summary()"
      ],
      "metadata": {
        "colab": {
          "base_uri": "https://localhost:8080/",
          "height": 356
        },
        "id": "OO2H5FA7b7Cm",
        "outputId": "8f60ceb7-0e06-44cd-f2bf-e9e4b6a9caf4"
      },
      "execution_count": 10,
      "outputs": [
        {
          "output_type": "stream",
          "name": "stderr",
          "text": [
            "/usr/local/lib/python3.12/dist-packages/keras/src/layers/rnn/rnn.py:199: UserWarning: Do not pass an `input_shape`/`input_dim` argument to a layer. When using Sequential models, prefer using an `Input(shape)` object as the first layer in the model instead.\n",
            "  super().__init__(**kwargs)\n"
          ]
        },
        {
          "output_type": "display_data",
          "data": {
            "text/plain": [
              "\u001b[1mModel: \"sequential\"\u001b[0m\n"
            ],
            "text/html": [
              "<pre style=\"white-space:pre;overflow-x:auto;line-height:normal;font-family:Menlo,'DejaVu Sans Mono',consolas,'Courier New',monospace\"><span style=\"font-weight: bold\">Model: \"sequential\"</span>\n",
              "</pre>\n"
            ]
          },
          "metadata": {}
        },
        {
          "output_type": "display_data",
          "data": {
            "text/plain": [
              "┏━━━━━━━━━━━━━━━━━━━━━━━━━━━━━━━━━┳━━━━━━━━━━━━━━━━━━━━━━━━┳━━━━━━━━━━━━━━━┓\n",
              "┃\u001b[1m \u001b[0m\u001b[1mLayer (type)                   \u001b[0m\u001b[1m \u001b[0m┃\u001b[1m \u001b[0m\u001b[1mOutput Shape          \u001b[0m\u001b[1m \u001b[0m┃\u001b[1m \u001b[0m\u001b[1m      Param #\u001b[0m\u001b[1m \u001b[0m┃\n",
              "┡━━━━━━━━━━━━━━━━━━━━━━━━━━━━━━━━━╇━━━━━━━━━━━━━━━━━━━━━━━━╇━━━━━━━━━━━━━━━┩\n",
              "│ simple_rnn (\u001b[38;5;33mSimpleRNN\u001b[0m)          │ (\u001b[38;5;45mNone\u001b[0m, \u001b[38;5;34m13\u001b[0m, \u001b[38;5;34m24\u001b[0m)         │           \u001b[38;5;34m624\u001b[0m │\n",
              "├─────────────────────────────────┼────────────────────────┼───────────────┤\n",
              "│ simple_rnn_1 (\u001b[38;5;33mSimpleRNN\u001b[0m)        │ (\u001b[38;5;45mNone\u001b[0m, \u001b[38;5;34m13\u001b[0m, \u001b[38;5;34m12\u001b[0m)         │           \u001b[38;5;34m444\u001b[0m │\n",
              "├─────────────────────────────────┼────────────────────────┼───────────────┤\n",
              "│ simple_rnn_2 (\u001b[38;5;33mSimpleRNN\u001b[0m)        │ (\u001b[38;5;45mNone\u001b[0m, \u001b[38;5;34m13\u001b[0m, \u001b[38;5;34m6\u001b[0m)          │           \u001b[38;5;34m114\u001b[0m │\n",
              "├─────────────────────────────────┼────────────────────────┼───────────────┤\n",
              "│ simple_rnn_3 (\u001b[38;5;33mSimpleRNN\u001b[0m)        │ (\u001b[38;5;45mNone\u001b[0m, \u001b[38;5;34m3\u001b[0m)              │            \u001b[38;5;34m30\u001b[0m │\n",
              "├─────────────────────────────────┼────────────────────────┼───────────────┤\n",
              "│ dense (\u001b[38;5;33mDense\u001b[0m)                   │ (\u001b[38;5;45mNone\u001b[0m, \u001b[38;5;34m5\u001b[0m)              │            \u001b[38;5;34m20\u001b[0m │\n",
              "└─────────────────────────────────┴────────────────────────┴───────────────┘\n"
            ],
            "text/html": [
              "<pre style=\"white-space:pre;overflow-x:auto;line-height:normal;font-family:Menlo,'DejaVu Sans Mono',consolas,'Courier New',monospace\">┏━━━━━━━━━━━━━━━━━━━━━━━━━━━━━━━━━┳━━━━━━━━━━━━━━━━━━━━━━━━┳━━━━━━━━━━━━━━━┓\n",
              "┃<span style=\"font-weight: bold\"> Layer (type)                    </span>┃<span style=\"font-weight: bold\"> Output Shape           </span>┃<span style=\"font-weight: bold\">       Param # </span>┃\n",
              "┡━━━━━━━━━━━━━━━━━━━━━━━━━━━━━━━━━╇━━━━━━━━━━━━━━━━━━━━━━━━╇━━━━━━━━━━━━━━━┩\n",
              "│ simple_rnn (<span style=\"color: #0087ff; text-decoration-color: #0087ff\">SimpleRNN</span>)          │ (<span style=\"color: #00d7ff; text-decoration-color: #00d7ff\">None</span>, <span style=\"color: #00af00; text-decoration-color: #00af00\">13</span>, <span style=\"color: #00af00; text-decoration-color: #00af00\">24</span>)         │           <span style=\"color: #00af00; text-decoration-color: #00af00\">624</span> │\n",
              "├─────────────────────────────────┼────────────────────────┼───────────────┤\n",
              "│ simple_rnn_1 (<span style=\"color: #0087ff; text-decoration-color: #0087ff\">SimpleRNN</span>)        │ (<span style=\"color: #00d7ff; text-decoration-color: #00d7ff\">None</span>, <span style=\"color: #00af00; text-decoration-color: #00af00\">13</span>, <span style=\"color: #00af00; text-decoration-color: #00af00\">12</span>)         │           <span style=\"color: #00af00; text-decoration-color: #00af00\">444</span> │\n",
              "├─────────────────────────────────┼────────────────────────┼───────────────┤\n",
              "│ simple_rnn_2 (<span style=\"color: #0087ff; text-decoration-color: #0087ff\">SimpleRNN</span>)        │ (<span style=\"color: #00d7ff; text-decoration-color: #00d7ff\">None</span>, <span style=\"color: #00af00; text-decoration-color: #00af00\">13</span>, <span style=\"color: #00af00; text-decoration-color: #00af00\">6</span>)          │           <span style=\"color: #00af00; text-decoration-color: #00af00\">114</span> │\n",
              "├─────────────────────────────────┼────────────────────────┼───────────────┤\n",
              "│ simple_rnn_3 (<span style=\"color: #0087ff; text-decoration-color: #0087ff\">SimpleRNN</span>)        │ (<span style=\"color: #00d7ff; text-decoration-color: #00d7ff\">None</span>, <span style=\"color: #00af00; text-decoration-color: #00af00\">3</span>)              │            <span style=\"color: #00af00; text-decoration-color: #00af00\">30</span> │\n",
              "├─────────────────────────────────┼────────────────────────┼───────────────┤\n",
              "│ dense (<span style=\"color: #0087ff; text-decoration-color: #0087ff\">Dense</span>)                   │ (<span style=\"color: #00d7ff; text-decoration-color: #00d7ff\">None</span>, <span style=\"color: #00af00; text-decoration-color: #00af00\">5</span>)              │            <span style=\"color: #00af00; text-decoration-color: #00af00\">20</span> │\n",
              "└─────────────────────────────────┴────────────────────────┴───────────────┘\n",
              "</pre>\n"
            ]
          },
          "metadata": {}
        },
        {
          "output_type": "display_data",
          "data": {
            "text/plain": [
              "\u001b[1m Total params: \u001b[0m\u001b[38;5;34m1,232\u001b[0m (4.81 KB)\n"
            ],
            "text/html": [
              "<pre style=\"white-space:pre;overflow-x:auto;line-height:normal;font-family:Menlo,'DejaVu Sans Mono',consolas,'Courier New',monospace\"><span style=\"font-weight: bold\"> Total params: </span><span style=\"color: #00af00; text-decoration-color: #00af00\">1,232</span> (4.81 KB)\n",
              "</pre>\n"
            ]
          },
          "metadata": {}
        },
        {
          "output_type": "display_data",
          "data": {
            "text/plain": [
              "\u001b[1m Trainable params: \u001b[0m\u001b[38;5;34m1,232\u001b[0m (4.81 KB)\n"
            ],
            "text/html": [
              "<pre style=\"white-space:pre;overflow-x:auto;line-height:normal;font-family:Menlo,'DejaVu Sans Mono',consolas,'Courier New',monospace\"><span style=\"font-weight: bold\"> Trainable params: </span><span style=\"color: #00af00; text-decoration-color: #00af00\">1,232</span> (4.81 KB)\n",
              "</pre>\n"
            ]
          },
          "metadata": {}
        },
        {
          "output_type": "display_data",
          "data": {
            "text/plain": [
              "\u001b[1m Non-trainable params: \u001b[0m\u001b[38;5;34m0\u001b[0m (0.00 B)\n"
            ],
            "text/html": [
              "<pre style=\"white-space:pre;overflow-x:auto;line-height:normal;font-family:Menlo,'DejaVu Sans Mono',consolas,'Courier New',monospace\"><span style=\"font-weight: bold\"> Non-trainable params: </span><span style=\"color: #00af00; text-decoration-color: #00af00\">0</span> (0.00 B)\n",
              "</pre>\n"
            ]
          },
          "metadata": {}
        }
      ]
    },
    {
      "cell_type": "code",
      "source": [
        "# Compile the model\n",
        "\n",
        "model.compile(loss = 'sparse_categorical_crossentropy', optimizer = \"adam\", metrics = ['accuracy'])\n",
        "\n",
        "# Print model summary\n",
        "model.summary()"
      ],
      "metadata": {
        "colab": {
          "base_uri": "https://localhost:8080/",
          "height": 301
        },
        "id": "M2nhjJKDb-Us",
        "outputId": "a8bab4b5-9966-4ae5-cfb5-37f9d03ebbc6"
      },
      "execution_count": 11,
      "outputs": [
        {
          "output_type": "display_data",
          "data": {
            "text/plain": [
              "\u001b[1mModel: \"sequential\"\u001b[0m\n"
            ],
            "text/html": [
              "<pre style=\"white-space:pre;overflow-x:auto;line-height:normal;font-family:Menlo,'DejaVu Sans Mono',consolas,'Courier New',monospace\"><span style=\"font-weight: bold\">Model: \"sequential\"</span>\n",
              "</pre>\n"
            ]
          },
          "metadata": {}
        },
        {
          "output_type": "display_data",
          "data": {
            "text/plain": [
              "┏━━━━━━━━━━━━━━━━━━━━━━━━━━━━━━━━━┳━━━━━━━━━━━━━━━━━━━━━━━━┳━━━━━━━━━━━━━━━┓\n",
              "┃\u001b[1m \u001b[0m\u001b[1mLayer (type)                   \u001b[0m\u001b[1m \u001b[0m┃\u001b[1m \u001b[0m\u001b[1mOutput Shape          \u001b[0m\u001b[1m \u001b[0m┃\u001b[1m \u001b[0m\u001b[1m      Param #\u001b[0m\u001b[1m \u001b[0m┃\n",
              "┡━━━━━━━━━━━━━━━━━━━━━━━━━━━━━━━━━╇━━━━━━━━━━━━━━━━━━━━━━━━╇━━━━━━━━━━━━━━━┩\n",
              "│ simple_rnn (\u001b[38;5;33mSimpleRNN\u001b[0m)          │ (\u001b[38;5;45mNone\u001b[0m, \u001b[38;5;34m13\u001b[0m, \u001b[38;5;34m24\u001b[0m)         │           \u001b[38;5;34m624\u001b[0m │\n",
              "├─────────────────────────────────┼────────────────────────┼───────────────┤\n",
              "│ simple_rnn_1 (\u001b[38;5;33mSimpleRNN\u001b[0m)        │ (\u001b[38;5;45mNone\u001b[0m, \u001b[38;5;34m13\u001b[0m, \u001b[38;5;34m12\u001b[0m)         │           \u001b[38;5;34m444\u001b[0m │\n",
              "├─────────────────────────────────┼────────────────────────┼───────────────┤\n",
              "│ simple_rnn_2 (\u001b[38;5;33mSimpleRNN\u001b[0m)        │ (\u001b[38;5;45mNone\u001b[0m, \u001b[38;5;34m13\u001b[0m, \u001b[38;5;34m6\u001b[0m)          │           \u001b[38;5;34m114\u001b[0m │\n",
              "├─────────────────────────────────┼────────────────────────┼───────────────┤\n",
              "│ simple_rnn_3 (\u001b[38;5;33mSimpleRNN\u001b[0m)        │ (\u001b[38;5;45mNone\u001b[0m, \u001b[38;5;34m3\u001b[0m)              │            \u001b[38;5;34m30\u001b[0m │\n",
              "├─────────────────────────────────┼────────────────────────┼───────────────┤\n",
              "│ dense (\u001b[38;5;33mDense\u001b[0m)                   │ (\u001b[38;5;45mNone\u001b[0m, \u001b[38;5;34m5\u001b[0m)              │            \u001b[38;5;34m20\u001b[0m │\n",
              "└─────────────────────────────────┴────────────────────────┴───────────────┘\n"
            ],
            "text/html": [
              "<pre style=\"white-space:pre;overflow-x:auto;line-height:normal;font-family:Menlo,'DejaVu Sans Mono',consolas,'Courier New',monospace\">┏━━━━━━━━━━━━━━━━━━━━━━━━━━━━━━━━━┳━━━━━━━━━━━━━━━━━━━━━━━━┳━━━━━━━━━━━━━━━┓\n",
              "┃<span style=\"font-weight: bold\"> Layer (type)                    </span>┃<span style=\"font-weight: bold\"> Output Shape           </span>┃<span style=\"font-weight: bold\">       Param # </span>┃\n",
              "┡━━━━━━━━━━━━━━━━━━━━━━━━━━━━━━━━━╇━━━━━━━━━━━━━━━━━━━━━━━━╇━━━━━━━━━━━━━━━┩\n",
              "│ simple_rnn (<span style=\"color: #0087ff; text-decoration-color: #0087ff\">SimpleRNN</span>)          │ (<span style=\"color: #00d7ff; text-decoration-color: #00d7ff\">None</span>, <span style=\"color: #00af00; text-decoration-color: #00af00\">13</span>, <span style=\"color: #00af00; text-decoration-color: #00af00\">24</span>)         │           <span style=\"color: #00af00; text-decoration-color: #00af00\">624</span> │\n",
              "├─────────────────────────────────┼────────────────────────┼───────────────┤\n",
              "│ simple_rnn_1 (<span style=\"color: #0087ff; text-decoration-color: #0087ff\">SimpleRNN</span>)        │ (<span style=\"color: #00d7ff; text-decoration-color: #00d7ff\">None</span>, <span style=\"color: #00af00; text-decoration-color: #00af00\">13</span>, <span style=\"color: #00af00; text-decoration-color: #00af00\">12</span>)         │           <span style=\"color: #00af00; text-decoration-color: #00af00\">444</span> │\n",
              "├─────────────────────────────────┼────────────────────────┼───────────────┤\n",
              "│ simple_rnn_2 (<span style=\"color: #0087ff; text-decoration-color: #0087ff\">SimpleRNN</span>)        │ (<span style=\"color: #00d7ff; text-decoration-color: #00d7ff\">None</span>, <span style=\"color: #00af00; text-decoration-color: #00af00\">13</span>, <span style=\"color: #00af00; text-decoration-color: #00af00\">6</span>)          │           <span style=\"color: #00af00; text-decoration-color: #00af00\">114</span> │\n",
              "├─────────────────────────────────┼────────────────────────┼───────────────┤\n",
              "│ simple_rnn_3 (<span style=\"color: #0087ff; text-decoration-color: #0087ff\">SimpleRNN</span>)        │ (<span style=\"color: #00d7ff; text-decoration-color: #00d7ff\">None</span>, <span style=\"color: #00af00; text-decoration-color: #00af00\">3</span>)              │            <span style=\"color: #00af00; text-decoration-color: #00af00\">30</span> │\n",
              "├─────────────────────────────────┼────────────────────────┼───────────────┤\n",
              "│ dense (<span style=\"color: #0087ff; text-decoration-color: #0087ff\">Dense</span>)                   │ (<span style=\"color: #00d7ff; text-decoration-color: #00d7ff\">None</span>, <span style=\"color: #00af00; text-decoration-color: #00af00\">5</span>)              │            <span style=\"color: #00af00; text-decoration-color: #00af00\">20</span> │\n",
              "└─────────────────────────────────┴────────────────────────┴───────────────┘\n",
              "</pre>\n"
            ]
          },
          "metadata": {}
        },
        {
          "output_type": "display_data",
          "data": {
            "text/plain": [
              "\u001b[1m Total params: \u001b[0m\u001b[38;5;34m1,232\u001b[0m (4.81 KB)\n"
            ],
            "text/html": [
              "<pre style=\"white-space:pre;overflow-x:auto;line-height:normal;font-family:Menlo,'DejaVu Sans Mono',consolas,'Courier New',monospace\"><span style=\"font-weight: bold\"> Total params: </span><span style=\"color: #00af00; text-decoration-color: #00af00\">1,232</span> (4.81 KB)\n",
              "</pre>\n"
            ]
          },
          "metadata": {}
        },
        {
          "output_type": "display_data",
          "data": {
            "text/plain": [
              "\u001b[1m Trainable params: \u001b[0m\u001b[38;5;34m1,232\u001b[0m (4.81 KB)\n"
            ],
            "text/html": [
              "<pre style=\"white-space:pre;overflow-x:auto;line-height:normal;font-family:Menlo,'DejaVu Sans Mono',consolas,'Courier New',monospace\"><span style=\"font-weight: bold\"> Trainable params: </span><span style=\"color: #00af00; text-decoration-color: #00af00\">1,232</span> (4.81 KB)\n",
              "</pre>\n"
            ]
          },
          "metadata": {}
        },
        {
          "output_type": "display_data",
          "data": {
            "text/plain": [
              "\u001b[1m Non-trainable params: \u001b[0m\u001b[38;5;34m0\u001b[0m (0.00 B)\n"
            ],
            "text/html": [
              "<pre style=\"white-space:pre;overflow-x:auto;line-height:normal;font-family:Menlo,'DejaVu Sans Mono',consolas,'Courier New',monospace\"><span style=\"font-weight: bold\"> Non-trainable params: </span><span style=\"color: #00af00; text-decoration-color: #00af00\">0</span> (0.00 B)\n",
              "</pre>\n"
            ]
          },
          "metadata": {}
        }
      ]
    },
    {
      "cell_type": "code",
      "source": [
        "from sklearn.preprocessing import LabelEncoder\n",
        "\n",
        "# Select only numeric columns for training\n",
        "X_train_numeric = X_train.select_dtypes(include=np.number)\n",
        "X_test_numeric = X_test.select_dtypes(include=np.number)\n",
        "\n",
        "# Reshape data for CNN (samples, timesteps, features)\n",
        "X_train_reshaped = X_train_numeric.values.reshape(X_train_numeric.shape[0], X_train_numeric.shape[1], 1)\n",
        "X_test_reshaped = X_test_numeric.values.reshape(X_test_numeric.shape[0], X_test_numeric.shape[1], 1)\n",
        "\n",
        "# Map target labels to a contiguous range\n",
        "label_encoder = LabelEncoder()\n",
        "y_train_encoded = label_encoder.fit_transform(y_train)\n",
        "y_test_encoded = label_encoder.transform(y_test)\n",
        "\n",
        "\n",
        "history = model.fit(X_train_reshaped, y_train_encoded, epochs=100, batch_size=32, validation_split=0.2)"
      ],
      "metadata": {
        "colab": {
          "base_uri": "https://localhost:8080/"
        },
        "id": "06eOCbjkcF6U",
        "outputId": "50c49db5-e31e-4291-d200-09f74aedba0b"
      },
      "execution_count": 12,
      "outputs": [
        {
          "output_type": "stream",
          "name": "stdout",
          "text": [
            "Epoch 1/100\n",
            "\u001b[1m951/951\u001b[0m \u001b[32m━━━━━━━━━━━━━━━━━━━━\u001b[0m\u001b[37m\u001b[0m \u001b[1m25s\u001b[0m 17ms/step - accuracy: 0.8496 - loss: 0.6865 - val_accuracy: 0.9087 - val_loss: 0.3589\n",
            "Epoch 2/100\n",
            "\u001b[1m951/951\u001b[0m \u001b[32m━━━━━━━━━━━━━━━━━━━━\u001b[0m\u001b[37m\u001b[0m \u001b[1m21s\u001b[0m 17ms/step - accuracy: 0.8904 - loss: 0.4040 - val_accuracy: 0.9087 - val_loss: 0.3358\n",
            "Epoch 3/100\n",
            "\u001b[1m951/951\u001b[0m \u001b[32m━━━━━━━━━━━━━━━━━━━━\u001b[0m\u001b[37m\u001b[0m \u001b[1m15s\u001b[0m 16ms/step - accuracy: 0.8928 - loss: 0.3833 - val_accuracy: 0.9087 - val_loss: 0.3281\n",
            "Epoch 4/100\n",
            "\u001b[1m951/951\u001b[0m \u001b[32m━━━━━━━━━━━━━━━━━━━━\u001b[0m\u001b[37m\u001b[0m \u001b[1m15s\u001b[0m 16ms/step - accuracy: 0.8913 - loss: 0.3771 - val_accuracy: 0.9087 - val_loss: 0.3232\n",
            "Epoch 5/100\n",
            "\u001b[1m951/951\u001b[0m \u001b[32m━━━━━━━━━━━━━━━━━━━━\u001b[0m\u001b[37m\u001b[0m \u001b[1m15s\u001b[0m 16ms/step - accuracy: 0.8923 - loss: 0.3745 - val_accuracy: 0.9087 - val_loss: 0.3234\n",
            "Epoch 6/100\n",
            "\u001b[1m951/951\u001b[0m \u001b[32m━━━━━━━━━━━━━━━━━━━━\u001b[0m\u001b[37m\u001b[0m \u001b[1m15s\u001b[0m 15ms/step - accuracy: 0.8918 - loss: 0.3753 - val_accuracy: 0.9087 - val_loss: 0.3170\n",
            "Epoch 7/100\n",
            "\u001b[1m951/951\u001b[0m \u001b[32m━━━━━━━━━━━━━━━━━━━━\u001b[0m\u001b[37m\u001b[0m \u001b[1m14s\u001b[0m 15ms/step - accuracy: 0.8927 - loss: 0.3649 - val_accuracy: 0.9087 - val_loss: 0.3226\n",
            "Epoch 8/100\n",
            "\u001b[1m951/951\u001b[0m \u001b[32m━━━━━━━━━━━━━━━━━━━━\u001b[0m\u001b[37m\u001b[0m \u001b[1m15s\u001b[0m 15ms/step - accuracy: 0.8941 - loss: 0.3579 - val_accuracy: 0.9087 - val_loss: 0.3176\n",
            "Epoch 9/100\n",
            "\u001b[1m951/951\u001b[0m \u001b[32m━━━━━━━━━━━━━━━━━━━━\u001b[0m\u001b[37m\u001b[0m \u001b[1m15s\u001b[0m 15ms/step - accuracy: 0.8878 - loss: 0.3762 - val_accuracy: 0.9087 - val_loss: 0.3162\n",
            "Epoch 10/100\n",
            "\u001b[1m951/951\u001b[0m \u001b[32m━━━━━━━━━━━━━━━━━━━━\u001b[0m\u001b[37m\u001b[0m \u001b[1m15s\u001b[0m 15ms/step - accuracy: 0.8910 - loss: 0.3674 - val_accuracy: 0.9087 - val_loss: 0.3244\n",
            "Epoch 11/100\n",
            "\u001b[1m951/951\u001b[0m \u001b[32m━━━━━━━━━━━━━━━━━━━━\u001b[0m\u001b[37m\u001b[0m \u001b[1m15s\u001b[0m 15ms/step - accuracy: 0.8929 - loss: 0.3629 - val_accuracy: 0.9087 - val_loss: 0.3124\n",
            "Epoch 12/100\n",
            "\u001b[1m951/951\u001b[0m \u001b[32m━━━━━━━━━━━━━━━━━━━━\u001b[0m\u001b[37m\u001b[0m \u001b[1m20s\u001b[0m 15ms/step - accuracy: 0.8899 - loss: 0.3694 - val_accuracy: 0.9087 - val_loss: 0.3281\n",
            "Epoch 13/100\n",
            "\u001b[1m951/951\u001b[0m \u001b[32m━━━━━━━━━━━━━━━━━━━━\u001b[0m\u001b[37m\u001b[0m \u001b[1m15s\u001b[0m 15ms/step - accuracy: 0.8891 - loss: 0.3722 - val_accuracy: 0.9087 - val_loss: 0.3173\n",
            "Epoch 14/100\n",
            "\u001b[1m951/951\u001b[0m \u001b[32m━━━━━━━━━━━━━━━━━━━━\u001b[0m\u001b[37m\u001b[0m \u001b[1m16s\u001b[0m 17ms/step - accuracy: 0.8893 - loss: 0.3721 - val_accuracy: 0.9087 - val_loss: 0.3207\n",
            "Epoch 15/100\n",
            "\u001b[1m951/951\u001b[0m \u001b[32m━━━━━━━━━━━━━━━━━━━━\u001b[0m\u001b[37m\u001b[0m \u001b[1m15s\u001b[0m 16ms/step - accuracy: 0.8914 - loss: 0.3593 - val_accuracy: 0.9087 - val_loss: 0.3124\n",
            "Epoch 16/100\n",
            "\u001b[1m951/951\u001b[0m \u001b[32m━━━━━━━━━━━━━━━━━━━━\u001b[0m\u001b[37m\u001b[0m \u001b[1m20s\u001b[0m 15ms/step - accuracy: 0.8907 - loss: 0.3680 - val_accuracy: 0.9087 - val_loss: 0.3155\n",
            "Epoch 17/100\n",
            "\u001b[1m951/951\u001b[0m \u001b[32m━━━━━━━━━━━━━━━━━━━━\u001b[0m\u001b[37m\u001b[0m \u001b[1m15s\u001b[0m 15ms/step - accuracy: 0.8922 - loss: 0.3581 - val_accuracy: 0.9087 - val_loss: 0.3195\n",
            "Epoch 18/100\n",
            "\u001b[1m951/951\u001b[0m \u001b[32m━━━━━━━━━━━━━━━━━━━━\u001b[0m\u001b[37m\u001b[0m \u001b[1m21s\u001b[0m 16ms/step - accuracy: 0.8902 - loss: 0.3648 - val_accuracy: 0.9087 - val_loss: 0.3130\n",
            "Epoch 19/100\n",
            "\u001b[1m951/951\u001b[0m \u001b[32m━━━━━━━━━━━━━━━━━━━━\u001b[0m\u001b[37m\u001b[0m \u001b[1m20s\u001b[0m 15ms/step - accuracy: 0.8916 - loss: 0.3641 - val_accuracy: 0.9087 - val_loss: 0.3130\n",
            "Epoch 20/100\n",
            "\u001b[1m951/951\u001b[0m \u001b[32m━━━━━━━━━━━━━━━━━━━━\u001b[0m\u001b[37m\u001b[0m \u001b[1m15s\u001b[0m 16ms/step - accuracy: 0.8909 - loss: 0.3609 - val_accuracy: 0.9087 - val_loss: 0.3134\n",
            "Epoch 21/100\n",
            "\u001b[1m951/951\u001b[0m \u001b[32m━━━━━━━━━━━━━━━━━━━━\u001b[0m\u001b[37m\u001b[0m \u001b[1m14s\u001b[0m 15ms/step - accuracy: 0.8901 - loss: 0.3626 - val_accuracy: 0.9087 - val_loss: 0.3118\n",
            "Epoch 22/100\n",
            "\u001b[1m951/951\u001b[0m \u001b[32m━━━━━━━━━━━━━━━━━━━━\u001b[0m\u001b[37m\u001b[0m \u001b[1m14s\u001b[0m 15ms/step - accuracy: 0.8907 - loss: 0.3604 - val_accuracy: 0.9081 - val_loss: 0.3149\n",
            "Epoch 23/100\n",
            "\u001b[1m951/951\u001b[0m \u001b[32m━━━━━━━━━━━━━━━━━━━━\u001b[0m\u001b[37m\u001b[0m \u001b[1m15s\u001b[0m 16ms/step - accuracy: 0.8910 - loss: 0.3657 - val_accuracy: 0.9087 - val_loss: 0.3165\n",
            "Epoch 24/100\n",
            "\u001b[1m951/951\u001b[0m \u001b[32m━━━━━━━━━━━━━━━━━━━━\u001b[0m\u001b[37m\u001b[0m \u001b[1m20s\u001b[0m 15ms/step - accuracy: 0.8884 - loss: 0.3697 - val_accuracy: 0.9087 - val_loss: 0.3389\n",
            "Epoch 25/100\n",
            "\u001b[1m951/951\u001b[0m \u001b[32m━━━━━━━━━━━━━━━━━━━━\u001b[0m\u001b[37m\u001b[0m \u001b[1m15s\u001b[0m 16ms/step - accuracy: 0.8942 - loss: 0.3564 - val_accuracy: 0.9087 - val_loss: 0.3166\n",
            "Epoch 26/100\n",
            "\u001b[1m951/951\u001b[0m \u001b[32m━━━━━━━━━━━━━━━━━━━━\u001b[0m\u001b[37m\u001b[0m \u001b[1m15s\u001b[0m 16ms/step - accuracy: 0.8937 - loss: 0.3514 - val_accuracy: 0.9087 - val_loss: 0.3120\n",
            "Epoch 27/100\n",
            "\u001b[1m951/951\u001b[0m \u001b[32m━━━━━━━━━━━━━━━━━━━━\u001b[0m\u001b[37m\u001b[0m \u001b[1m20s\u001b[0m 16ms/step - accuracy: 0.8933 - loss: 0.3537 - val_accuracy: 0.9087 - val_loss: 0.3118\n",
            "Epoch 28/100\n",
            "\u001b[1m951/951\u001b[0m \u001b[32m━━━━━━━━━━━━━━━━━━━━\u001b[0m\u001b[37m\u001b[0m \u001b[1m15s\u001b[0m 15ms/step - accuracy: 0.8896 - loss: 0.3618 - val_accuracy: 0.9087 - val_loss: 0.3129\n",
            "Epoch 29/100\n",
            "\u001b[1m951/951\u001b[0m \u001b[32m━━━━━━━━━━━━━━━━━━━━\u001b[0m\u001b[37m\u001b[0m \u001b[1m15s\u001b[0m 16ms/step - accuracy: 0.8895 - loss: 0.3650 - val_accuracy: 0.9087 - val_loss: 0.3122\n",
            "Epoch 30/100\n",
            "\u001b[1m951/951\u001b[0m \u001b[32m━━━━━━━━━━━━━━━━━━━━\u001b[0m\u001b[37m\u001b[0m \u001b[1m20s\u001b[0m 15ms/step - accuracy: 0.8914 - loss: 0.3630 - val_accuracy: 0.9087 - val_loss: 0.3142\n",
            "Epoch 31/100\n",
            "\u001b[1m951/951\u001b[0m \u001b[32m━━━━━━━━━━━━━━━━━━━━\u001b[0m\u001b[37m\u001b[0m \u001b[1m21s\u001b[0m 15ms/step - accuracy: 0.8913 - loss: 0.3643 - val_accuracy: 0.9087 - val_loss: 0.3117\n",
            "Epoch 32/100\n",
            "\u001b[1m951/951\u001b[0m \u001b[32m━━━━━━━━━━━━━━━━━━━━\u001b[0m\u001b[37m\u001b[0m \u001b[1m15s\u001b[0m 16ms/step - accuracy: 0.8901 - loss: 0.3563 - val_accuracy: 0.9087 - val_loss: 0.3102\n",
            "Epoch 33/100\n",
            "\u001b[1m951/951\u001b[0m \u001b[32m━━━━━━━━━━━━━━━━━━━━\u001b[0m\u001b[37m\u001b[0m \u001b[1m15s\u001b[0m 16ms/step - accuracy: 0.8910 - loss: 0.3615 - val_accuracy: 0.9087 - val_loss: 0.3129\n",
            "Epoch 34/100\n",
            "\u001b[1m951/951\u001b[0m \u001b[32m━━━━━━━━━━━━━━━━━━━━\u001b[0m\u001b[37m\u001b[0m \u001b[1m15s\u001b[0m 15ms/step - accuracy: 0.8939 - loss: 0.3504 - val_accuracy: 0.9090 - val_loss: 0.3160\n",
            "Epoch 35/100\n",
            "\u001b[1m951/951\u001b[0m \u001b[32m━━━━━━━━━━━━━━━━━━━━\u001b[0m\u001b[37m\u001b[0m \u001b[1m15s\u001b[0m 16ms/step - accuracy: 0.8947 - loss: 0.3575 - val_accuracy: 0.9087 - val_loss: 0.3117\n",
            "Epoch 36/100\n",
            "\u001b[1m951/951\u001b[0m \u001b[32m━━━━━━━━━━━━━━━━━━━━\u001b[0m\u001b[37m\u001b[0m \u001b[1m21s\u001b[0m 16ms/step - accuracy: 0.8886 - loss: 0.3645 - val_accuracy: 0.9087 - val_loss: 0.3118\n",
            "Epoch 37/100\n",
            "\u001b[1m951/951\u001b[0m \u001b[32m━━━━━━━━━━━━━━━━━━━━\u001b[0m\u001b[37m\u001b[0m \u001b[1m15s\u001b[0m 16ms/step - accuracy: 0.8937 - loss: 0.3545 - val_accuracy: 0.9087 - val_loss: 0.3111\n",
            "Epoch 38/100\n",
            "\u001b[1m951/951\u001b[0m \u001b[32m━━━━━━━━━━━━━━━━━━━━\u001b[0m\u001b[37m\u001b[0m \u001b[1m15s\u001b[0m 16ms/step - accuracy: 0.8928 - loss: 0.3553 - val_accuracy: 0.9087 - val_loss: 0.3115\n",
            "Epoch 39/100\n",
            "\u001b[1m951/951\u001b[0m \u001b[32m━━━━━━━━━━━━━━━━━━━━\u001b[0m\u001b[37m\u001b[0m \u001b[1m20s\u001b[0m 16ms/step - accuracy: 0.8899 - loss: 0.3617 - val_accuracy: 0.9087 - val_loss: 0.3189\n",
            "Epoch 40/100\n",
            "\u001b[1m951/951\u001b[0m \u001b[32m━━━━━━━━━━━━━━━━━━━━\u001b[0m\u001b[37m\u001b[0m \u001b[1m15s\u001b[0m 15ms/step - accuracy: 0.8889 - loss: 0.3668 - val_accuracy: 0.9086 - val_loss: 0.3110\n",
            "Epoch 41/100\n",
            "\u001b[1m951/951\u001b[0m \u001b[32m━━━━━━━━━━━━━━━━━━━━\u001b[0m\u001b[37m\u001b[0m \u001b[1m21s\u001b[0m 16ms/step - accuracy: 0.8912 - loss: 0.3580 - val_accuracy: 0.9087 - val_loss: 0.3149\n",
            "Epoch 42/100\n",
            "\u001b[1m951/951\u001b[0m \u001b[32m━━━━━━━━━━━━━━━━━━━━\u001b[0m\u001b[37m\u001b[0m \u001b[1m15s\u001b[0m 16ms/step - accuracy: 0.8881 - loss: 0.3691 - val_accuracy: 0.9087 - val_loss: 0.3107\n",
            "Epoch 43/100\n",
            "\u001b[1m951/951\u001b[0m \u001b[32m━━━━━━━━━━━━━━━━━━━━\u001b[0m\u001b[37m\u001b[0m \u001b[1m15s\u001b[0m 16ms/step - accuracy: 0.8894 - loss: 0.3619 - val_accuracy: 0.9087 - val_loss: 0.3100\n",
            "Epoch 44/100\n",
            "\u001b[1m951/951\u001b[0m \u001b[32m━━━━━━━━━━━━━━━━━━━━\u001b[0m\u001b[37m\u001b[0m \u001b[1m21s\u001b[0m 16ms/step - accuracy: 0.8888 - loss: 0.3630 - val_accuracy: 0.9087 - val_loss: 0.3131\n",
            "Epoch 45/100\n",
            "\u001b[1m951/951\u001b[0m \u001b[32m━━━━━━━━━━━━━━━━━━━━\u001b[0m\u001b[37m\u001b[0m \u001b[1m14s\u001b[0m 15ms/step - accuracy: 0.8901 - loss: 0.3635 - val_accuracy: 0.9086 - val_loss: 0.3104\n",
            "Epoch 46/100\n",
            "\u001b[1m951/951\u001b[0m \u001b[32m━━━━━━━━━━━━━━━━━━━━\u001b[0m\u001b[37m\u001b[0m \u001b[1m15s\u001b[0m 16ms/step - accuracy: 0.8903 - loss: 0.3596 - val_accuracy: 0.9086 - val_loss: 0.3168\n",
            "Epoch 47/100\n",
            "\u001b[1m951/951\u001b[0m \u001b[32m━━━━━━━━━━━━━━━━━━━━\u001b[0m\u001b[37m\u001b[0m \u001b[1m15s\u001b[0m 16ms/step - accuracy: 0.8908 - loss: 0.3554 - val_accuracy: 0.9087 - val_loss: 0.3131\n",
            "Epoch 48/100\n",
            "\u001b[1m951/951\u001b[0m \u001b[32m━━━━━━━━━━━━━━━━━━━━\u001b[0m\u001b[37m\u001b[0m \u001b[1m15s\u001b[0m 15ms/step - accuracy: 0.8923 - loss: 0.3536 - val_accuracy: 0.9083 - val_loss: 0.3111\n",
            "Epoch 49/100\n",
            "\u001b[1m951/951\u001b[0m \u001b[32m━━━━━━━━━━━━━━━━━━━━\u001b[0m\u001b[37m\u001b[0m \u001b[1m15s\u001b[0m 16ms/step - accuracy: 0.8882 - loss: 0.3618 - val_accuracy: 0.9085 - val_loss: 0.3113\n",
            "Epoch 50/100\n",
            "\u001b[1m951/951\u001b[0m \u001b[32m━━━━━━━━━━━━━━━━━━━━\u001b[0m\u001b[37m\u001b[0m \u001b[1m16s\u001b[0m 16ms/step - accuracy: 0.8937 - loss: 0.3517 - val_accuracy: 0.9086 - val_loss: 0.3099\n",
            "Epoch 51/100\n",
            "\u001b[1m951/951\u001b[0m \u001b[32m━━━━━━━━━━━━━━━━━━━━\u001b[0m\u001b[37m\u001b[0m \u001b[1m15s\u001b[0m 16ms/step - accuracy: 0.8930 - loss: 0.3507 - val_accuracy: 0.9086 - val_loss: 0.3113\n",
            "Epoch 52/100\n",
            "\u001b[1m951/951\u001b[0m \u001b[32m━━━━━━━━━━━━━━━━━━━━\u001b[0m\u001b[37m\u001b[0m \u001b[1m21s\u001b[0m 16ms/step - accuracy: 0.8938 - loss: 0.3465 - val_accuracy: 0.9078 - val_loss: 0.3101\n",
            "Epoch 53/100\n",
            "\u001b[1m951/951\u001b[0m \u001b[32m━━━━━━━━━━━━━━━━━━━━\u001b[0m\u001b[37m\u001b[0m \u001b[1m15s\u001b[0m 16ms/step - accuracy: 0.8913 - loss: 0.3571 - val_accuracy: 0.9086 - val_loss: 0.3100\n",
            "Epoch 54/100\n",
            "\u001b[1m951/951\u001b[0m \u001b[32m━━━━━━━━━━━━━━━━━━━━\u001b[0m\u001b[37m\u001b[0m \u001b[1m17s\u001b[0m 18ms/step - accuracy: 0.8906 - loss: 0.3597 - val_accuracy: 0.9087 - val_loss: 0.3078\n",
            "Epoch 55/100\n",
            "\u001b[1m951/951\u001b[0m \u001b[32m━━━━━━━━━━━━━━━━━━━━\u001b[0m\u001b[37m\u001b[0m \u001b[1m15s\u001b[0m 16ms/step - accuracy: 0.8922 - loss: 0.3505 - val_accuracy: 0.9087 - val_loss: 0.3090\n",
            "Epoch 56/100\n",
            "\u001b[1m951/951\u001b[0m \u001b[32m━━━━━━━━━━━━━━━━━━━━\u001b[0m\u001b[37m\u001b[0m \u001b[1m14s\u001b[0m 15ms/step - accuracy: 0.8879 - loss: 0.3588 - val_accuracy: 0.9086 - val_loss: 0.3123\n",
            "Epoch 57/100\n",
            "\u001b[1m951/951\u001b[0m \u001b[32m━━━━━━━━━━━━━━━━━━━━\u001b[0m\u001b[37m\u001b[0m \u001b[1m15s\u001b[0m 16ms/step - accuracy: 0.8893 - loss: 0.3609 - val_accuracy: 0.9085 - val_loss: 0.3132\n",
            "Epoch 58/100\n",
            "\u001b[1m951/951\u001b[0m \u001b[32m━━━━━━━━━━━━━━━━━━━━\u001b[0m\u001b[37m\u001b[0m \u001b[1m15s\u001b[0m 16ms/step - accuracy: 0.8923 - loss: 0.3548 - val_accuracy: 0.9078 - val_loss: 0.3120\n",
            "Epoch 59/100\n",
            "\u001b[1m951/951\u001b[0m \u001b[32m━━━━━━━━━━━━━━━━━━━━\u001b[0m\u001b[37m\u001b[0m \u001b[1m14s\u001b[0m 15ms/step - accuracy: 0.8885 - loss: 0.3634 - val_accuracy: 0.9083 - val_loss: 0.3100\n",
            "Epoch 60/100\n",
            "\u001b[1m951/951\u001b[0m \u001b[32m━━━━━━━━━━━━━━━━━━━━\u001b[0m\u001b[37m\u001b[0m \u001b[1m15s\u001b[0m 15ms/step - accuracy: 0.8900 - loss: 0.3597 - val_accuracy: 0.9086 - val_loss: 0.3106\n",
            "Epoch 61/100\n",
            "\u001b[1m951/951\u001b[0m \u001b[32m━━━━━━━━━━━━━━━━━━━━\u001b[0m\u001b[37m\u001b[0m \u001b[1m20s\u001b[0m 15ms/step - accuracy: 0.8937 - loss: 0.3472 - val_accuracy: 0.9087 - val_loss: 0.3119\n",
            "Epoch 62/100\n",
            "\u001b[1m951/951\u001b[0m \u001b[32m━━━━━━━━━━━━━━━━━━━━\u001b[0m\u001b[37m\u001b[0m \u001b[1m15s\u001b[0m 15ms/step - accuracy: 0.8899 - loss: 0.3558 - val_accuracy: 0.9083 - val_loss: 0.3141\n",
            "Epoch 63/100\n",
            "\u001b[1m951/951\u001b[0m \u001b[32m━━━━━━━━━━━━━━━━━━━━\u001b[0m\u001b[37m\u001b[0m \u001b[1m16s\u001b[0m 17ms/step - accuracy: 0.8926 - loss: 0.3522 - val_accuracy: 0.9085 - val_loss: 0.3125\n",
            "Epoch 64/100\n",
            "\u001b[1m951/951\u001b[0m \u001b[32m━━━━━━━━━━━━━━━━━━━━\u001b[0m\u001b[37m\u001b[0m \u001b[1m15s\u001b[0m 15ms/step - accuracy: 0.8931 - loss: 0.3505 - val_accuracy: 0.9085 - val_loss: 0.3105\n",
            "Epoch 65/100\n",
            "\u001b[1m951/951\u001b[0m \u001b[32m━━━━━━━━━━━━━━━━━━━━\u001b[0m\u001b[37m\u001b[0m \u001b[1m21s\u001b[0m 16ms/step - accuracy: 0.8929 - loss: 0.3519 - val_accuracy: 0.9085 - val_loss: 0.3109\n",
            "Epoch 66/100\n",
            "\u001b[1m951/951\u001b[0m \u001b[32m━━━━━━━━━━━━━━━━━━━━\u001b[0m\u001b[37m\u001b[0m \u001b[1m15s\u001b[0m 16ms/step - accuracy: 0.8927 - loss: 0.3467 - val_accuracy: 0.9083 - val_loss: 0.3118\n",
            "Epoch 67/100\n",
            "\u001b[1m951/951\u001b[0m \u001b[32m━━━━━━━━━━━━━━━━━━━━\u001b[0m\u001b[37m\u001b[0m \u001b[1m25s\u001b[0m 20ms/step - accuracy: 0.8930 - loss: 0.3531 - val_accuracy: 0.9085 - val_loss: 0.3100\n",
            "Epoch 68/100\n",
            "\u001b[1m951/951\u001b[0m \u001b[32m━━━━━━━━━━━━━━━━━━━━\u001b[0m\u001b[37m\u001b[0m \u001b[1m17s\u001b[0m 17ms/step - accuracy: 0.8906 - loss: 0.3541 - val_accuracy: 0.9086 - val_loss: 0.3095\n",
            "Epoch 69/100\n",
            "\u001b[1m951/951\u001b[0m \u001b[32m━━━━━━━━━━━━━━━━━━━━\u001b[0m\u001b[37m\u001b[0m \u001b[1m18s\u001b[0m 19ms/step - accuracy: 0.8937 - loss: 0.3454 - val_accuracy: 0.9083 - val_loss: 0.3114\n",
            "Epoch 70/100\n",
            "\u001b[1m951/951\u001b[0m \u001b[32m━━━━━━━━━━━━━━━━━━━━\u001b[0m\u001b[37m\u001b[0m \u001b[1m18s\u001b[0m 19ms/step - accuracy: 0.8906 - loss: 0.3566 - val_accuracy: 0.9085 - val_loss: 0.3113\n",
            "Epoch 71/100\n",
            "\u001b[1m951/951\u001b[0m \u001b[32m━━━━━━━━━━━━━━━━━━━━\u001b[0m\u001b[37m\u001b[0m \u001b[1m22s\u001b[0m 23ms/step - accuracy: 0.8901 - loss: 0.3599 - val_accuracy: 0.9079 - val_loss: 0.3145\n",
            "Epoch 72/100\n",
            "\u001b[1m951/951\u001b[0m \u001b[32m━━━━━━━━━━━━━━━━━━━━\u001b[0m\u001b[37m\u001b[0m \u001b[1m17s\u001b[0m 18ms/step - accuracy: 0.8912 - loss: 0.3503 - val_accuracy: 0.9083 - val_loss: 0.3110\n",
            "Epoch 73/100\n",
            "\u001b[1m951/951\u001b[0m \u001b[32m━━━━━━━━━━━━━━━━━━━━\u001b[0m\u001b[37m\u001b[0m \u001b[1m17s\u001b[0m 18ms/step - accuracy: 0.8905 - loss: 0.3570 - val_accuracy: 0.9083 - val_loss: 0.3117\n",
            "Epoch 74/100\n",
            "\u001b[1m951/951\u001b[0m \u001b[32m━━━━━━━━━━━━━━━━━━━━\u001b[0m\u001b[37m\u001b[0m \u001b[1m23s\u001b[0m 24ms/step - accuracy: 0.8931 - loss: 0.3513 - val_accuracy: 0.9082 - val_loss: 0.3096\n",
            "Epoch 75/100\n",
            "\u001b[1m951/951\u001b[0m \u001b[32m━━━━━━━━━━━━━━━━━━━━\u001b[0m\u001b[37m\u001b[0m \u001b[1m18s\u001b[0m 19ms/step - accuracy: 0.8925 - loss: 0.3537 - val_accuracy: 0.9085 - val_loss: 0.3120\n",
            "Epoch 76/100\n",
            "\u001b[1m951/951\u001b[0m \u001b[32m━━━━━━━━━━━━━━━━━━━━\u001b[0m\u001b[37m\u001b[0m \u001b[1m18s\u001b[0m 16ms/step - accuracy: 0.8925 - loss: 0.3496 - val_accuracy: 0.9082 - val_loss: 0.3116\n",
            "Epoch 77/100\n",
            "\u001b[1m951/951\u001b[0m \u001b[32m━━━━━━━━━━━━━━━━━━━━\u001b[0m\u001b[37m\u001b[0m \u001b[1m15s\u001b[0m 16ms/step - accuracy: 0.8908 - loss: 0.3527 - val_accuracy: 0.9083 - val_loss: 0.3102\n",
            "Epoch 78/100\n",
            "\u001b[1m951/951\u001b[0m \u001b[32m━━━━━━━━━━━━━━━━━━━━\u001b[0m\u001b[37m\u001b[0m \u001b[1m15s\u001b[0m 16ms/step - accuracy: 0.8900 - loss: 0.3562 - val_accuracy: 0.9083 - val_loss: 0.3108\n",
            "Epoch 79/100\n",
            "\u001b[1m951/951\u001b[0m \u001b[32m━━━━━━━━━━━━━━━━━━━━\u001b[0m\u001b[37m\u001b[0m \u001b[1m15s\u001b[0m 16ms/step - accuracy: 0.8898 - loss: 0.3540 - val_accuracy: 0.9083 - val_loss: 0.3106\n",
            "Epoch 80/100\n",
            "\u001b[1m951/951\u001b[0m \u001b[32m━━━━━━━━━━━━━━━━━━━━\u001b[0m\u001b[37m\u001b[0m \u001b[1m15s\u001b[0m 16ms/step - accuracy: 0.8919 - loss: 0.3524 - val_accuracy: 0.9081 - val_loss: 0.3120\n",
            "Epoch 81/100\n",
            "\u001b[1m951/951\u001b[0m \u001b[32m━━━━━━━━━━━━━━━━━━━━\u001b[0m\u001b[37m\u001b[0m \u001b[1m15s\u001b[0m 16ms/step - accuracy: 0.8942 - loss: 0.3450 - val_accuracy: 0.9081 - val_loss: 0.3099\n",
            "Epoch 82/100\n",
            "\u001b[1m951/951\u001b[0m \u001b[32m━━━━━━━━━━━━━━━━━━━━\u001b[0m\u001b[37m\u001b[0m \u001b[1m15s\u001b[0m 15ms/step - accuracy: 0.8895 - loss: 0.3562 - val_accuracy: 0.9086 - val_loss: 0.3160\n",
            "Epoch 83/100\n",
            "\u001b[1m951/951\u001b[0m \u001b[32m━━━━━━━━━━━━━━━━━━━━\u001b[0m\u001b[37m\u001b[0m \u001b[1m16s\u001b[0m 17ms/step - accuracy: 0.8889 - loss: 0.3580 - val_accuracy: 0.9081 - val_loss: 0.3113\n",
            "Epoch 84/100\n",
            "\u001b[1m951/951\u001b[0m \u001b[32m━━━━━━━━━━━━━━━━━━━━\u001b[0m\u001b[37m\u001b[0m \u001b[1m19s\u001b[0m 16ms/step - accuracy: 0.8908 - loss: 0.3555 - val_accuracy: 0.9082 - val_loss: 0.3106\n",
            "Epoch 85/100\n",
            "\u001b[1m951/951\u001b[0m \u001b[32m━━━━━━━━━━━━━━━━━━━━\u001b[0m\u001b[37m\u001b[0m \u001b[1m21s\u001b[0m 16ms/step - accuracy: 0.8906 - loss: 0.3537 - val_accuracy: 0.9079 - val_loss: 0.3122\n",
            "Epoch 86/100\n",
            "\u001b[1m951/951\u001b[0m \u001b[32m━━━━━━━━━━━━━━━━━━━━\u001b[0m\u001b[37m\u001b[0m \u001b[1m20s\u001b[0m 16ms/step - accuracy: 0.8929 - loss: 0.3514 - val_accuracy: 0.9077 - val_loss: 0.3145\n",
            "Epoch 87/100\n",
            "\u001b[1m951/951\u001b[0m \u001b[32m━━━━━━━━━━━━━━━━━━━━\u001b[0m\u001b[37m\u001b[0m \u001b[1m14s\u001b[0m 15ms/step - accuracy: 0.8954 - loss: 0.3422 - val_accuracy: 0.9085 - val_loss: 0.3126\n",
            "Epoch 88/100\n",
            "\u001b[1m951/951\u001b[0m \u001b[32m━━━━━━━━━━━━━━━━━━━━\u001b[0m\u001b[37m\u001b[0m \u001b[1m15s\u001b[0m 16ms/step - accuracy: 0.8945 - loss: 0.3439 - val_accuracy: 0.9083 - val_loss: 0.3117\n",
            "Epoch 89/100\n",
            "\u001b[1m951/951\u001b[0m \u001b[32m━━━━━━━━━━━━━━━━━━━━\u001b[0m\u001b[37m\u001b[0m \u001b[1m15s\u001b[0m 16ms/step - accuracy: 0.8879 - loss: 0.3596 - val_accuracy: 0.9078 - val_loss: 0.3115\n",
            "Epoch 90/100\n",
            "\u001b[1m951/951\u001b[0m \u001b[32m━━━━━━━━━━━━━━━━━━━━\u001b[0m\u001b[37m\u001b[0m \u001b[1m15s\u001b[0m 16ms/step - accuracy: 0.8936 - loss: 0.3460 - val_accuracy: 0.9083 - val_loss: 0.3117\n",
            "Epoch 91/100\n",
            "\u001b[1m951/951\u001b[0m \u001b[32m━━━━━━━━━━━━━━━━━━━━\u001b[0m\u001b[37m\u001b[0m \u001b[1m15s\u001b[0m 16ms/step - accuracy: 0.8903 - loss: 0.3550 - val_accuracy: 0.9074 - val_loss: 0.3122\n",
            "Epoch 92/100\n",
            "\u001b[1m951/951\u001b[0m \u001b[32m━━━━━━━━━━━━━━━━━━━━\u001b[0m\u001b[37m\u001b[0m \u001b[1m15s\u001b[0m 16ms/step - accuracy: 0.8910 - loss: 0.3546 - val_accuracy: 0.9081 - val_loss: 0.3116\n",
            "Epoch 93/100\n",
            "\u001b[1m951/951\u001b[0m \u001b[32m━━━━━━━━━━━━━━━━━━━━\u001b[0m\u001b[37m\u001b[0m \u001b[1m15s\u001b[0m 16ms/step - accuracy: 0.8901 - loss: 0.3512 - val_accuracy: 0.9078 - val_loss: 0.3127\n",
            "Epoch 94/100\n",
            "\u001b[1m951/951\u001b[0m \u001b[32m━━━━━━━━━━━━━━━━━━━━\u001b[0m\u001b[37m\u001b[0m \u001b[1m20s\u001b[0m 16ms/step - accuracy: 0.8883 - loss: 0.3548 - val_accuracy: 0.9085 - val_loss: 0.3137\n",
            "Epoch 95/100\n",
            "\u001b[1m951/951\u001b[0m \u001b[32m━━━━━━━━━━━━━━━━━━━━\u001b[0m\u001b[37m\u001b[0m \u001b[1m15s\u001b[0m 16ms/step - accuracy: 0.8902 - loss: 0.3562 - val_accuracy: 0.9082 - val_loss: 0.3115\n",
            "Epoch 96/100\n",
            "\u001b[1m951/951\u001b[0m \u001b[32m━━━━━━━━━━━━━━━━━━━━\u001b[0m\u001b[37m\u001b[0m \u001b[1m15s\u001b[0m 16ms/step - accuracy: 0.8903 - loss: 0.3552 - val_accuracy: 0.9083 - val_loss: 0.3095\n",
            "Epoch 97/100\n",
            "\u001b[1m951/951\u001b[0m \u001b[32m━━━━━━━━━━━━━━━━━━━━\u001b[0m\u001b[37m\u001b[0m \u001b[1m15s\u001b[0m 16ms/step - accuracy: 0.8933 - loss: 0.3472 - val_accuracy: 0.9082 - val_loss: 0.3104\n",
            "Epoch 98/100\n",
            "\u001b[1m951/951\u001b[0m \u001b[32m━━━━━━━━━━━━━━━━━━━━\u001b[0m\u001b[37m\u001b[0m \u001b[1m15s\u001b[0m 16ms/step - accuracy: 0.8894 - loss: 0.3560 - val_accuracy: 0.9083 - val_loss: 0.3103\n",
            "Epoch 99/100\n",
            "\u001b[1m951/951\u001b[0m \u001b[32m━━━━━━━━━━━━━━━━━━━━\u001b[0m\u001b[37m\u001b[0m \u001b[1m15s\u001b[0m 16ms/step - accuracy: 0.8915 - loss: 0.3487 - val_accuracy: 0.9077 - val_loss: 0.3196\n",
            "Epoch 100/100\n",
            "\u001b[1m951/951\u001b[0m \u001b[32m━━━━━━━━━━━━━━━━━━━━\u001b[0m\u001b[37m\u001b[0m \u001b[1m15s\u001b[0m 16ms/step - accuracy: 0.8925 - loss: 0.3447 - val_accuracy: 0.9078 - val_loss: 0.3123\n"
          ]
        }
      ]
    },
    {
      "cell_type": "code",
      "source": [
        "import matplotlib.pyplot as plt\n",
        "\n",
        "# Plot training & validation accuracy values\n",
        "plt.figure(figsize=(12, 6))\n",
        "plt.subplot(1, 2, 1)\n",
        "plt.plot(history.history['accuracy'])\n",
        "plt.plot(history.history['val_accuracy'])\n",
        "plt.title('Model Accuracy')\n",
        "plt.ylabel('Accuracy')\n",
        "plt.xlabel('Epoch')\n",
        "plt.legend(['Train', 'Validation'], loc='upper left')\n",
        "\n",
        "# Plot training & validation loss values\n",
        "plt.subplot(1, 2, 2)\n",
        "plt.plot(history.history['loss'])\n",
        "plt.plot(history.history['val_loss'])\n",
        "plt.title('Model Loss')\n",
        "plt.ylabel('Loss')\n",
        "plt.xlabel('Epoch')\n",
        "plt.legend(['Train', 'Validation'], loc='upper left')\n",
        "\n",
        "plt.tight_layout()\n",
        "plt.show()"
      ],
      "metadata": {
        "colab": {
          "base_uri": "https://localhost:8080/",
          "height": 607
        },
        "id": "0VPnhcRDgUgm",
        "outputId": "0241be4e-33cf-4b65-af0e-0f5bffbb8f8f"
      },
      "execution_count": 13,
      "outputs": [
        {
          "output_type": "display_data",
          "data": {
            "text/plain": [
              "<Figure size 1200x600 with 2 Axes>"
            ],
            "image/png": "[encoded data removed]"
          },
          "metadata": {}
        }
      ]
    },
    {
      "cell_type": "code",
      "source": [
        "# Generate some test data\n",
        "\n",
        "# Predict on test data\n",
        "predictions = model.predict(X_test_reshaped)\n",
        "\n",
        "# Print predictions\n",
        "print(\"Predictions:\")\n",
        "print(predictions)\n",
        "\n",
        "# Evaluate the model on test data (if you have labels)\n",
        "\n",
        "loss, accuracy = model.evaluate(X_test_reshaped, y_test_encoded)\n",
        "print(f'Test loss: {loss:.4f}, Test accuracy: {accuracy:.4f}')"
      ],
      "metadata": {
        "colab": {
          "base_uri": "https://localhost:8080/"
        },
        "id": "v0ilXXDWgZZE",
        "outputId": "dcf38e20-f3bc-4022-ad90-de99f393b3ed"
      },
      "execution_count": 14,
      "outputs": [
        {
          "output_type": "stream",
          "name": "stdout",
          "text": [
            "\u001b[1m396/396\u001b[0m \u001b[32m━━━━━━━━━━━━━━━━━━━━\u001b[0m\u001b[37m\u001b[0m \u001b[1m5s\u001b[0m 10ms/step\n",
            "Predictions:\n",
            "[[1.1488344e-09 1.0520429e-02 1.9243294e-01 7.8670490e-01 1.0341671e-02]\n",
            " [6.4299045e-11 4.4272412e-03 6.4615384e-02 9.2603976e-01 4.9176156e-03]\n",
            " [3.5530979e-12 1.2169509e-03 1.0779455e-02 9.8639470e-01 1.6089824e-03]\n",
            " ...\n",
            " [1.8331678e-08 5.7110554e-03 1.7334200e-02 9.6142554e-01 1.5529203e-02]\n",
            " [1.7699753e-11 2.3466232e-03 2.4734845e-02 9.6989596e-01 3.0225799e-03]\n",
            " [5.2851434e-09 1.3820857e-02 1.5643485e-01 8.0778426e-01 2.1959987e-02]]\n",
            "\u001b[1m396/396\u001b[0m \u001b[32m━━━━━━━━━━━━━━━━━━━━\u001b[0m\u001b[37m\u001b[0m \u001b[1m2s\u001b[0m 6ms/step - accuracy: 0.8584 - loss: 0.4707\n",
            "Test loss: 0.4454, Test accuracy: 0.8674\n"
          ]
        }
      ]
    },
    {
      "cell_type": "code",
      "source": [
        "\n",
        "pred = model.predict(X_test_reshaped)\n",
        "pred_y = pred.argmax(axis=-1)"
      ],
      "metadata": {
        "colab": {
          "base_uri": "https://localhost:8080/"
        },
        "id": "_PK8ZeVbgfSR",
        "outputId": "71357d00-10c1-4ec6-af82-ee0ef0c31625"
      },
      "execution_count": 15,
      "outputs": [
        {
          "output_type": "stream",
          "name": "stdout",
          "text": [
            "\u001b[1m396/396\u001b[0m \u001b[32m━━━━━━━━━━━━━━━━━━━━\u001b[0m\u001b[37m\u001b[0m \u001b[1m2s\u001b[0m 4ms/step\n"
          ]
        }
      ]
    },
    {
      "cell_type": "code",
      "source": [
        "import numpy as np\n",
        "print(np.shape(pred_y))"
      ],
      "metadata": {
        "colab": {
          "base_uri": "https://localhost:8080/"
        },
        "id": "gj8rqs-8ghf4",
        "outputId": "53db483a-e327-418c-a203-7d81c1be6e92"
      },
      "execution_count": 16,
      "outputs": [
        {
          "output_type": "stream",
          "name": "stdout",
          "text": [
            "(12671,)\n"
          ]
        }
      ]
    },
    {
      "cell_type": "code",
      "source": [
        "from sklearn.metrics import confusion_matrix\n",
        "cm = confusion_matrix(y_test, pred_y)\n",
        "print(cm)"
      ],
      "metadata": {
        "colab": {
          "base_uri": "https://localhost:8080/"
        },
        "id": "LfKLmuVxgiJE",
        "outputId": "43720d4f-680d-47d5-ceba-710ab95ec2c7"
      },
      "execution_count": 17,
      "outputs": [
        {
          "output_type": "stream",
          "name": "stdout",
          "text": [
            "[[    2     0     1     0     0     0]\n",
            " [    0     0     1   152     0     0]\n",
            " [    0     0     0     0     0     0]\n",
            " [    0     0    18  1239     0     0]\n",
            " [    0     0    23 10971     2     0]\n",
            " [    0     0     3   259     0     0]]\n"
          ]
        }
      ]
    },
    {
      "cell_type": "code",
      "source": [
        "print(cm[:,3])"
      ],
      "metadata": {
        "colab": {
          "base_uri": "https://localhost:8080/"
        },
        "id": "idS7PU7-gkVY",
        "outputId": "d90ff64f-7eaa-4035-dbba-16ddcafbd879"
      },
      "execution_count": 18,
      "outputs": [
        {
          "output_type": "stream",
          "name": "stdout",
          "text": [
            "[    0   152     0  1239 10971   259]\n"
          ]
        }
      ]
    },
    {
      "cell_type": "code",
      "source": [
        "from sklearn.metrics import confusion_matrix, ConfusionMatrixDisplay\n",
        "disp = ConfusionMatrixDisplay.from_predictions(y_test, pred_y)\n",
        "#disp.plot()"
      ],
      "metadata": {
        "colab": {
          "base_uri": "https://localhost:8080/",
          "height": 449
        },
        "id": "o-qGhHmGgmj9",
        "outputId": "9533514f-5f85-4e1b-feaf-ff6880c8239b"
      },
      "execution_count": 19,
      "outputs": [
        {
          "output_type": "display_data",
          "data": {
            "text/plain": [
              "<Figure size 640x480 with 2 Axes>"
            ],
            "image/png": "[encoded data removed]"
          },
          "metadata": {}
        }
      ]
    },
    {
      "cell_type": "code",
      "source": [
        "print(np.shape(y_test))\n",
        "print(np.shape(pred_y))"
      ],
      "metadata": {
        "colab": {
          "base_uri": "https://localhost:8080/"
        },
        "id": "Zq70iqv7gpOU",
        "outputId": "e5bea3a1-368f-46a7-b1fa-cd6d8bd027e8"
      },
      "execution_count": 20,
      "outputs": [
        {
          "output_type": "stream",
          "name": "stdout",
          "text": [
            "(12671,)\n",
            "(12671,)\n"
          ]
        }
      ]
    },
    {
      "cell_type": "code",
      "source": [
        "print(np.shape(y_test))"
      ],
      "metadata": {
        "colab": {
          "base_uri": "https://localhost:8080/"
        },
        "id": "X9HqbBAbgrlj",
        "outputId": "fcc7c1a1-115e-406c-aefe-be834de7b954"
      },
      "execution_count": 21,
      "outputs": [
        {
          "output_type": "stream",
          "name": "stdout",
          "text": [
            "(12671,)\n"
          ]
        }
      ]
    },
    {
      "cell_type": "code",
      "source": [
        "from sklearn import metrics\n",
        "# Show the Accuracy, Precision, Recall, F1, etc.\n",
        "acc = metrics.accuracy_score(y_test, pred_y)\n",
        "prec= metrics.precision_score(y_test, pred_y, average='weighted')\n",
        "rec = metrics.recall_score(y_test, pred_y, average='weighted')\n",
        "f1 = metrics.f1_score(y_test, pred_y, average='weighted')\n",
        "kappa = metrics.cohen_kappa_score(y_test, pred_y)\n",
        "\n",
        "print(\"Accuracy:\", acc)\n",
        "print(\"Precision:\", prec)\n",
        "print(\"Recall:\", rec)\n",
        "print(\"F1 Score:\", f1)\n",
        "print(kappa)"
      ],
      "metadata": {
        "colab": {
          "base_uri": "https://localhost:8080/"
        },
        "id": "OAzy8NCQguY7",
        "outputId": "4153570f-bd74-4f8b-d46f-3c38a570389b"
      },
      "execution_count": 22,
      "outputs": [
        {
          "output_type": "stream",
          "name": "stdout",
          "text": [
            "Accuracy: 0.09809801909872938\n",
            "Precision: 0.8777838635026909\n",
            "Recall: 0.09809801909872938\n",
            "F1 Score: 0.018218305530614435\n",
            "-0.0009438323203241339\n"
          ]
        },
        {
          "output_type": "stream",
          "name": "stderr",
          "text": [
            "/usr/local/lib/python3.12/dist-packages/sklearn/metrics/_classification.py:1565: UndefinedMetricWarning: Precision is ill-defined and being set to 0.0 in labels with no predicted samples. Use `zero_division` parameter to control this behavior.\n",
            "  _warn_prf(average, modifier, f\"{metric.capitalize()} is\", len(result))\n",
            "/usr/local/lib/python3.12/dist-packages/sklearn/metrics/_classification.py:1565: UndefinedMetricWarning: Recall is ill-defined and being set to 0.0 in labels with no true samples. Use `zero_division` parameter to control this behavior.\n",
            "  _warn_prf(average, modifier, f\"{metric.capitalize()} is\", len(result))\n"
          ]
        }
      ]
    },
    {
      "cell_type": "code",
      "source": [
        "\n",
        "from sklearn.metrics import classification_report\n",
        "print(classification_report(y_test, pred_y))"
      ],
      "metadata": {
        "colab": {
          "base_uri": "https://localhost:8080/"
        },
        "id": "NdfL1FZ5gw3j",
        "outputId": "7ccb0abc-7594-48ee-f53c-1d81a317de84"
      },
      "execution_count": 23,
      "outputs": [
        {
          "output_type": "stream",
          "name": "stdout",
          "text": [
            "              precision    recall  f1-score   support\n",
            "\n",
            "           0       1.00      0.67      0.80         3\n",
            "           1       0.00      0.00      0.00       153\n",
            "           2       0.00      0.00      0.00         0\n",
            "           3       0.10      0.99      0.18      1257\n",
            "           4       1.00      0.00      0.00     10996\n",
            "           5       0.00      0.00      0.00       262\n",
            "\n",
            "    accuracy                           0.10     12671\n",
            "   macro avg       0.35      0.28      0.16     12671\n",
            "weighted avg       0.88      0.10      0.02     12671\n",
            "\n"
          ]
        },
        {
          "output_type": "stream",
          "name": "stderr",
          "text": [
            "/usr/local/lib/python3.12/dist-packages/sklearn/metrics/_classification.py:1565: UndefinedMetricWarning: Precision is ill-defined and being set to 0.0 in labels with no predicted samples. Use `zero_division` parameter to control this behavior.\n",
            "  _warn_prf(average, modifier, f\"{metric.capitalize()} is\", len(result))\n",
            "/usr/local/lib/python3.12/dist-packages/sklearn/metrics/_classification.py:1565: UndefinedMetricWarning: Recall is ill-defined and being set to 0.0 in labels with no true samples. Use `zero_division` parameter to control this behavior.\n",
            "  _warn_prf(average, modifier, f\"{metric.capitalize()} is\", len(result))\n",
            "/usr/local/lib/python3.12/dist-packages/sklearn/metrics/_classification.py:1565: UndefinedMetricWarning: Precision is ill-defined and being set to 0.0 in labels with no predicted samples. Use `zero_division` parameter to control this behavior.\n",
            "  _warn_prf(average, modifier, f\"{metric.capitalize()} is\", len(result))\n",
            "/usr/local/lib/python3.12/dist-packages/sklearn/metrics/_classification.py:1565: UndefinedMetricWarning: Recall is ill-defined and being set to 0.0 in labels with no true samples. Use `zero_division` parameter to control this behavior.\n",
            "  _warn_prf(average, modifier, f\"{metric.capitalize()} is\", len(result))\n",
            "/usr/local/lib/python3.12/dist-packages/sklearn/metrics/_classification.py:1565: UndefinedMetricWarning: Precision is ill-defined and being set to 0.0 in labels with no predicted samples. Use `zero_division` parameter to control this behavior.\n",
            "  _warn_prf(average, modifier, f\"{metric.capitalize()} is\", len(result))\n",
            "/usr/local/lib/python3.12/dist-packages/sklearn/metrics/_classification.py:1565: UndefinedMetricWarning: Recall is ill-defined and being set to 0.0 in labels with no true samples. Use `zero_division` parameter to control this behavior.\n",
            "  _warn_prf(average, modifier, f\"{metric.capitalize()} is\", len(result))\n"
          ]
        }
      ]
    },
    {
      "cell_type": "code",
      "source": [
        "from sklearn.metrics import roc_curve, auc\n",
        "from sklearn.preprocessing import label_binarize\n",
        "import matplotlib.pyplot as plt\n",
        "\n",
        "# Binarize the output\n",
        "y_test_binarized = label_binarize(y_test, classes=[0, 1, 3, 4, 5])\n",
        "n_classes = y_test_binarized.shape[1]\n",
        "\n",
        "# Compute ROC curve and ROC area for each class\n",
        "fpr = dict()\n",
        "tpr = dict()\n",
        "roc_auc = dict()\n",
        "for i in range(n_classes):\n",
        "    fpr[i], tpr[i], _ = roc_curve(y_test_binarized[:, i], predictions[:, i])\n",
        "    roc_auc[i] = auc(fpr[i], tpr[i])\n",
        "\n",
        "# Plot ROC curves for each class\n",
        "plt.figure(figsize=(10, 8))\n",
        "for i in range(n_classes):\n",
        "    plt.plot(fpr[i], tpr[i], label='ROC curve of class {0} (area = {1:0.2f})'.format(i, roc_auc[i]))\n",
        "\n",
        "plt.plot([0, 1], [0, 1], 'k--')\n",
        "plt.xlim([0.0, 1.0])\n",
        "plt.ylim([0.0, 1.05])\n",
        "plt.xlabel('False Positive Rate')\n",
        "plt.ylabel('True Positive Rate')\n",
        "plt.title('Receiver Operating Characteristic (ROC) Curve')\n",
        "plt.legend(loc=\"lower right\")\n",
        "plt.show()"
      ],
      "metadata": {
        "colab": {
          "base_uri": "https://localhost:8080/",
          "height": 718
        },
        "id": "0m9NDGPPgzYW",
        "outputId": "2d879750-09d3-4e96-8c19-014ffea7cbd3"
      },
      "execution_count": 24,
      "outputs": [
        {
          "output_type": "display_data",
          "data": {
            "text/plain": [
              "<Figure size 1000x800 with 1 Axes>"
            ],
            "image/png": "[encoded data removed]"
          },
          "metadata": {}
        }
      ]
    },
    {
      "cell_type": "code",
      "source": [
        "from sklearn.metrics import classification_report\n",
        "\n",
        "print(classification_report(y_test, pred_y))"
      ],
      "metadata": {
        "colab": {
          "base_uri": "https://localhost:8080/"
        },
        "id": "HolnwKYJg2uT",
        "outputId": "4af483b3-c132-4a28-f60e-2468001870d0"
      },
      "execution_count": 25,
      "outputs": [
        {
          "output_type": "stream",
          "name": "stdout",
          "text": [
            "              precision    recall  f1-score   support\n",
            "\n",
            "           0       1.00      0.67      0.80         3\n",
            "           1       0.00      0.00      0.00       153\n",
            "           2       0.00      0.00      0.00         0\n",
            "           3       0.10      0.99      0.18      1257\n",
            "           4       1.00      0.00      0.00     10996\n",
            "           5       0.00      0.00      0.00       262\n",
            "\n",
            "    accuracy                           0.10     12671\n",
            "   macro avg       0.35      0.28      0.16     12671\n",
            "weighted avg       0.88      0.10      0.02     12671\n",
            "\n"
          ]
        },
        {
          "output_type": "stream",
          "name": "stderr",
          "text": [
            "/usr/local/lib/python3.12/dist-packages/sklearn/metrics/_classification.py:1565: UndefinedMetricWarning: Precision is ill-defined and being set to 0.0 in labels with no predicted samples. Use `zero_division` parameter to control this behavior.\n",
            "  _warn_prf(average, modifier, f\"{metric.capitalize()} is\", len(result))\n",
            "/usr/local/lib/python3.12/dist-packages/sklearn/metrics/_classification.py:1565: UndefinedMetricWarning: Recall is ill-defined and being set to 0.0 in labels with no true samples. Use `zero_division` parameter to control this behavior.\n",
            "  _warn_prf(average, modifier, f\"{metric.capitalize()} is\", len(result))\n",
            "/usr/local/lib/python3.12/dist-packages/sklearn/metrics/_classification.py:1565: UndefinedMetricWarning: Precision is ill-defined and being set to 0.0 in labels with no predicted samples. Use `zero_division` parameter to control this behavior.\n",
            "  _warn_prf(average, modifier, f\"{metric.capitalize()} is\", len(result))\n",
            "/usr/local/lib/python3.12/dist-packages/sklearn/metrics/_classification.py:1565: UndefinedMetricWarning: Recall is ill-defined and being set to 0.0 in labels with no true samples. Use `zero_division` parameter to control this behavior.\n",
            "  _warn_prf(average, modifier, f\"{metric.capitalize()} is\", len(result))\n",
            "/usr/local/lib/python3.12/dist-packages/sklearn/metrics/_classification.py:1565: UndefinedMetricWarning: Precision is ill-defined and being set to 0.0 in labels with no predicted samples. Use `zero_division` parameter to control this behavior.\n",
            "  _warn_prf(average, modifier, f\"{metric.capitalize()} is\", len(result))\n",
            "/usr/local/lib/python3.12/dist-packages/sklearn/metrics/_classification.py:1565: UndefinedMetricWarning: Recall is ill-defined and being set to 0.0 in labels with no true samples. Use `zero_division` parameter to control this behavior.\n",
            "  _warn_prf(average, modifier, f\"{metric.capitalize()} is\", len(result))\n"
          ]
        }
      ]
    },
    {
      "cell_type": "code",
      "source": [
        "display(df['time_signature'].value_counts())"
      ],
      "metadata": {
        "colab": {
          "base_uri": "https://localhost:8080/",
          "height": 272
        },
        "id": "5UySQZ72g5le",
        "outputId": "acb8504d-7d57-46ea-bd80-5a1d8163f1a0"
      },
      "execution_count": 26,
      "outputs": [
        {
          "output_type": "display_data",
          "data": {
            "text/plain": [
              "time_signature\n",
              "4    44989\n",
              "3     4501\n",
              "5      732\n",
              "1      451\n",
              "0       10\n",
              "Name: count, dtype: int64"
            ],
            "text/html": [
              "<div>\n",
              "<style scoped>\n",
              "    .dataframe tbody tr th:only-of-type {\n",
              "        vertical-align: middle;\n",
              "    }\n",
              "\n",
              "    .dataframe tbody tr th {\n",
              "        vertical-align: top;\n",
              "    }\n",
              "\n",
              "    .dataframe thead th {\n",
              "        text-align: right;\n",
              "    }\n",
              "</style>\n",
              "<table border=\"1\" class=\"dataframe\">\n",
              "  <thead>\n",
              "    <tr style=\"text-align: right;\">\n",
              "      <th></th>\n",
              "      <th>count</th>\n",
              "    </tr>\n",
              "    <tr>\n",
              "      <th>time_signature</th>\n",
              "      <th></th>\n",
              "    </tr>\n",
              "  </thead>\n",
              "  <tbody>\n",
              "    <tr>\n",
              "      <th>4</th>\n",
              "      <td>44989</td>\n",
              "    </tr>\n",
              "    <tr>\n",
              "      <th>3</th>\n",
              "      <td>4501</td>\n",
              "    </tr>\n",
              "    <tr>\n",
              "      <th>5</th>\n",
              "      <td>732</td>\n",
              "    </tr>\n",
              "    <tr>\n",
              "      <th>1</th>\n",
              "      <td>451</td>\n",
              "    </tr>\n",
              "    <tr>\n",
              "      <th>0</th>\n",
              "      <td>10</td>\n",
              "    </tr>\n",
              "  </tbody>\n",
              "</table>\n",
              "</div><br><label><b>dtype:</b> int64</label>"
            ]
          },
          "metadata": {}
        }
      ]
    },
    {
      "cell_type": "code",
      "source": [
        "from sklearn.metrics import classification_report\n",
        "\n",
        "print(classification_report(y_test, pred_y))"
      ],
      "metadata": {
        "colab": {
          "base_uri": "https://localhost:8080/"
        },
        "id": "pSuLGEPxg8A7",
        "outputId": "1fa0a245-d69b-408e-d9b8-dfda39829a6a"
      },
      "execution_count": 27,
      "outputs": [
        {
          "output_type": "stream",
          "name": "stdout",
          "text": [
            "              precision    recall  f1-score   support\n",
            "\n",
            "           0       1.00      0.67      0.80         3\n",
            "           1       0.00      0.00      0.00       153\n",
            "           2       0.00      0.00      0.00         0\n",
            "           3       0.10      0.99      0.18      1257\n",
            "           4       1.00      0.00      0.00     10996\n",
            "           5       0.00      0.00      0.00       262\n",
            "\n",
            "    accuracy                           0.10     12671\n",
            "   macro avg       0.35      0.28      0.16     12671\n",
            "weighted avg       0.88      0.10      0.02     12671\n",
            "\n"
          ]
        },
        {
          "output_type": "stream",
          "name": "stderr",
          "text": [
            "/usr/local/lib/python3.12/dist-packages/sklearn/metrics/_classification.py:1565: UndefinedMetricWarning: Precision is ill-defined and being set to 0.0 in labels with no predicted samples. Use `zero_division` parameter to control this behavior.\n",
            "  _warn_prf(average, modifier, f\"{metric.capitalize()} is\", len(result))\n",
            "/usr/local/lib/python3.12/dist-packages/sklearn/metrics/_classification.py:1565: UndefinedMetricWarning: Recall is ill-defined and being set to 0.0 in labels with no true samples. Use `zero_division` parameter to control this behavior.\n",
            "  _warn_prf(average, modifier, f\"{metric.capitalize()} is\", len(result))\n",
            "/usr/local/lib/python3.12/dist-packages/sklearn/metrics/_classification.py:1565: UndefinedMetricWarning: Precision is ill-defined and being set to 0.0 in labels with no predicted samples. Use `zero_division` parameter to control this behavior.\n",
            "  _warn_prf(average, modifier, f\"{metric.capitalize()} is\", len(result))\n",
            "/usr/local/lib/python3.12/dist-packages/sklearn/metrics/_classification.py:1565: UndefinedMetricWarning: Recall is ill-defined and being set to 0.0 in labels with no true samples. Use `zero_division` parameter to control this behavior.\n",
            "  _warn_prf(average, modifier, f\"{metric.capitalize()} is\", len(result))\n",
            "/usr/local/lib/python3.12/dist-packages/sklearn/metrics/_classification.py:1565: UndefinedMetricWarning: Precision is ill-defined and being set to 0.0 in labels with no predicted samples. Use `zero_division` parameter to control this behavior.\n",
            "  _warn_prf(average, modifier, f\"{metric.capitalize()} is\", len(result))\n",
            "/usr/local/lib/python3.12/dist-packages/sklearn/metrics/_classification.py:1565: UndefinedMetricWarning: Recall is ill-defined and being set to 0.0 in labels with no true samples. Use `zero_division` parameter to control this behavior.\n",
            "  _warn_prf(average, modifier, f\"{metric.capitalize()} is\", len(result))\n"
          ]
        }
      ]
    },
    {
      "cell_type": "code",
      "source": [
        "from sklearn import metrics\n",
        "# Show the Accuracy, Precision, Recall, F1, etc.\n",
        "acc = metrics.accuracy_score(y_test, pred_y)\n",
        "prec= metrics.precision_score(y_test, pred_y, average='weighted')\n",
        "rec = metrics.recall_score(y_test, pred_y, average='weighted')\n",
        "f1 = metrics.f1_score(y_test, pred_y, average='weighted')\n",
        "kappa = metrics.cohen_kappa_score(y_test, pred_y)\n",
        "\n",
        "print(\"Accuracy:\", acc)\n",
        "print(\"Precision:\", prec)\n",
        "print(\"Recall:\", rec)\n",
        "print(\"F1 Score:\", f1)\n",
        "print(kappa)"
      ],
      "metadata": {
        "colab": {
          "base_uri": "https://localhost:8080/"
        },
        "id": "VOdeOBM1g-EO",
        "outputId": "6a2766c8-56f8-4c99-9c95-fba36544964d"
      },
      "execution_count": 28,
      "outputs": [
        {
          "output_type": "stream",
          "name": "stdout",
          "text": [
            "Accuracy: 0.09809801909872938\n",
            "Precision: 0.8777838635026909\n",
            "Recall: 0.09809801909872938\n",
            "F1 Score: 0.018218305530614435\n",
            "-0.0009438323203241339\n"
          ]
        },
        {
          "output_type": "stream",
          "name": "stderr",
          "text": [
            "/usr/local/lib/python3.12/dist-packages/sklearn/metrics/_classification.py:1565: UndefinedMetricWarning: Precision is ill-defined and being set to 0.0 in labels with no predicted samples. Use `zero_division` parameter to control this behavior.\n",
            "  _warn_prf(average, modifier, f\"{metric.capitalize()} is\", len(result))\n",
            "/usr/local/lib/python3.12/dist-packages/sklearn/metrics/_classification.py:1565: UndefinedMetricWarning: Recall is ill-defined and being set to 0.0 in labels with no true samples. Use `zero_division` parameter to control this behavior.\n",
            "  _warn_prf(average, modifier, f\"{metric.capitalize()} is\", len(result))\n"
          ]
        }
      ]
    }
  ]
}